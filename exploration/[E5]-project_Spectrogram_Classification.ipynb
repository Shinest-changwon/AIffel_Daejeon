{
 "cells": [
  {
   "cell_type": "markdown",
   "id": "killing-article",
   "metadata": {},
   "source": [
    "[E5]-project_Spectrogram_Classification\n",
    "===\n",
    " ---\n",
    "\n",
    "<br/>\n",
    "\n",
    "\n",
    "### 서론\n",
    "\n",
    "Google Assistant, Siri, Bixby 등 우리들의 음성을 인식하는 비서들은 우리 생활에서 흔히 볼 수 있다. 이들이 어떤 방법으로 음성을 인식하고 분류하는지 여러가지 모델을 통해 살펴보자.\n",
    "\n",
    "<br/>\n",
    "\n",
    "\n",
    "![음성인식](https://user-images.githubusercontent.com/70703320/105654977-7e642e00-5f02-11eb-9a9e-8feb242ef3c4.jpg)\n",
    "\\[사진 출처: 미스터후스더보스 유튜브\\]\n",
    "\n",
    "\n",
    "<br/>\n",
    "\n",
    "\n",
    "### 목표\n",
    "- 오디오 데이터, 1차원 wave 형식 데이터를 STFT(Short Time Fourier Transform)을 통하여 2차원으로 변환하여 Spectrogram classification 모델을 구현해보자.\n",
    "- Skip connection 모델을 추가하여 어떤 차이가 있는지 확인해보자.\n",
    "- Conv1d layer가 아닌 Conv2d layer를 사용해보려는 시도도 해보자.\n",
    "\n",
    " \n",
    "\n",
    "<br/>\n",
    "\n",
    "### 데이터셋 정보 \n",
    "- [캐글의 음성 인식 챌린지 데이터](https://www.kaggle.com/c/tensorflow-speech-recognition-challenge) \n",
    "\n",
    "- [음성 파일에 대해 구체적으로 알고 싶다면 클릭](https://biology-statistics-programming.tistory.com/39?category=955669)\n",
    "\n",
    "<br/>\n",
    "\n",
    "\n",
    "### 목차\n",
    "1. 데이터 준비\n",
    "- 1-1. 데이터 경로 설정 후 불러오기 \n",
    "- 1-2. 데이터셋 살펴보기\n",
    "- 1-3. 데이터 확인해보기\n",
    "    - 1) wav_vals데이터 수 만큼에서 하나를 랜덤으로 추출\n",
    "    - 2) wav2spec 함수 정의\n",
    "    - 3) 랜덤으로 추출된 하나의 데이터 모양 확인하기 (wav)\n",
    "    - 4) 랜덤으로 추출된 하나의 데이터 모양 확인하기 (spec)\n",
    "    - 5) label로 확인하고 소리로 들어보기\n",
    "    - 6) 스펙트로그램 시각화\n",
    "2. Train/Test 데이터셋 구성하기\n",
    "- 2-1. 라벨 데이터 처리\n",
    "    - 1) label_list(\\['yes', 'no', 'up', 'down', 'left', 'right', 'on', 'off', 'stop', 'go'\\])에 unknown과 silence 추가하기\n",
    "    - 2) dictionary 형태로 전환\n",
    "    - 3) label 데이터를 숫자로 변환하여 더 쉽게 사용\n",
    "- 2-2. 1차원의 Waveform 데이터가 2차원의 Spectrogram 데이터로 변환\n",
    "    - wav2spec을 통해 2차원으로 변환\n",
    "- 2-3. 학습을 위한 데이터 분리\n",
    "    - 1) Train : Test = 9 : 1의 비율로 분리하기\n",
    "    - 2) train_spec, test_spec을 reshape해주기\n",
    "    - 3) 나눠진 데이터셋 확인\n",
    "    - 4) Hyper-parameter (batch_size와 max_epochs) 설정해주기\n",
    "- 2-4. 데이터 세팅\n",
    "    - 1) map 함수에 넘겨줄 데이터 전처리 함수\n",
    "    - 2) tf.data.Datset함수\n",
    "3. Conv1D layer를 이용해서 모델 구현\n",
    "- 3-1. 모델 구성 (Conv1D layer)\n",
    "- 3-2. loss 설정 - 12개의 Class 이므로 multi-class classification \n",
    "- 3-3. callback 함수로 학습 중간 원하는 동작을 하도록 설정할 수 있음\n",
    "- 3-4. model fitting하기\n",
    "- 3-5. 학습 결과 Plotting 하기\n",
    "- 3-6. evaluation\n",
    "- 3-7. test data를 평가하기 \n",
    "    - 1) loss\n",
    "    - 2) accuracy  \n",
    "4. Skip-Connection model 구현\n",
    "- 4-1. 모델 구성 (skip-connection)\n",
    "- 4-2. loss 설정 - 12개의 Class 이므로 multi-class classification \n",
    "- 4-3. callback 함수로 학습 중간 원하는 동작을 하도록 설정할 수 있음\n",
    "- 4-4. model fitting하기\n",
    "- 4-5. 학습 결과 Plotting 하기\n",
    "- 4-6. evaluation\n",
    "- 4-7. test data를 평가하기 \n",
    "    - 1) loss\n",
    "    - 2) accuracy  \n",
    "5. Conv2d layer model 구현\n",
    "- 5-1. 모델 구성 (Conv2d layer model)\n",
    "- 5-2. loss 설정 - 12개의 Class 이므로 multi-class classification \n",
    "- 5-3. callback 함수로 학습 중간 원하는 동작을 하도록 설정할 수 있음\n",
    "- 5-4. model fitting하기\n",
    "- 5-5. 학습 결과 Plotting 하기\n",
    "- 5-6. evaluation\n",
    "- 5-7. test data를 평가하기 \n",
    "    - 1) loss\n",
    "    - 2) accurac\n",
    "6. 모델별 비교\n",
    "7. 회고\n",
    "8. 루브릭\n",
    "---\n",
    "\n",
    "## 1. 데이터 준비\n",
    "\n",
    "### 1-1. 데이터 경로 설정 후 불러오기\n"
   ]
  },
  {
   "cell_type": "code",
   "execution_count": 1,
   "id": "european-solid",
   "metadata": {},
   "outputs": [],
   "source": [
    "import numpy as np\n",
    "import os\n",
    "\n",
    "data_path = os.getenv(\"HOME\")+'/aiffel/speech_recognition/data/speech_wav_8000.npz'\n",
    "speech_data = np.load(data_path)"
   ]
  },
  {
   "cell_type": "markdown",
   "id": "pointed-fisher",
   "metadata": {},
   "source": [
    "### 1-2. 데이터셋 살펴보기"
   ]
  },
  {
   "cell_type": "code",
   "execution_count": 2,
   "id": "featured-potter",
   "metadata": {},
   "outputs": [
    {
     "name": "stdout",
     "output_type": "stream",
     "text": [
      "Wave data shape :  (50620, 8000)\n",
      "Label data shape :  (50620, 1)\n"
     ]
    }
   ],
   "source": [
    "print(\"Wave data shape : \", speech_data[\"wav_vals\"].shape)\n",
    "print(\"Label data shape : \", speech_data[\"label_vals\"].shape)"
   ]
  },
  {
   "cell_type": "markdown",
   "id": "plain-winner",
   "metadata": {},
   "source": [
    "- wave 데이터의 수는 50620개이고, 각각은 sampling rate가 8000이다.\n",
    "- label 데이터의 수는 50620개이고, 각각은 1개의 라벨정보를 담고 있다.\n",
    "\n",
    "### 1-3. 데이터 확인해보기\n",
    "\n",
    "#### 1) wav_vals데이터 수 만큼에서 하나를 랜덤으로 추출"
   ]
  },
  {
   "cell_type": "code",
   "execution_count": 3,
   "id": "phantom-treasury",
   "metadata": {},
   "outputs": [
    {
     "name": "stdout",
     "output_type": "stream",
     "text": [
      "rand num :  41194\n"
     ]
    }
   ],
   "source": [
    "import IPython.display as ipd\n",
    "import random\n",
    "\n",
    "rand = random.randint(0, len(speech_data[\"wav_vals\"]))\n",
    "print(\"rand num : \", rand)"
   ]
  },
  {
   "cell_type": "markdown",
   "id": "statistical-hardware",
   "metadata": {},
   "source": [
    "#### 2) wav2spec 함수 정의"
   ]
  },
  {
   "cell_type": "code",
   "execution_count": 4,
   "id": "australian-logistics",
   "metadata": {},
   "outputs": [],
   "source": [
    "import librosa\n",
    "\n",
    "def wav2spec(wav, fft_size=258): \n",
    "    D = np.abs(librosa.stft(wav, n_fft=fft_size))\n",
    "    return D"
   ]
  },
  {
   "cell_type": "markdown",
   "id": "small-directive",
   "metadata": {},
   "source": [
    "#### 3) 랜덤으로 추출된 하나의 데이터 모양 확인하기 (wav)"
   ]
  },
  {
   "cell_type": "code",
   "execution_count": 5,
   "id": "naughty-opposition",
   "metadata": {},
   "outputs": [
    {
     "name": "stdout",
     "output_type": "stream",
     "text": [
      "Wave data shape :  (8000,)\n"
     ]
    }
   ],
   "source": [
    "sr = 8000 \n",
    "data = speech_data[\"wav_vals\"][rand]\n",
    "print(\"Wave data shape : \", data.shape)"
   ]
  },
  {
   "cell_type": "markdown",
   "id": "vertical-appliance",
   "metadata": {},
   "source": [
    "1차원이므로 sampling rate: 8000만 나옴 \n",
    "\n",
    "#### 4) label로 확인하고 소리로 들어보기 "
   ]
  },
  {
   "cell_type": "code",
   "execution_count": 6,
   "id": "sublime-quilt",
   "metadata": {},
   "outputs": [
    {
     "name": "stdout",
     "output_type": "stream",
     "text": [
      "label :  ['yes']\n"
     ]
    },
    {
     "data": {
      "text/html": [
       "\n",
       "                <audio  controls=\"controls\" >\n",
       "                    <source src=\"data:audio/wav;base64,UklGRqQ+AABXQVZFZm10IBAAAAABAAEAQB8AAIA+AAACABAAZGF0YYA+AADR/ycBqfi/+yz+XQCp+tb6WfzE+FL6K/og/L/2EwMV+5L+tfwNAugBwv1f+1f7bfm49YP+OPRQ9kL4uv/Z9uT63Pw9A2L98f33/LL0Pv58/eEFKv8T/wD8YgCk/QIG2wMtAnYA+gGlA1wFSAr/APQD2AI7CjIFQALDBfQHTgUYBH8Dwf5CAt0JWgb2/qj/xAP+AsUCzP1dAJYC0ARQAbMCxQFhAGb99P0c/xD+hQOu+h7+5v9j/Nz8Uf6J+2f/Av64/eP7EQBQ+oMA1QHO/Hf+gv2A/ef75QAqAO/8kfiAARkCaAR5/Tz/tAEqAIwC1wAGAqX+ZgL2/0D9UwQ0AKMBtwBiANr/l/aC/6f/hADU+nv/Pv3W/psEqfyk/cL1gPqaAwMC/fW8+KP7AQS1BxcAIPyp+ZUCHwCTAe0Aivy+93H7fwMs/ZP/Cf6PA/kFZgNH/c3/cgf/AfAFPQT/BqcH+QNaBuP8lwUsBpH/LwTxBB4NnQjNCwkKPwpNAdAB8wfP/34EZAEsAGz9tP+VAiEG7gKjAx4Dkv4qAVP/ogisAV78oflgBKz/LQPFBab8Vvxc/AgEzfniAvr91f0M/h8HDAKs/af9fP6yAaP7EgKtAOv/S/9YBKn6HgA4/LQGqgGN/FD+7v1dBFD5RwNP+cL5rflJ+vH61P2S/l/8Yvgk/8j8wfeZ/kIAYf+T9cH/Of3Y/qf52vxOArv/jvyx/Nz/PP0J+df4wP0D/c0A0ftM9Wn8twBZ+5n7G/r1+oz3Cvkk+ZH78f+1AAb+mf9iAYYCkwgPBVMAcfyjAc8AvgPgAeMEYwTbA1cKlwQVAzcAoAb9Cc8AYAhMBcILyAKABSoFuf2xB6X7QAXn+3sDj/8iAa4Ebf9/BSoGJAVNCHYDN/2I9Un7Zf1G//4AjfaR/QsEnQiD/0cAS/6ZAJn77wHh8Rn9/gRs+/b4RwA0AEn3eQVo/scFHgPpAdEIo/16/f0F9wI8BpX8tP7b/sf9kfoR+W4DfACGA7z7p/vo/rL+qAQvAbj8fPvR9pH8t/4i/Nn79Pyj/N39r/5y/qP5fPrXAY//K/kP9tv7nvMdAXn+U/sY/Ov+QAP2/av7Zv1bAEr+5f/u9kP3/fepAGMAoQPa+/gDIgUs/5sCOwGFAnn8HQDo+TX7lPZ1AQkIzQQJARsAAAMBB1MDEv8k/Tz/bgJa/0YD6PwIBgwFZgSGAuEDyAP//2L8IQMUAhIFMANV/Xr+x/piAXgAd/9A/7kB3/v4+jwDDQTjAh/91QCyAeX5lvxs9Gn+avjFA5b15vqiA+36mwCy+YsCRPq0Bdn4Ev5CAYP+AQMB+E3/DwHb/lYBSgXwAOkEhgShAvEH8wJ3BKT+i/VtAFX/hwPpAkz/Ef1U/IgEzgbXCiP8JgCj/6YF4AOvAmAAGvym/TkCqgJ7ADkDuvlL/XcA/wXyA8YH6wNRAXUCaAWuBFUBk/YPAwQL4P1oBJADxwddAaEENATu/gUHBAIMAwgDrBHSA8YBbQV1AMoEwACMBn78bAPTBBAGzf+cADABnAMEBg/72v6Z/cII7wKY/fn+/AJZCqQAywGI+BX8TQXU+Cb9Svk3AkwD8fjwAGb8+QDo+jcAG/gP+Sn89vtBAVb4FPV+/kL8Ovsa/lP9b/mb8uQElfZL/KT/Cvto8jX8D/ww9av79/cs91L3k/va+KH+vv9hAyX4uPri/x36XPqc/JX5UfTu+EgIlweI+lICkAf9CPcCc/8yAD0Btgn6BHH+L/52AnAHogTfAyEK+gmsBOgCbQV8BjAAoP8kAAQA3/zbCBIEAv2W/0X56v9JBLQFYvu9/zD/TwKqAToE0vgq+53+HgIsAx0ApgIYAMIEp/2wCD4HxgiRBTcHIQAPBY0BsQVD/scBoAUS/uIDZQMFDboAAwT7/PQFWAV4/qD+BAFjCfgAfAFG/7IGpAxnDP8IJP+lAdb9gP1fANn82P9LAE4FhwPhBuQAffugAioD5/mj+GT6//IT+Jr3N/0N/bv4lPx5/bv0Qfs1/In1QfSv9nf5L/tg+YL4R/r7+xgCxP6i9zj+wv/n+7r7lPo3ADb8sgGkAygEcwJsCFgIGgfYAkAEEP6DAT4JngjcBo3/lA7CBDQHIgGfBjQDLAQBAof4tf3A+vYLQQD1ADAIAgjEAV0FTwNA/1H/CfpD+ur6GgGr/Jr9AgGKBGQDAwOfAWcD2gOz+zn9XQTD/Jz6TANx/JP9yf9fCqQFUwA/BUIBiwexB/YJBPwvAOkD9QIpA14GVwcDBTMDygTmCIIHOQnxB+UGKwBjDLAKyAzuBpj/jgZcAgMHagKx/zb5qvlb/pj6H/oe+WH5gPvR9hvzoPq08f31j+W68sP00fIA9LLpTPIO8asC0PS5+Gj5H/aj+9/3HvwQ/Br75PwS+ZEAyAZVAw8B1QlXCgcJPBPeEUARiQmhDV4M/gw4C6MKVRQNCgAOpQmKCxkE0P0fA6v6NQJ6/Ur6I/wf/I4AJfag/OX8y/bZ9Mjq5vQc9yr51/JF9tX4XvqCAd8Co/3i+DcAevtA+gH6IPvj+Ln6Jf7+++H76/6HASL80gCfAab/EwPjCbcCswMBCMwLAxcZFA0TxRReGWoYJxtpGpgSegwtEa0LogWmAKEAyf7E/AQAdPsY9PXvMvYB63Tx4uih5RTna+jb687oAPB/6I/uvOeN72vxbPNO8s71a/dZ/Ub67vv5+4v3DgI2+XD+m/yW+v7yawGg+C75hvih+/n/5/ww/eX1nP5994EHUQLjAYAI8wqDElgOQRPYEwceFxp8FxoW6RptGucWsxbXFE8VVg0cDD8GiBATCPn/KP2/+F/6KPcF+WzzZPLK9Q/07vCT8K3qCu2a7Wv0yvD895f30PRV/l77b/4k+bYBQPwgAHsDoAOUAcYDuAPQACsAvwTABNn8H/8RAJ8BzPyS+qb6fvmD+bv/Bv+H/xz9MAPvAqQMRQ/eEWcW5xUmFp0WexmoFk0V7A3sEuQLMQf8A3QDPAEI/Wr51POB8/fzg/SM8kPwkOzK67fpmO+a5Vfrm+na5zbscujp7MzraPMG9DH07O0e/CgBifV1/t/7Mfkd/1cCJf+/BAUFyACVDsYBuwQeA7gAF/wiAskBqPlM+F/9BQTT+9YAXfsUBbcJQQ7JCwsTsxBzFk0cJyIXG7Mbsx52G5IZfhHOFW0LMxhgByABJwM/BzgLNPytA/L/evyq9GP0bv1W9dLuce4N6h3u+/BY6xzuLvP69VH1l/FM9IP3aPPl9izz7/Oh+7z/n/6q/J3/lf/XBagEeQQ8B1gG+waB/Y4CsQTY/Mv6KPWw9I32+f22+LH5B/xNAJ8FMAQoCXwGmgr/DbETpRpMFaMQjxJqFo0ciBdiDssG5ww7FgEN5ARUBSwBnALK/a/30/Mf91D1W+wV8cPxAvxG7cfxgfq88Irw2/de8ozsxuyV5kvpAe6J8V7xaPEx87IBTwWnAOsCLgb8CXsHvQXlCRUA6QkCDXL/Pv9s/0AC5AFyATP22fLQ8wr2HPi49qz+NvsPBWz/eAcJCkQT/g7jFMIgmhIHF9wUfBsZGEYacA4bDVUNTAxgA8cAT/32AEL+2fuy/fb4TPb68V33q+kB8LnsffL78BTy/vAG5FTo2+0O7aDfNevV7J3yD/HB8Sn4kPsWBCsGyAe2B7MSyxNTD9gOjg5uBU4M+gx7CmgC8/zMAEz0kPDK7dDvse0p9HLyYvPC+ab4xgJ2AfEGgQw6EDoSShUkGgYdRiAIIsoZSiFNGs8Z3hOsDTYQ3wRWCMX6yf5O/dH8j/m0Auj1ou4n8hX2yfQn7THu4ega7gHvCOuY5cvr8+XB6zPrafOU8uT0h/v6BuMDBAEPEiYMBhaRDdkNXA05CfIFEAaX/rb51v5/8wT0f/Qo8WjrmPB57vLxr+yi92b6L/e8A/oLsRPAFX4Y9ROMHxcgCCOqGPUdQhmgFV8VyQmXDzARqAj9/Pv7c/V++7v2RfVz6WX1P/Ey8mzyQ/Ck9cXplfgI8XLvEe857bTrT+6i7q3vcPEt8jj6v/r6/1ADdwrlC2oN7Qw/CqwUrAywDhkGiP8oAu8DuvzG/tT1i/HW7ArxifWW6djww+bl9+TzVwEvBVELWBBlDf8XsiOKI74jQi61HeQq2SiQIiMdnx+8GJkSehTgCCQOd/4Z/gr7YPVJ9Nbz/fAw673tJugF+gnvqPCa6EPtF/jf7AH2yOxs9SjrG/Zb8WL8AQIj9zMCVADcCDcGLgZPBBsEvQAtB0b8ygSk/Mzz//By9FjvIORG5c/iIfAj7yvwVfE0/p36Df7a+ZsI9xC+DXMQyBW8JY4exiHNIv4nqyiRKBYcmxrqEToOCAg4BJL+7vLk+Krr2va/7Nv3W+mL7sfpauWt66Pe1O3K4P7s8eMD7hvx2fW+95v5rAOC++v/lAGmA30DwgjcBBoLDQglAw0GU///8+zvmu4X8anwTeQv6fXslu8J6Hv4E/uS/o/8agSuFA4MBhGxFdogCR7kKb4fXCZHLm0o/SSsJoUnAh9UFSASsxg9DicKlQnuCPIFLwEAABP83fdt+7bwP+p86Rr5e+No3DDjZOTe6PHmUfPg56b2RvcZ+7wCRQ/HCLQCUAbbCC4EMP+r/gH9APX95Rzr6Ouq7lPaVeDw3R7houI56DLvPvBN/DX+dgUJDDUcxxTtFZ4SNB7TILodSCJ+D7MeKyQTHFQQGxU9EfUOeglxBAsJDQB5AtL+UAKeBVACqPax8avj5e3k7SvhENXo1tvhU+Nj4m3fp/dXAEYNZQepDdcZACFeEbAPyxGXDAIJc/Gc9ovst+ls2SDU6dGt1XDUR9kw3dzu/v6c+O0NZAhJFboh4SXfIQAgDx9vHZUfZB9eIOQcpx8EGdINGxXfIpEYNBNgChkVCRk1EPgRygkQEq0El/e49MrzPd0nyt3S+NBYzUrDfs693CHp0OzI+AsGnR/eIOQOQicoKSMgew/4B4b6BfEh4WXErsZayxm4Y7PBw+XRYNRD3KviyPdwF0MVExXQFnouZi+0Ic8WER5ZIqIMKwVxDHwYxRcOE9UUrR/wKSA2+i4BMN0tGioSMtEi5xjfDmj+VPWG8GHk9eWCxtXFtM7GywDV8tXC52/7+RNjEDgpmStbQv8yeiPBKwQXdATw94bltdQTz8HItLriurDTB9Hf1jjhg/gi+fcP+guPHO8PNRWHFg4MhgnbAFoGNPJxBJgKbROmBnkcqCbmLLEqTi1zLDkvayzgHnYUVAUBFkkBnvsw6eno6+l23lPVxtKiuY/Q9u07us3UWd/98fsF3ghjDDERvSQ7Lq8RdA2QHMoFX/jE9LrmAOnX5d7WRN/c4HTnDtwd6bHxmfoZ7HnyqvJ8/ev/Au8b88f8/AuVAooNoxZrHuYeOi22OGEy0y3XLrso/iaRHf4NUwThHMMNa+jO9hMR+wbo+671ju/e77Xp6b5Us0DiCd1ssWC64uQ8/EoOYQTFG1QeAkTdJjYIhBhXHgP8turA5cblO/Kg14zaZ9ti+ubwU+MS5PT5//Rl+CPbZevy8Mv6SO2m75oEMwc7He8RjCyPH2FBODfhNgg71z19O1Qi2yUMIWsX4ifcIIH4mP88E2EV3Pn79fTuPNdovTTDf8kr0QrEoLRO310EqRl8BoIYSh/7QywnWgIdAIQBXwHk4yHbA95YB0H1sv0Q8sYNkwi9/qHoveLV5WTWsMhhxd7afd6u8qXuxQtGHvw3xyLxMzcrKjBINxUzMiO+Je86cSJGLOwp+zHSJskufhc5EWMShw4r7GvuHOPUw+6eYb9m0wPC/LvsrhL0ihJwKwP7hQx6Ee8ruAeo4LzdcOlF8gHqKfNr+Ygj8R21IpUDPhmh/cPuydZEw7u7xcWGx2TGcuxR9mEABAH4FeESOiKBChkCtAYVDbAjYR/JM6Iy6Eb2QstBmEH3M2M2xBSoDS33/gfy9FfuXOif3dCtKK+N9DDaHsppro3upQFkL+YRj+tK/wsiBQEuxrXiI+TL/K3soP5X/6oqwiPsHroHEhWvBMrhJd4JzzLfbeMi9Pjr4geZBS4ObgQACZP6V/nT7n/l6/8VEpokUSqwRIpHV1HeTsdT8UNfNuM0XhqQAZT9qgn+/mDyWN842dmvSOHa8szXr8CAyggD9Q+oJ+jvd+0v7qkXqOO9y+PcieWpCMACZwkbBYopXRy9ECX1aO8C4jTc0dPty/nZc/xXCRYIQxWyFEgbFAjl/OLbb+GV7qztlv+gEc84ZTgRTJtEN0RMOto9ViTwCSwn4grxCUX8BRVVE50I5+wgs3WgbN4b8RbCg5tDwzwCsyoxLprpl+S/AxIacNYdwf7Ed+U6A+MCoPufCMcy/SVnBG3uc+F115vc88kRz2HZVwhGFZoUXCOtJQseLA5u/qnp2/f//+j6iPh9IPY8Jk76OMY0uTPNMsE3gw1cGMER8hEkBboPkRnTD4MeNujhth2mf/XT8OXPH7dkyqYO0jiGOf3s6+4lDfsU79VBxarGUPAIDRoAjPFDBU4w/yLyBPXhLthn3Tjp5M/byKPj1wj8EGwPfQpUCLoUyg91+gblggZbF1IKT/zbE+o80FSAN20Xox6vMi5DiCDmCr0GMyAAEAP2BQR2DtP7CL0BgDa7lvTU+Im4MLFa8vQ0Il8D/+LVXtfQHUT758dcvgDWLA6dHucOse9+E3ImTBs+5dLBd8Av5fnwYtps1Dr5ZCTRLfULZfsnAYAJuAW92fzcZP8hI9Yl4Bn7LOdI/lO5M64fHQyLGyIlgRfiBsER2RvUDLoXB/utHtHv+6pGgxGzkPim5Uq6zrIPBxNO10+I9D3SO+VIHXr698TgtqTl+R8RKDwQIQL7HAcvuRnP20y/8btq6tHlSdfrz8D8vCfBJMwOivFDCt4HM/oX2lfhsfvcFSIfdRHWKmgybUsjJfoepBIiGYksIBP4FjkLziXmGOoVqPZSCRD/leEkoYWhYN0u7BjnVKaS4SMZO03RJm7gb9ORA7kZRu45xQjN9gOkK/siUgPkDrwehShq/cLaG8Ja4Ybuoe6B4cftlhPeIqQjRwdQC0cLpgxL9tL83ftaFFwYPRJfIrQsUEL3L9gncBdCIsEv1i4uHmYERBeLNOgk+hXL/DkLiRX638Wrm6Cv1ynpXsbDqM3X/BrIRZMdje3r6YYOnRKc6TzQ0MkZ/NYUZxiFAYUODBdSEJYDQ+9m4r3Zy+8p5GDtB/Yp/NENfAp/C/784vXb+H7v6vDg9TMDLw74GX4k7x43H9Ahkxh+FAMXEQNCC8USNR3EEAkSoQ29Da8UnAkXCNMB5cZvrPzB/tN/0ZacBMtt1xgeRzl6B6j3FQV2Iv8DAPDA0lrRFvy2FP4AMP9P+b8TTiHcF935i90h9/b/1/wG6nbi+PUYD6YHpAE79/IK0hBO/OPy5vNLC4UP5hMxFX8dQyKYHEUgYhloFNQPZQ1sE2IFjgAcAjkPQgMWF4UDBQ/jFfEQZ9o6vljYm85S2+ek8sqm4Okl5i8pD44HOxWHK24INvBP06LoI/NJA5zsq+0tBpEdgh3QCFn93/RXBR7/ReVw3FLoJ/iYAX3/tQD8CPoSuQ+pAor+4QGJBLkGO/d1DNocYigWF8ASUg+AEFAPIgVrAjLnrwPC94UA/QB3AZADdASLHKL5pfAH8Rb/NgXM00HUFN3N+U/0ONe63n76fCOOG8kCnuCn94sDCvqA+sbnBPvXA7wR8hQVDLMYLwzaGHsJjfd087zydftO7a/pivIwBWoM9gVpA+gGbBUADBsIRwYcBfwQfgEcDcoB5Q+XE3MTkg5fBf7/twKjAUTso/q66p//Tu8X/V8FrxCjBpv9zxhJCmEYKvZ6+pECNQeOFOz+FQtsA1MDFg0D+qf2/O9T8cPlMvQs/177NgSSBV8OegzDARb7w+uz+a4JuQPC+Yrzyfx9/5//7PqB9GL2ggk2/PT1qvHi+gIKlP70AJr1ugPeCfALvwhL7en8ffiT+Hr4HPD3+IX9fgcTACX1v/dR/KP8n/sD9+b1wvps7lUD0/XmALEJCwGoEYYCEiOcC4MPVw3XBs8NRALlD0IJbQy2FbURig+JEjgDRANFAVDtU+2K6QXwDuyQ9C72z/ApEOwHgQ7c9ioDffwj+ZkKrenp/fb0ZAjh+yr4VQQZA58DyPxqD3384wxk/jwEmAen/U38JfQxBjz6t/b968rtb/3xBhf74P0c/gMPBf2G9V4P+vS1/fnroAW9/VID6gjA+iQTTwe3CYP28AJLCZMBBvUz8d73af1L9fDwifNi/zEOffwk/t8GFRCTCEgMYwE6AkQO8fxQ/fH61wZBA4/73AGzAxYKVho4BoUDogIYAsgLowJg96zxdQKpBToT6/cU/HzvQ/+/A+z5RfiB5o32KPkjDKDznwB5BA0MYQP5/fz6Wvd5+r769whz/HsDzQOXBr/7OP2S92L7n/yaBc3wP/qDA1IDWwOY94gQ1vlJCb/+ygqA95gAYgTO8ywPUwDFFHH+gQeMBHoI0Qn5+gMIHwOOBFYAagLB/kMRTBeGCb4EtQaAAGYAEP7y/lzz5veYC5cAN/uyAKMGVwPeA6f71AF1+wYFRf3x86L2nAFyArX5Q/vB+C37KQAmAk/26AFP+GwM4fO7Ayb6b/60BDvtAP525zYBnfkF/48FKPtd/EoFU/+CDEP59gLQ+pUA5AjF9ngF1OgA/a35wv0ZA977HwgJ++cDYwZL8x8PV/YNBr32RAEzE7v6LwpY8JcIngelCPEESgPY/zQTbAMe/Uv6v/t8CjX5FwWx/Z4IcQHEEYn9eAVXAkwCBwcOAaX+NQA1AuAJuAEw+ZX/SPfdFhHsfPtF8ygLdvjy/ugFBwQREVkELw908x8Ko/uMACfyCPs68fwCnviA+6D+N/VMD/oCggWf9K4Fvv72+Wz2BwMr8vT9uQCU86EFBfUoBYH4aQdB++j/fvse9FYHofugCbAIGQg/Ap8LfwjiBiL2iAcRAKH7RPaQ9X4Bzfv+/pD17wAn/lwRZfpSC4vyjwtgCE34RQiq9kcWFwoTCzsCLwSFA+MWgfdQDJH12QW1B2T9gRmf+vkTZfanD7j/rwFsBUX7aPqAFl7xMA0AAVP0YAs09hMIz/ASBLby9gd37+cC4fHLEcT6bAPu/DX/kATA+DwMyuJcDQHtrg6G7Df5Zv50+8wDF//yBHT7Mvlw/mwHAQXF+lL9FAwu+k0I7fA5DuH4BwTe92D7PP5g+q4KW/wwBKH/wQMoARkGQO97A9/0o/o2/4D0rQHo7ToJqvuh/08AT/LQ/BDwnvqh7OD5B/JE/NwA0gRT9SkM///xCkUCwPZ6Byj18xDh8fUAjvhwAtEA2wH2/cr5zwDD8NYLkvzn/9EDwvfpEtb1HBWv+4kAawOG/cgLkPgO/zEAfwUzBM8EWPekA9QH0Qss/JUCKgT8+0T5DAII8QoAJvN1BdH6p/yi8Pr+z/n6+CcG/ONuCcL2LQ8+800GF/OMBi/7gfN6+kH54hAH8BcS1fivBg4DEwLdAOj/ju4PCNj97fUZDaroXhWa8UUTZfevCtAOLPl0A+L1pQpM89EPh+aSCj3u/RBI+T76pgdC6KoemeHhC1blGADf/Gj2lP1V97P5qfz1ALvnUQmy5DkXPPfH+YH4TPsiAnIEtfxZBa8ChPb8EdXyuweO+REGVgtvA0ADBg1M/xwYQPzmEn7+RwLQDfD8bxJ+9pcRG//7DzHyIReS7K4hPfnlCeMBHvksErXt3R+w4qoh7+gVIWPr7hHZ9mkOZ/Ur+zgNFvK8FIHvnQo13pQbmujrCTXoHgth6xYIjQHR8XYJTABqCy74cgTq+YsAJv3hAbH3yP5fAGUHpAY9E17oBBgk8XMbkOKJAJX0lv8jEtnqyhME5VksPOIRHRTXwhtI61QDJv654dcZMd1vH3vdjBe0+Df/FgEaA13ymwah/40C0/zr/GMI3/RbG87oYBEk7hIN4gVd8JMOM+zpEuf2SQWhAFEFTf40DBz4XhNz8osKEgW486oWS+xGFVrzxBXS+6ENp/59EDr8aQTlAIb+ggRfA6L7/wDc+pQEjhGb+/UNlN/tFIHuXgu791r+BQTpAtr8Uf6A96AUkfub96sDB+tYIe/jSB5w6CsT9vvW/A0Ufeg8HVjn+wks+WED9AAp/nIDfe6WC2oP0/Z3AervRf2wBw384/vW+64ANvxf/ibuEwCh8pwLyfI99jjvOfjD/BgGP+7AD+vlUfvfDUDenRmG4h0Wlt4BDjH13v1oCLcFdgDrC4H+Z/jPGentUxlW5DQe0OumE639HQJOBfwEkAEq+9YA5PveDij08RIZ5SgZK+PSFtfzQvn0Chvv6QlC9/wBrf2M+5wHzfNi/mASWPwsDMT1GQ3U+mcExwxHAoLzRgK98pgQrALhCTz+kQHCBDcFtQWuBOELSPHgC5DzKA70Ae4MTPnxAtsHYQk7Bm4F7gS4A4kDthUL9woMswoW/BUHKPe8FCX1CQfj9uoG2fjuAYP8ePN3CjHwGAWB8lQBOQWw+KQIZPZiA93xsP6l/8Ds1/9m+QAJK/rL99wF1fFMCsX3dQXV/Qn80/ZXB071Q/42+Cn2if0o8PcPn+KoGqrjxhPl9CkGrP+l9hkFMfLjBOvyAAZa8Vv/gflHBb4BuA5/8TEVLOARFKPrvAGjBT7z8A7L5swVGOReF+3sgAFB/oDyaA8i64sL9u92CSb5j/0K+1vxswl68VsKUfn8/HsCGQVFBeEAUgXtC/4QVglC/OABLAcRDTIAYgdEAiwHugitCxYNGAcFEGgAlBaTEWEDyv8hB+8O+gHDBMIEIQ3AAbj3mQCw+hH65f6d9goIMfQI8X/p+fZVGOvzrwEp6AsRVgifGTgAtRXoAC0GbP4rCEcfOfWxBn3lMBCc2fruttXYCQD7vP0YC3rsfPlyBEso+xL+8YkHyh90E7zyuvR8FwnqTQxT/nUFL/Vb/usLw+TB3oj2sBWw//zs6gPG+R8DfASeC/AeYgT2/8jiu+iC6uz9zQIbC3sJdvNqBJnYZPyTA+YNNgkU4xUXGucKBRT7k/u9EBsHwhTfAfcK3gPrG1rll/6F+6gGaexZ7PwCkfVaGdEACBU/8RkBXPG6/iYDyxaGCz/uHAaaCm8WwANo+PcB2wM2DCgSWvSG9LwAgO50B1L5r/XACPfmkvnd+EkITO7J5IgCHRXw8oQFOuhj+bXsKfBk+xrwzQnh4RX+m+obFav+QRCh88EMM/83By781utY/QPlaR9BAjkTKe1VARAJ2wnXBmXyAP7x/GP5AxBo9/IEMu0w+qUNXeoVE3XpdBKf9Yb7YxCA+woVOvlNEWQEWhE3IeAJgweiA+P2MgXJ+GgcC/5MAK4EFfCgENTwCQE2/yEIBQr9DD345/Qx6yIOAfJM/eztTvzIBNbzRRdY5ckV2vXtGqYHgf4NABMAkQVq9IAO6/bnEM/uywt09icMIP2mChgEEvg+AVfoOQwL91cEJfNHBiv7EhGw7gUMYPzwCgMOR+xKD57tcQiH/QIMdPPdBeT0Ig2r/Bn2Fgak3j0itdlOE8Tyw/udBzncGxgd5pEABPm19yz2EfdC/fQHFfXzDwvsSQTbB4D64v039nQH+/fZBfcAdAaYAKoGmggfAvMOzQNdAEQGIAaYBAsEzQL8/PUMj/61DSD6wRBW81kNVAD0DVXzygrC+Rv1gwNF/y4iUeMfKenjVxJ29cIDVQeE864fVesjB8H3HQOE/vn1iAp7AbcFqP93+lj1DwRpA/YKd/fK/Ej35/4zCPj1Ywxe/lP+/PyADsvrOgGe8+EG0/oLAxUMJvlr+SQFIw1b9NAIAOwYCa/+RvoGByzyZAejCfgFtAbh+4D0wwkk/p0HpPl766z0Efjf/0j8Zg3M8NQLYvPtBFQCKvx29rkCyetJC0/0iAktBWPuMBRs8U4VIv84EFHrfhKK5Rca1PRV+30XluhvHvztoRSgAXYHUA4cBnUDjASoBfn29/x8DvAEFgOeAGD/9QU0AdwW4OZ1DRT1bAaSB8/6JQEj+tYDuw1JAtwEufhz7DoMjPFND3jsWg1r6wcHBuxq9twE+fV1EvbqZA2Q9koC+/5X/BsFRf/zAsD44Ao++LgF4vnqChwF8P+VDDkFagZMCaD9PfRzDi3lXQw86u4SovJc+4n1pPjnAtr6gQSj6pAOdObTAofxi/vS+Dj5K/Sy90f95P5m/o/nQgaFAkQDOQVy9e76qAMoCx0Cfv2r84EEqPJuCoXwSvw2/rj9FQyo+xoYSNzwEk7wWAh3ANLx5Qu+6bUddekaHlDoKRRfCk7/+Rth8o4PHe94Kqr4KhIw+Zb7xxyf7FYO7v02+9wPl/K9B7cPLuv0GkPoNgh3BKns1RHJ5pcIyfH2/aX7hgP09lEI3vTQBx8Ccvw4C/PygBGh7lIR2fL3BDT+AQCgDAj/zQagBLUKjAE5BQcBWQNa/TwH6QLW9dcGZ/j3BnwDov6YAEz13RSZ/Z8MOQFG+q783/brB530YPrg8Yf4CfpUAU/37fNNBj7ukgWp9BUFfvdm+yz5/fRP/6n5Kv+dAvntKQsq99EI5PYZAN8A8PjL+gMDMAau+qwRAe+SI8vc5CIx5KoO8/jIDmv99wLFAFMCfwpI64wVLOdsFKzoVxxh54kn89yuEsf4PwNaC4Tt2xHT1GIcD9UdGz/fixha9IP/AgnU/nwJeO8yFzvdMiD63RAWO/H5BDQEbfxzCnL+pRLb/ZsIhvzuAxT8DQqT/C4Jl+xFDpb7IxbN+24LmvcQCDsLqO2GGMff6CTK4yMVau8h/fP7H/0fC9Xz4BCr7NocjOUmH4PrkQ4p7ZsJmuR7Asz3z/TZEZbkcyij2g0sJNfTIOjh5hnY6ycFXe14+R0FnfH2FcrmkCyk1wkolNseI6XjjAnZ/e39Ewbt++wKAwCQF5MDEBAT8CUee/B7IyXuphZU9/QKvBHH8ksZDOFwJ1fvoREZ7gQEuQIJ+FkKFvdiABrp0A3G72oLd/tm+RbuJwZc+Wv+W/go/jD2e/n5CKvz6f8e75cCOfi6A5f0Ewlp/VoCYwRU+WEEK/++/UX6SgCuAXkClfaIAZwGDgFs/XMHJALaDB33NgZM/WoDVwpn9iMOoeqqGVb/8hKE/t/6xANMBun7BgE79+z3jwWa6HUa1eZdElnu6wXB/Af1GAGU7sYE0O9c8ar9n/EcCUH9Be8cCDjrNw0D7iX+LevB8kD3YQFB+mQDNAP+/ccHFgV8AtL4oQRq964FuPXgCUvsthVb9n0NrQRRDG4HCf63D7f5Kw8x/aILju6PD0r34A5D+DUPuf+/A8cKxfetB6/xBhAr8/8C1gWQ+R4ClPpWBNcKBPsNB5/4ugBbAskIj/EnCKbvYwWcATwHvP5y/1kLCPyADlz02BKa9LYcB/RKA179/ApDFmb+gQ6SAHMMww3SCTEFLweZAH0VJwJdCib6OAwkB67+EhFV8T4M7/dDAG8KwfQhC/H4Y/fBAPLyfgiF+rX1UAM295v42/na8OIJcfpT9aoATfCe+kv0Evyq+Rb5kvZOArXoaQTFAAL3dgLK+I4J+v6v/DQE5ghN+DEGWP49/b7+pvkZC/b2Igm5CP34UgmI9l0PZ/nQBu7/bgSHArj/aQNdAvgLHfrPCIr32gKEA8ABrfqS+q35a/lB9ywCQPeX/Fz+lfj5/lj4mvyg+R/3xQOz8Gb6Efhe9Yv+nfM7/hntAwbR+DL60vhh92sA3QLc/hoG0gXH99cMU/OWDPz+lwFVAuH8XRB1+F4HAQKqArUIMgiHBPQMk/dOEEH16wojBIfyJQtw+ocQFPdLDJEARQmm+sIEP/zOC6z+/vp4AfP8QwNp+IcEI+k+/wD3bP/l90oGTfN/AxYDe/xoA2/1AA/28wj7kvrr8kH5qf7D97v82AZFAJsJ1fOLBG36LAlbBfH4ofud798NcQSdB8byrQblBbEO3wCPAskAKgERCtT/ugffAkcR2wH6BEn+LgoJ+qsDCP+0+iv/yAXWCFEBbwIQBBQObQXRDIH+xwpj/w39+P21BHYA3wMO+xgJOQFvCgr86/cdDrr1egoe+hQH3PQgAij80Qi099r87PsN/xUNtPmmBJn0ZACk/rIBPPZb/Yv6MQHW+LwGZvJr/7j++vxgAaz7dQhv+lr8Jvy0BI38Ef6+838E8ff4Czn6EfxvCBX/wgII/sf7SwLaBy3/1f3c9VcE4/2OCVEALgIV+Mz5nQA7+kEDgvES93v1wQc3+2/59/YR/VkNPwQ/BcjxEv4RAC0NdwD58i39/wXsABoHwfqC+YkDFwZgCND4HwLH/GYJyAl2CrABcv0e/jINfQfi/jLzovf9Bw/8MARM8//86f5EAI4FTwDK/4P5f/7qARD5hQKn+0X7+wSA/wwBTfHyByEAwwYtAPXwWADW+IgNzvcC9UL5sAVU+4gKtPkX/7EAWv9vB030yfjr8iQOfvSOBvf2QgPyAdoI1gS8/i0FA/sN/BMDKAe894j0jP/GDusBLwbZ8+oJVQFkDN4G9viBBLv3kAY6BYf9jv4S93cGEwgp+3UG3PlVAJgE3f2lBgXxh/r+/qIEBQYs84z/8gHdBK//wABO+PMDhv0FB6gAXwHDBof/vwodCS4BM/5kAAH+yQiVArYGe/lHAv4CbgXCBEgAxQB1AOILdggICAcBfwOTDIMHoAYQBgcBRQW6BhEJZANi/WAEqP/DCCYIW/6VCQIAhwrHAu74CQk7/JsGyvbH/j37dv9ZA8D9YAW++VoDGPTHA3X1K/36+0gAAgH6/vv2Yv0iAvr4w/+X8fz5IPlj+QPxfv5mAlQGI/+IALEFQg1wCm4GNACF9rQCrAadBGICcwMIBWf+HgpTCq0CfwOqAd8G4v57/WH/cgHF/lgD6fwpCUwIgA4EBqn79QCGAg4B+vf/AuH9AQEP+8n7pvqP/6X7AP55+9D9D/51/xX8gfpxBhD/ZP7q/HYDMgAcBBT75Pka/v8B3/+79DQBdwW8A5wLngCoAcv8yf17//X8pw3YAHsCfAFO/0kHhQTHC3QDkQTEA+UBWQRY++MFFQgP/8sAGv50CGAHHPspAAL/ZwDWBNb9J/+e/ioGGQuK+Y39VPkR/AD7vwAX/O32fvfO/DkBWfpS/En9HPw++EcB2/mk+xv/L/4fANsEzgTm+lz+3wMlA5gFDASi/KD7kwbiByQCzgEkAmwGev/X/jP/TfzzBZEBkQPc/EYBcwPnBdgBiflIBvf6dAcJ/2UAVv9k+QUFyffM+xj8U/rM/DMBNQEh/l3+Sf7bBF4DFQNl/I73Mv2/+0X+PfkJ++j+XP11+gT8y/3qAdwAFfrx+JT5QAGn/KH89fZY80r8cv9aAY0DLAaLBRoEWwJtCGMJGQbK/Yr66gACAhQFWf05BKIGsgelCB0HyQqC/hgAuwNMBQgAef7e/Fz8XwY+/Kn5qPfo+D356PVh/Zn44vpq+SH/tPec+2z2CvLC+vP2wv0R+WP6+PdQ/SEBpAfy/3/9AQQ++9X9s/qv/C393gDYCQMD4wYJCSULzAniCsQK9gPcA0MDowCaABf6xvcE+tz/VgEo/48CZv90ALoDWQJ7A/MERQFiCioFVAW7AOcKsBTNBZj+egHAAWgAaftb9oj4APqd+6f0hP3p/N78J/yH+g//afy8BJICD/0LAaj/iQVJC74JjASV//kGawMpB8MJefxo+qoAZwFXA9sBWQEu/cf3GAPu+Bj9vADBAB8A8vhCA2X7xfwA+u74J/hU8Vr3Pvgx+PX4UPb38pH6Lfzp/mr8cwCcAU/+Vv4m+xL94fmfAYABEPoW/C/+mfza+Tv8SQHH/S37Pfq9/zgBCPtwAD76LfxfAtz/RgCC/Y8EBQJjAggDSP3DAoYBWf6OAnP/hAW0/aT9kv/1+5EFOPxgCAsA1Q6WC4gE+Q89C3kMCAt1BIb7xgJVAD4EVvnkAMD7ZQK9BVYApv9JA78HnwChAJ377PxI/3UDjv+LAg0CSAffAJ4KRwaTBY8KHP8h/qD+kwBF+44CLAG5/Xz99v9NA8MDiQDVAeoFUgFY/aQDJAM+/DgBwgXY+jz+8wKtAJ70jf3QBZD6if1C+GL8Af7DAqkCowCAA7EDmv2VAhP8tv/A/Rr6mACEABUDGf2z/Jj4n/kw/vf6rPBZAOX54/v+8174JwFq/i0Hn/jtASP3qf8kBO4GRwpCA0IGl/ii9uryfvzaAqIBowIn+0P3Evo2/9cILBKnCm8ERfzu/nb/nAXqC+oCMALxAWMF1fUS++35nfqd+Jf+NQRLAJ4I9QDE/84BCA2CBs4DwAME/QH7dPYV9Dj40fuk/E/8NgZSBaIDYPvf9TD4Wvrj/kD9MwFYAxYALPw0CDEDtwmrEDoRewd9/ef/XwORB4b+zPq6/JQHhAEF/ib8nv6SAr4GFwNa/hH97P1qA+MAIwFj/v4EGwzxBeL9ngB1+pf99gMTADL2T/Xk/dwFDwJ0/MX7zPO5/z79zv0o+G70/QQcA18Hov6U+w0Cbf2l/7n7vwB3BCX8X/7r86H9+//pAR8DWPcMBrb+Vfn09gnzkfhN/iAAxvz4/QYAWAGmAwX7evg3AdP9Nf/aA1kIPAF598j+Sf1l/ksBUQb6/kr/DQH+BAwFCwGqAGMA2AaR+xMJUf3BARwEs/wd/IT+kA2dAm0A1/8mBScFQwTA/mUBjP82BMgA4gSuCtUA3gM4/m0AdwUeCnQHr/ty/Sv+Lv8cBAMC7/sU+RoIwfqh/V/54v0kAUr5zPro9U36O/ys98T4qQGE+3AB7/er+EP5C/xyAGb+2v+T/jb+J/5k+hb++foLBXAGygVe//X1AwAgAXkLkf9o/oH32vnT/lwA+f8R+aUBgQK0BGwA3/+H9yf0V/f79pz2lPEc863x/wB19JX4ff1JAYb/ffkT9LPy5P1p9OH7ufMj/W/9oAcsA0kDBwQfA1QB2fuMAPr+OQUl/GMAof4gBr8EAvhw/5MCYwfc/nYGsQvqBogJ0QKZCykK0xK9BZAFSQhwBZ8JaAbaBacFPAh+A40NpAmPCCcBBgfxCz7+vv1x/hH7g/0CAbgBDv/pAEsE1QIpBRH9EP80+y36gvvC/Pz/WvvW/X79ZP2nArsHHQOtA9wEvQId/kb+5QM8A2IDqwNSA9IF9wugAnwE0gO2BagEjQKmAKoBpAV4+54E6PlyAP3+CQeVBuD94gAm/TT97vweBj/+jwH3+cMA0P+//xMCO/oZ/PL7EvnN9h37RvxM97T0yv0zBDEAAvw0+/X0kPgA/YL60vnl/Q79BAHeA2QD7AaDAwP+UQGYCqYDm/wPAOQD6AglARYJGQooCtgOFAKJAGAElgQQ/1EBEQFK+5z8wAIBAtf/rACAA5sC/vsF+mr8W/ozAK7yUvbi+t73EPis9LD3Wu+N/dP6cvxY9Vb92vdr+uD+Wfzb/8z73QPZ8r/97vpP/E71bP55CJ8AIQNa/PACBwSB+mD+egOnACD5Y/MA9sr0Gv9e+9r7BP87Bmb/t//EBXoChAMcBQoF3/uu/Lz75QK+AX/8Kfst/SYC4QraBAEA1v3YA6P/H/p+AagCo/06+j3/mP0wADv5lfzx+dMGbwdqAqcDPQPRAwMJSwevAE4EdQFo/2wCtAQM/X0FKwLIBaMGLg0fBXMDKASvBIkIRQTiAWP75//N/2sFAQFFBxUEUQm3CYgFNwiSBNYB0gnWClP7u/4/BOsGHwMwAJj9WACn/1D8hvkZ+4T+mP1S/G34YgDC+2z8tffG/LcCo/i6/gnwDgNN/IUBtP2C+M0A7fvzAzf5XgJ++Kz6ifna/vX7IPj9+lYA2PwYAcsA3vit/CL9gANwAEH5HvjQ/3z8iP8o+Y/96vsq//L8Uvs7+Nv3OfgL8yP60vuM+pH0hQFI+mX5L/No+l7/n/uC+uP2LgBZ/hQA7v0d+tcCoQDO/Zn9yQR7ACv6mwEG/VEDIfyEAMj5HPwkA8MCMwP3/7T94QKc/BAAfwgsBrMDVv4L/dn97gQzA/QCpPg4BxkGIwIGBFoGMgI3AXUEVwLuCrsIogqtA/UIlQkZCHkIBgM/B9UHDQehCK4DZwXXADkFDQqHBKr+F//+AVQC9gpV+n//cv7TBCQIJQXPBTP7hPjQ/UQDr/yz+KD5aPqA+b39YPqlADUAgP9r+5L9IAL9+3L3lP3mAnT+PQEX/VkBXv1B/OYB5v9XBRH6Gfz7/Q4FLAlC+hL7XANIAkD/cgNHB40BfQbOAt/+Pgj6B08EsQIdA+IErQZZ/NT/UwCkBvYCvAGNAkr+IwhaByUGSgPNA/IDePxM/F/+PgHd/BoCtfzcBPIK8QL4+eMAxwXD9xUBHvu5AY4B9/68Anb8VAGBCVgGzgKTAMgFYwMAApD6CPkrBIUCpgQB/Bv/AP+6AwD+7gAqBUD+wAceANgHnP9xBMkF0f5GAYgAEwF1+4f73QAE/JUG+QNR/RQAbvrZB0AAcQKQ/DD2Jv1M/4f+jAZ1+vMBhwOf/XkA3Pp5+yPzEPr19jX5YPXe9MH1MPiX+5f1ov29/DUAlQJm/qf6fPonAW0BhQU1BUAAxAJt/jQDlAEVAFgA9vtPBU8EYQKnA9wDRQo8BvEBnvmG/ef/8PzmAiv3F/+i+ioGzP0w/tX86fzsAHf+c/+t+B7/4P7i/acEGwKJADn7x/pyCPH3bQUA9/AB9AE0A7f30v8LCMP6u/u994sCOviPAIj2U/8X/Qr+Mf0M+x4G/fmR/e4B1gP6AQz+Qwe+/wkD9gNIAvgAk/+4/nL9FATKACsAMwRMB3T/RgPyA90EfQPu+8j3P/1OAH4FgPxiATQExADhAwAC0QlU/hsGO/eg/KT/pP0OAi4C0wRdAdoCQ/9rA2wHzAEx/Ij/IQTrAUX9twVo+pkEHgFCASj/jfw/BIQApP/2/S//9PiR/JX7IgEyA0UEOPvPAFcChQfUB739mQc7BIcBef9SB8H/wP1/BN8FzAJq/78AcvqMA+EDLAYKCSn+lwS4+sIEWwUXBg4C0/0UBMz4Pf5f/y8LX/o/96z93Pek+agCi/oj/4v98QLTABD/9f8R+y39JPuwAs31LAMF/P0D2f2N/GYBT/xvBM/84/tX+wn/rQTJ/375ZgJjBLQCtwJP/9QB6giz/1z/7PuL/tD+lAAw/uH6ewOgAd8KJP66+7L9WP3o/yL81f4d+m76dQF++WL9+wAuArwDm/6t/vz0lfjU/gD6HfNG9Rn8OPvq/9n/aAGz/QX6oPwGA5kABQFTAQP7lwFp+GcJSv0qA7r2H/dtA4z9NAZX/NoF7QExCR0LywzVCcoHcAPWCN4ApgMZBZcEbgiGArEDowTuBP4GCQQg9pgBCfo/+pP5mASaADb4DfwtAHgGCfzQAo36swXV//8Dd/zg+ob7/v71AY70pwB0+Z0Ag/ydA0UB3AIYCJoKaweDA4EHpv23Bsr7s/niBZEPMQsf/qkHvA06BHkDggRjAUAGj/sbAqb6FQR6ABUFwQU6ACsOtwJFB3QEbgi2/QP2SPqg/cz/oP92/+n+7v2ZA8P8hPk1+NH+Ufgv/sH5d/TGAg/4uQJy87j5Gvtb/Wr70vRKAL0CIwMk/e8FjgDTBLH8nfqT+k799f7k9Wj3W/3uBcsBhQY1CDcF+ASvBr4CNADY+3j+E/2f+O0AkgMfBRIDgASVBCcKAgXIBm4G3Pha+1P3Nvwf+Tn3xfpe+QgBu/jV8nn5HvWNA6b44/tI8s7xrPiu8moAGe9x+gX0dfiv+oD3evRP+7v6g/lh9wjzm/8nAZv/7PlCBFb7DgT1/439x/93/8YFQQL1A179aAT+BpIIFwTMAgMG3P82A8P7/Pz5Bh7/UwNo/Ff/EwAg/vIGD/l4+Mn4CvoV/6b+aAAQ/ir87f4i/asBFQEDBO/9W/x7Ae0Cif2mBK4AZP6a/6IAhwoY/bQIEQEnCUwF3QJTBOr8wgrpBUACRgBBCK8MsgfVB+cIAwe6BSYMwQiHA+UFQ/4JBoQGKQ9mCrsCRAsYELgNEQTCCRcKLwpVA8UFHgQJBuUHMAipAF4DFAPZA44BhfrfAcT/w/zy+7L/+/1nAAv7a/t19/34sftI+rv3Z/9C/z35yAFB/ooDFwDU9lP9Gfod/s/yX/44+Z7/1v618uMBYfXtBnH8jP0cAP0AoADF/FwD6v3k/IX/tf3w+pMA2v0+/zQD7P+wBSIJ3wVO+5L+kwQb+uwAdvxJAOsAlwIM+W36XwZJAdP5L/qhCl38if/1/AD6Tfl6/wAAyfukAef79gJQALUDzwFqAhIGxQRJBMr/+/3zAC0C0P0vA6gBpAS//tYFnANMBXIIW/zpCJj9fw3ZABkHZALQ/2kEDPvsATP6cQAE/FAGoPzI/VwAAwByAgYDKf35+1cBQgUUAL7/RALkApUAFgI5/yD3WQFu9uj/RP5FAAn79v4q/gH9dwOP+ZQBhvgaBgb5U/00/5D97QAN/QUBgPkx+Vb2xP1uADb+nf13/dD6jwX8A6j/yvtX/T0CRf9A/pwA8PtNBPcGVQMADNP+twcBB84H2AJX+QUBe/ysAtv9CQDwAtUIVQEKBicIaAihAeIEugVy/ZQFgfyA/+z7vwPLB8EJXguzBwwAQQSf/4ACGAeWAgQEMADyBTMHGAZP/+EB2AKa/MP4//taAVcHEQQ5+pUDrv6CAtv+UwCdA2b+qv0g+iX9NgB+ArL63/qnA+0JHQS//vn2v/+jAD4CfQFc+VT6uPok/2X8pQKJ9oD7Mvxh/y7+O/VpAU/xMfxn8b/0vPbo+RMAhvvI/aP2NfcO+k35zvxw+gD5Zfoh8gAHWfqe+2H2f/ck+Zr/UgDA+GD8xvzMAUv7L/+1/UMGXQDAAKT/ewFFBbn6Yv+rAxYDwQGc/04AGwZPCf8Gj/xzBS8FuwLRBecCvwVeAvwDcAEKBQoDTwb7BOIDigEo/5UDSf55/aX6Kf+I/7T7IvYR+MAAngHiAiv9tQSdAvUGvQQB/QAGPf4xAmD/pgAvAYIKiQrK/twFhwMKCXYDYgNc/8P+QgNuBgAFXQj4CEX/rweRA68Ixgje/b0BnwMbBJIBtPzwBAIHyf6W+rX6rPw9AKv9/P5g/XIC4fuQ/KQBq/1XBFH9kPwj9pL+KwM9+S/7DfYUALwAfv5F/Gb/If4r+pL3zvT5/Fn1rvv895X0ovvZBGn6FQJG92/6ifxS/Yb5yflT/5fyjADk+J8GeQJ7Cxf8lv0HBrr/KQGF+g78ov8f/sf9JQEF/5kAiAS7BNQH2Ae7+uoDcgGMBkj+av2d/eb8qv+B/mz/\" type=\"audio/wav\" />\n",
       "                    Your browser does not support the audio element.\n",
       "                </audio>\n",
       "              "
      ],
      "text/plain": [
       "<IPython.lib.display.Audio object>"
      ]
     },
     "execution_count": 6,
     "metadata": {},
     "output_type": "execute_result"
    }
   ],
   "source": [
    "print(\"label : \", speech_data[\"label_vals\"][rand])\n",
    "ipd.Audio(data, rate=sr)"
   ]
  },
  {
   "cell_type": "markdown",
   "id": "hawaiian-stranger",
   "metadata": {},
   "source": [
    "label로 나온 right과 음성으로 들리는 것이 일치한다!\n",
    "\n",
    "#### 5) 랜덤으로 추출된 하나의 데이터 모양 확인하기 (spec)"
   ]
  },
  {
   "cell_type": "code",
   "execution_count": 7,
   "id": "affiliated-sequence",
   "metadata": {},
   "outputs": [
    {
     "name": "stdout",
     "output_type": "stream",
     "text": [
      "Spectrogram shape :  (130, 126)\n"
     ]
    }
   ],
   "source": [
    "spec = wav2spec(data)\n",
    "print(\"Spectrogram shape : \",spec.shape)\n"
   ]
  },
  {
   "cell_type": "markdown",
   "id": "liquid-challenge",
   "metadata": {},
   "source": [
    "2차원으로 바꾸어주었으므로 시간:130과 주파수:126의 값이 같이 나옴 \n",
    "#### 6) 스펙트로그램 시각화"
   ]
  },
  {
   "cell_type": "code",
   "execution_count": 8,
   "id": "outside-uncertainty",
   "metadata": {},
   "outputs": [
    {
     "data": {
      "image/png": "[encoded data removed]",
      "text/plain": [
       "<Figure size 432x288 with 2 Axes>"
      ]
     },
     "metadata": {
      "needs_background": "light"
     },
     "output_type": "display_data"
    }
   ],
   "source": [
    "import matplotlib.pyplot as plt\n",
    "import librosa.display\n",
    "\n",
    "librosa.display.specshow(librosa.amplitude_to_db(spec, ref=np.max), x_axis='time')\n",
    "plt.title('Power spectrogram')\n",
    "plt.colorbar(format='%+2.0f dB')\n",
    "plt.xticks(range(0, 1))\n",
    "plt.tight_layout()\n",
    "plt.show()"
   ]
  },
  {
   "cell_type": "markdown",
   "id": "blessed-store",
   "metadata": {},
   "source": [
    "\"yes\" 단어는 0.1~0.4초 구간에서 발음이 강하게 되는 것을 시각화하여 확인할 수 있다.\n",
    "\n",
    "## 2. Train/Test 데이터셋 구성하기\n",
    "\n",
    "### 2-1. 라벨 데이터 처리\n",
    "\n",
    "#### 1) label_list(['yes', 'no', 'up', 'down', 'left', 'right', 'on', 'off', 'stop', 'go'])에 unknown과 silence 추가하기"
   ]
  },
  {
   "cell_type": "code",
   "execution_count": 9,
   "id": "frequent-royal",
   "metadata": {},
   "outputs": [
    {
     "name": "stdout",
     "output_type": "stream",
     "text": [
      "LABEL :  ['yes', 'no', 'up', 'down', 'left', 'right', 'on', 'off', 'stop', 'go', 'unknown', 'silence']\n"
     ]
    }
   ],
   "source": [
    "target_list = ['yes', 'no', 'up', 'down', 'left', 'right', 'on', 'off', 'stop', 'go']\n",
    "\n",
    "label_value = target_list\n",
    "label_value.append('unknown')\n",
    "label_value.append('silence')\n",
    "\n",
    "print('LABEL : ', label_value)"
   ]
  },
  {
   "cell_type": "markdown",
   "id": "written-monster",
   "metadata": {},
   "source": [
    "#### 2) dictionary 형태로 전환"
   ]
  },
  {
   "cell_type": "code",
   "execution_count": 10,
   "id": "rotary-comedy",
   "metadata": {},
   "outputs": [
    {
     "name": "stdout",
     "output_type": "stream",
     "text": [
      "Indexed LABEL :  {'yes': 0, 'no': 1, 'up': 2, 'down': 3, 'left': 4, 'right': 5, 'on': 6, 'off': 7, 'stop': 8, 'go': 9, 'unknown': 10, 'silence': 11}\n"
     ]
    }
   ],
   "source": [
    "new_label_value = dict()\n",
    "for i, l in enumerate(label_value):\n",
    "    new_label_value[l] = i\n",
    "label_value = new_label_value\n",
    "\n",
    "print('Indexed LABEL : ', new_label_value)"
   ]
  },
  {
   "cell_type": "markdown",
   "id": "collective-tradition",
   "metadata": {},
   "source": [
    "#### 3) label 데이터를 숫자로 변환하여 더 쉽게 사용"
   ]
  },
  {
   "cell_type": "code",
   "execution_count": 11,
   "id": "broke-nirvana",
   "metadata": {},
   "outputs": [
    {
     "name": "stdout",
     "output_type": "stream",
     "text": [
      "[ 3  3  3 ... 11 11 11]\n"
     ]
    }
   ],
   "source": [
    "temp = []\n",
    "for v in speech_data[\"label_vals\"]:\n",
    "    temp.append(label_value[v[0]])\n",
    "label_data = np.array(temp)\n",
    "\n",
    "print(label_data)"
   ]
  },
  {
   "cell_type": "markdown",
   "id": "architectural-miniature",
   "metadata": {},
   "source": [
    "### 2-2. 1차원의 Waveform 데이터가 2차원의 Spectrogram 데이터로 변환\n",
    "\n",
    "#### wav2spec을 통해 2차원으로 변환"
   ]
  },
  {
   "cell_type": "code",
   "execution_count": 12,
   "id": "ecological-point",
   "metadata": {},
   "outputs": [],
   "source": [
    "data_list = speech_data[\"wav_vals\"]\n",
    "spec_list = []\n",
    "\n",
    "for data in data_list:\n",
    "    spec_list.append(wav2spec(data))\n",
    "spec_list = np.array(spec_list)"
   ]
  },
  {
   "cell_type": "markdown",
   "id": "failing-advice",
   "metadata": {},
   "source": [
    "### 2-3. 학습을 위한 데이터 분리\n",
    "\n",
    "#### 1) Train : Test = 9 : 1의 비율로 분리하기"
   ]
  },
  {
   "cell_type": "code",
   "execution_count": 13,
   "id": "imposed-foundation",
   "metadata": {},
   "outputs": [
    {
     "name": "stdout",
     "output_type": "stream",
     "text": [
      "[[[2.57632528e-02 5.96644841e-02 6.87206835e-02 ... 5.80068491e-02\n",
      "   1.88217744e-01 3.25236917e-01]\n",
      "  [3.35347205e-02 1.00893147e-01 1.73334494e-01 ... 2.39018217e-01\n",
      "   2.54936188e-01 1.23973161e-01]\n",
      "  [2.31091961e-01 2.56449997e-01 2.17007354e-01 ... 3.38972360e-01\n",
      "   2.01792479e-01 6.73801079e-02]\n",
      "  ...\n",
      "  [5.84767386e-03 3.18284845e-03 7.24734389e-04 ... 6.88169326e-04\n",
      "   4.92707454e-03 9.80987027e-03]\n",
      "  [5.53267729e-03 2.62268726e-03 1.46452687e-04 ... 1.65697827e-04\n",
      "   5.05970418e-03 9.56481975e-03]\n",
      "  [5.43974806e-03 2.84914440e-03 8.47501215e-05 ... 1.50384309e-04\n",
      "   4.76875668e-03 9.47002601e-03]]\n",
      "\n",
      " [[8.53014644e-03 8.40241206e-04 5.00597851e-03 ... 1.86165900e-03\n",
      "   7.45619461e-03 1.61217041e-02]\n",
      "  [1.30309789e-02 9.43823904e-03 2.58439034e-03 ... 4.56272112e-03\n",
      "   9.70677659e-03 1.61192454e-02]\n",
      "  [1.73188373e-02 9.29422304e-03 6.00598659e-03 ... 1.15769338e-02\n",
      "   9.64801479e-03 1.14748785e-02]\n",
      "  ...\n",
      "  [4.47284011e-03 1.95078563e-03 5.66900824e-04 ... 5.74262405e-04\n",
      "   2.43608328e-03 4.51540016e-03]\n",
      "  [4.40008426e-03 2.35971459e-03 7.50700638e-05 ... 1.84310833e-04\n",
      "   2.57456582e-03 4.79949778e-03]\n",
      "  [4.47581150e-03 2.20721611e-03 5.26272706e-05 ... 5.69282493e-05\n",
      "   2.33593863e-03 4.68612183e-03]]\n",
      "\n",
      " [[6.75602332e-02 1.66528597e-02 3.99925783e-02 ... 3.86178680e-02\n",
      "   5.34451008e-02 5.36060855e-02]\n",
      "  [7.82628208e-02 5.30881323e-02 2.19811983e-02 ... 1.39009297e-01\n",
      "   1.69058114e-01 1.61376506e-01]\n",
      "  [6.30758032e-02 4.46980558e-02 1.14319585e-02 ... 1.23315588e-01\n",
      "   1.72804981e-01 1.92006811e-01]\n",
      "  ...\n",
      "  [5.86805027e-03 2.66453228e-03 5.76309452e-04 ... 5.32274658e-04\n",
      "   2.37862649e-03 4.31791414e-03]\n",
      "  [5.76461246e-03 3.04750912e-03 6.89827502e-05 ... 1.81793337e-04\n",
      "   2.46299570e-03 4.60801600e-03]\n",
      "  [5.82528999e-03 2.88335700e-03 6.34743483e-05 ... 5.00350725e-05\n",
      "   2.23228266e-03 4.48246021e-03]]\n",
      "\n",
      " ...\n",
      "\n",
      " [[4.80561823e-01 5.29858530e-01 4.21675652e-01 ... 9.24627900e-01\n",
      "   6.63775623e-01 3.76863390e-01]\n",
      "  [7.74690732e-02 4.40773696e-01 1.99139461e-01 ... 7.35710561e-01\n",
      "   3.75571400e-01 1.36510462e-01]\n",
      "  [2.94052601e-01 2.56847739e-01 3.10245425e-01 ... 2.84499139e-01\n",
      "   2.90768147e-01 1.00628898e-01]\n",
      "  ...\n",
      "  [1.29584060e-03 6.03655295e-04 5.81611057e-05 ... 1.54954934e-04\n",
      "   4.35627117e-05 1.81984360e-04]\n",
      "  [1.25990680e-03 6.39766338e-04 1.21067278e-05 ... 4.35379588e-05\n",
      "   9.93637295e-05 1.46239923e-04]\n",
      "  [1.26835832e-03 6.52336807e-04 1.03205330e-05 ... 3.72817439e-08\n",
      "   6.96980278e-05 1.61984644e-04]]\n",
      "\n",
      " [[5.47703952e-02 4.65958640e-02 2.32869145e-02 ... 1.84058081e-02\n",
      "   4.71714512e-02 6.53097630e-02]\n",
      "  [2.68478449e-02 2.92979609e-02 1.86893325e-02 ... 1.24370251e-02\n",
      "   4.16268855e-02 2.70142723e-02]\n",
      "  [1.42606329e-02 1.58343036e-02 8.38050805e-03 ... 2.46638376e-02\n",
      "   3.44240218e-02 2.45661885e-02]\n",
      "  ...\n",
      "  [1.79810420e-04 6.42676750e-05 2.27632117e-05 ... 2.35248463e-05\n",
      "   1.43832061e-04 2.99063482e-04]\n",
      "  [1.63347970e-04 8.69464930e-05 1.44921150e-05 ... 1.04338606e-05\n",
      "   1.22776371e-04 2.34533713e-04]\n",
      "  [1.78099159e-04 9.59506651e-05 2.13202907e-06 ... 2.18256241e-06\n",
      "   1.13045222e-04 2.32485501e-04]]\n",
      "\n",
      " [[1.65735197e+00 2.17531276e+00 2.57375336e+00 ... 3.07690978e+00\n",
      "   2.76096892e+00 2.22281289e+00]\n",
      "  [4.17021722e-01 1.34074235e+00 1.52709162e+00 ... 1.61294961e+00\n",
      "   1.76140893e+00 5.92057347e-01]\n",
      "  [2.95544684e-01 6.02411687e-01 2.45272338e-01 ... 3.08598310e-01\n",
      "   5.35226524e-01 8.55587125e-01]\n",
      "  ...\n",
      "  [4.99152858e-03 2.09100009e-03 4.92464984e-04 ... 7.00469711e-04\n",
      "   4.17575613e-03 8.32181983e-03]\n",
      "  [4.86595416e-03 2.60876981e-03 1.07723499e-04 ... 1.67203805e-04\n",
      "   4.57499363e-03 8.51570163e-03]\n",
      "  [5.11518307e-03 2.56171334e-03 4.19206262e-05 ... 1.14277384e-04\n",
      "   4.28010058e-03 8.50767735e-03]]]\n"
     ]
    }
   ],
   "source": [
    "from sklearn.model_selection import train_test_split\n",
    "\n",
    "del speech_data\n",
    "del data_list\n",
    "\n",
    "spec_sr = 130\n",
    "spec_sc = 126\n",
    "train_spec, test_spec, train_label, test_label = train_test_split(spec_list, \n",
    "                                                                label_data, \n",
    "                                                                test_size=0.1,\n",
    "                                                                shuffle=True)\n",
    "print(train_spec)\n"
   ]
  },
  {
   "cell_type": "code",
   "execution_count": 14,
   "id": "tough-dealing",
   "metadata": {},
   "outputs": [],
   "source": [
    "train_spec = train_spec.reshape(-1, spec_sr, spec_sc, 1) # add channel for CNN\n",
    "test_spec = test_spec.reshape(-1, spec_sr, spec_sc, 1)"
   ]
  },
  {
   "cell_type": "markdown",
   "id": "exciting-branch",
   "metadata": {},
   "source": [
    "#### 2) 나눠진 데이터셋 확인"
   ]
  },
  {
   "cell_type": "code",
   "execution_count": 15,
   "id": "entire-control",
   "metadata": {},
   "outputs": [
    {
     "name": "stdout",
     "output_type": "stream",
     "text": [
      "train data :  (45558, 130, 126, 1)\n",
      "train labels :  (45558,)\n",
      "test data :  (5062, 130, 126, 1)\n",
      "test labels :  (5062,)\n"
     ]
    }
   ],
   "source": [
    "print(\"train data : \", train_spec.shape)\n",
    "print(\"train labels : \", train_label.shape)\n",
    "print(\"test data : \", test_spec.shape)\n",
    "print(\"test labels : \", test_label.shape)"
   ]
  },
  {
   "cell_type": "markdown",
   "id": "unauthorized-interaction",
   "metadata": {},
   "source": [
    "#### 3) Hyper-parameter (batch_size와 max_epochs) 설정해주기"
   ]
  },
  {
   "cell_type": "code",
   "execution_count": 16,
   "id": "sweet-creation",
   "metadata": {},
   "outputs": [
    {
     "data": {
      "text/plain": [
       "'/home/aiffel-dj63/aiffel/speech_recognition/models/wav'"
      ]
     },
     "execution_count": 16,
     "metadata": {},
     "output_type": "execute_result"
    }
   ],
   "source": [
    "batch_size = 16\n",
    "max_epochs = 8\n",
    "\n",
    "checkpoint_dir = os.getenv('HOME')+'/aiffel/speech_recognition/models/wav'\n",
    "\n",
    "checkpoint_dir"
   ]
  },
  {
   "cell_type": "markdown",
   "id": "dietary-phrase",
   "metadata": {},
   "source": [
    "### 2-4. 데이터 세팅\n",
    "\n",
    "#### 1) map 함수에 넘겨줄 데이터 전처리 함수"
   ]
  },
  {
   "cell_type": "code",
   "execution_count": 17,
   "id": "joined-jacob",
   "metadata": {},
   "outputs": [],
   "source": [
    "def one_hot_label(wav, label):\n",
    "    label = tf.one_hot(label, depth=12)\n",
    "    return wav, label"
   ]
  },
  {
   "cell_type": "markdown",
   "id": "distant-chess",
   "metadata": {},
   "source": [
    "#### 2) tf.data.Datset함수"
   ]
  },
  {
   "cell_type": "code",
   "execution_count": 18,
   "id": "rocky-screening",
   "metadata": {},
   "outputs": [
    {
     "name": "stdout",
     "output_type": "stream",
     "text": [
      "<BatchDataset shapes: ((None, 130, 126, 1), (None, 12)), types: (tf.float32, tf.float32)>\n",
      "<BatchDataset shapes: ((None, 130, 126, 1), (None, 12)), types: (tf.float32, tf.float32)>\n"
     ]
    }
   ],
   "source": [
    "import tensorflow as tf\n",
    "\n",
    "del spec_list\n",
    "\n",
    "train_dataset = tf.data.Dataset.from_tensor_slices((train_spec, train_label))\n",
    "train_dataset = train_dataset.map(one_hot_label)\n",
    "train_dataset = train_dataset.repeat().batch(batch_size=batch_size)\n",
    "print(train_dataset)\n",
    "\n",
    "test_dataset = tf.data.Dataset.from_tensor_slices((test_spec, test_label))\n",
    "test_dataset = test_dataset.map(one_hot_label)\n",
    "test_dataset = test_dataset.batch(batch_size=batch_size)\n",
    "print(test_dataset)"
   ]
  },
  {
   "cell_type": "markdown",
   "id": "attractive-rental",
   "metadata": {},
   "source": [
    "## 3. Conv1D layer를 이용해서 모델 구현\n",
    "\n",
    "### 3-1. 모델 구성 (기본)"
   ]
  },
  {
   "cell_type": "code",
   "execution_count": 19,
   "id": "beautiful-thong",
   "metadata": {},
   "outputs": [
    {
     "name": "stdout",
     "output_type": "stream",
     "text": [
      "Model: \"model\"\n",
      "_________________________________________________________________\n",
      "Layer (type)                 Output Shape              Param #   \n",
      "=================================================================\n",
      "input_1 (InputLayer)         [(None, 130, 126)]        0         \n",
      "_________________________________________________________________\n",
      "conv1d (Conv1D)              (None, 130, 32)           36320     \n",
      "_________________________________________________________________\n",
      "conv1d_1 (Conv1D)            (None, 130, 32)           9248      \n",
      "_________________________________________________________________\n",
      "max_pooling1d (MaxPooling1D) (None, 65, 32)            0         \n",
      "_________________________________________________________________\n",
      "conv1d_2 (Conv1D)            (None, 65, 64)            18496     \n",
      "_________________________________________________________________\n",
      "conv1d_3 (Conv1D)            (None, 65, 64)            36928     \n",
      "_________________________________________________________________\n",
      "max_pooling1d_1 (MaxPooling1 (None, 32, 64)            0         \n",
      "_________________________________________________________________\n",
      "conv1d_4 (Conv1D)            (None, 32, 128)           73856     \n",
      "_________________________________________________________________\n",
      "conv1d_5 (Conv1D)            (None, 32, 128)           147584    \n",
      "_________________________________________________________________\n",
      "conv1d_6 (Conv1D)            (None, 32, 128)           147584    \n",
      "_________________________________________________________________\n",
      "max_pooling1d_2 (MaxPooling1 (None, 16, 128)           0         \n",
      "_________________________________________________________________\n",
      "conv1d_7 (Conv1D)            (None, 16, 256)           295168    \n",
      "_________________________________________________________________\n",
      "conv1d_8 (Conv1D)            (None, 16, 256)           590080    \n",
      "_________________________________________________________________\n",
      "conv1d_9 (Conv1D)            (None, 16, 256)           590080    \n",
      "_________________________________________________________________\n",
      "max_pooling1d_3 (MaxPooling1 (None, 8, 256)            0         \n",
      "_________________________________________________________________\n",
      "dropout (Dropout)            (None, 8, 256)            0         \n",
      "_________________________________________________________________\n",
      "flatten (Flatten)            (None, 2048)              0         \n",
      "_________________________________________________________________\n",
      "dense (Dense)                (None, 256)               524544    \n",
      "_________________________________________________________________\n",
      "batch_normalization (BatchNo (None, 256)               1024      \n",
      "_________________________________________________________________\n",
      "activation (Activation)      (None, 256)               0         \n",
      "_________________________________________________________________\n",
      "dense_1 (Dense)              (None, 12)                3084      \n",
      "=================================================================\n",
      "Total params: 2,473,996\n",
      "Trainable params: 2,473,484\n",
      "Non-trainable params: 512\n",
      "_________________________________________________________________\n"
     ]
    }
   ],
   "source": [
    "from tensorflow.keras import layers\n",
    "\n",
    "input_tensor = layers.Input(shape=(spec_sr, spec_sc)) \n",
    "\n",
    "x = layers.Conv1D(32, 9, padding='same', activation='relu')(input_tensor)\n",
    "x = layers.Conv1D(32, 9, padding='same', activation='relu')(x)\n",
    "x = layers.MaxPool1D()(x)\n",
    "\n",
    "x = layers.Conv1D(64, 9, padding='same', activation='relu')(x)\n",
    "x = layers.Conv1D(64, 9, padding='same', activation='relu')(x)\n",
    "x = layers.MaxPool1D()(x)\n",
    "\n",
    "x = layers.Conv1D(128, 9, padding='same', activation='relu')(x)\n",
    "x = layers.Conv1D(128, 9, padding='same', activation='relu')(x)\n",
    "x = layers.Conv1D(128, 9, padding='same', activation='relu')(x)\n",
    "x = layers.MaxPool1D()(x)\n",
    "\n",
    "x = layers.Conv1D(256, 9, padding='same', activation='relu')(x)\n",
    "x = layers.Conv1D(256, 9, padding='same', activation='relu')(x)\n",
    "x = layers.Conv1D(256, 9, padding='same', activation='relu')(x)\n",
    "x = layers.MaxPool1D()(x)\n",
    "x = layers.Dropout(0.3)(x)\n",
    "\n",
    "x = layers.Flatten()(x)\n",
    "x = layers.Dense(256)(x)\n",
    "x = layers.BatchNormalization()(x)\n",
    "x = layers.Activation('relu')(x)\n",
    "\n",
    "output_tensor = layers.Dense(12)(x)\n",
    "\n",
    "model_wav = tf.keras.Model(input_tensor, output_tensor)\n",
    "\n",
    "model_wav.summary()"
   ]
  },
  {
   "cell_type": "markdown",
   "id": "independent-stroke",
   "metadata": {},
   "source": [
    "### 3-2. loss 설정 - 12개의 Class 이므로 multi-class classification (Categorical Cross Entropy loss)"
   ]
  },
  {
   "cell_type": "code",
   "execution_count": 20,
   "id": "together-injury",
   "metadata": {},
   "outputs": [],
   "source": [
    "optimizer=tf.keras.optimizers.Adam(1e-4)\n",
    "model_wav.compile(loss=tf.keras.losses.CategoricalCrossentropy(from_logits=True),\n",
    "             optimizer=optimizer,\n",
    "             metrics=['accuracy'])"
   ]
  },
  {
   "cell_type": "markdown",
   "id": "sublime-today",
   "metadata": {},
   "source": [
    "### 3-3. callback 함수로 학습 중간 원하는 동작을 하도록 설정할 수 있음"
   ]
  },
  {
   "cell_type": "code",
   "execution_count": 21,
   "id": "median-impact",
   "metadata": {},
   "outputs": [],
   "source": [
    "cp_callback = tf.keras.callbacks.ModelCheckpoint(checkpoint_dir,\n",
    "                                                 save_weights_only=True,\n",
    "                                                 monitor='val_loss',\n",
    "                                                 mode='auto',\n",
    "                                                 save_best_only=True,\n",
    "                                                 verbose=1)"
   ]
  },
  {
   "cell_type": "markdown",
   "id": "devoted-blank",
   "metadata": {},
   "source": [
    "### 3-4. model fitting하기"
   ]
  },
  {
   "cell_type": "code",
   "execution_count": 22,
   "id": "distant-collar",
   "metadata": {},
   "outputs": [
    {
     "name": "stdout",
     "output_type": "stream",
     "text": [
      "Epoch 1/8\n",
      "2847/2847 [==============================] - ETA: 0s - loss: 1.3312 - accuracy: 0.5458\n",
      "Epoch 00001: val_loss improved from inf to 0.75913, saving model to /home/aiffel-dj63/aiffel/speech_recognition/models/wav\n",
      "2847/2847 [==============================] - 16s 6ms/step - loss: 1.3312 - accuracy: 0.5458 - val_loss: 0.7591 - val_accuracy: 0.7425\n",
      "Epoch 2/8\n",
      "2838/2847 [============================>.] - ETA: 0s - loss: 0.6525 - accuracy: 0.7867\n",
      "Epoch 00002: val_loss improved from 0.75913 to 0.51796, saving model to /home/aiffel-dj63/aiffel/speech_recognition/models/wav\n",
      "2847/2847 [==============================] - 15s 5ms/step - loss: 0.6518 - accuracy: 0.7868 - val_loss: 0.5180 - val_accuracy: 0.8252\n",
      "Epoch 3/8\n",
      "2841/2847 [============================>.] - ETA: 0s - loss: 0.4601 - accuracy: 0.8489\n",
      "Epoch 00003: val_loss improved from 0.51796 to 0.41317, saving model to /home/aiffel-dj63/aiffel/speech_recognition/models/wav\n",
      "2847/2847 [==============================] - 16s 6ms/step - loss: 0.4595 - accuracy: 0.8492 - val_loss: 0.4132 - val_accuracy: 0.8631\n",
      "Epoch 4/8\n",
      "2847/2847 [==============================] - ETA: 0s - loss: 0.3552 - accuracy: 0.8822\n",
      "Epoch 00004: val_loss improved from 0.41317 to 0.35693, saving model to /home/aiffel-dj63/aiffel/speech_recognition/models/wav\n",
      "2847/2847 [==============================] - 16s 6ms/step - loss: 0.3552 - accuracy: 0.8822 - val_loss: 0.3569 - val_accuracy: 0.8819\n",
      "Epoch 5/8\n",
      "2840/2847 [============================>.] - ETA: 0s - loss: 0.2820 - accuracy: 0.9058\n",
      "Epoch 00005: val_loss improved from 0.35693 to 0.34840, saving model to /home/aiffel-dj63/aiffel/speech_recognition/models/wav\n",
      "2847/2847 [==============================] - 17s 6ms/step - loss: 0.2816 - accuracy: 0.9060 - val_loss: 0.3484 - val_accuracy: 0.8898\n",
      "Epoch 6/8\n",
      "2841/2847 [============================>.] - ETA: 0s - loss: 0.2279 - accuracy: 0.9223\n",
      "Epoch 00006: val_loss improved from 0.34840 to 0.31845, saving model to /home/aiffel-dj63/aiffel/speech_recognition/models/wav\n",
      "2847/2847 [==============================] - 17s 6ms/step - loss: 0.2276 - accuracy: 0.9224 - val_loss: 0.3185 - val_accuracy: 0.8981\n",
      "Epoch 7/8\n",
      "2846/2847 [============================>.] - ETA: 0s - loss: 0.1966 - accuracy: 0.9339\n",
      "Epoch 00007: val_loss improved from 0.31845 to 0.29584, saving model to /home/aiffel-dj63/aiffel/speech_recognition/models/wav\n",
      "2847/2847 [==============================] - 16s 6ms/step - loss: 0.1965 - accuracy: 0.9339 - val_loss: 0.2958 - val_accuracy: 0.9017\n",
      "Epoch 8/8\n",
      "2846/2847 [============================>.] - ETA: 0s - loss: 0.1694 - accuracy: 0.9419\n",
      "Epoch 00008: val_loss did not improve from 0.29584\n",
      "2847/2847 [==============================] - 16s 6ms/step - loss: 0.1693 - accuracy: 0.9420 - val_loss: 0.3001 - val_accuracy: 0.9062\n"
     ]
    }
   ],
   "source": [
    "history_wav = model_wav.fit(train_dataset, epochs=max_epochs,\n",
    "                    steps_per_epoch=len(train_spec) // batch_size,\n",
    "                    validation_data=test_dataset,\n",
    "                    validation_steps=len(test_spec) // batch_size,\n",
    "                    callbacks=[cp_callback]\n",
    "                    )"
   ]
  },
  {
   "cell_type": "markdown",
   "id": "alive-anchor",
   "metadata": {},
   "source": [
    "### 3-5. 학습 결과 Plotting 하기"
   ]
  },
  {
   "cell_type": "code",
   "execution_count": 23,
   "id": "revised-ottawa",
   "metadata": {},
   "outputs": [
    {
     "data": {
      "image/png": "[encoded data removed]",
      "text/plain": [
       "<Figure size 576x576 with 2 Axes>"
      ]
     },
     "metadata": {
      "needs_background": "light"
     },
     "output_type": "display_data"
    }
   ],
   "source": [
    "import matplotlib.pyplot as plt\n",
    "\n",
    "acc = history_wav.history['accuracy']\n",
    "val_acc = history_wav.history['val_accuracy']\n",
    "\n",
    "loss=history_wav.history['loss']\n",
    "val_loss=history_wav.history['val_loss']\n",
    "\n",
    "epochs_range = range(len(acc))\n",
    "\n",
    "plt.figure(figsize=(8, 8))\n",
    "plt.subplot(1, 2, 1)\n",
    "plt.plot(epochs_range, acc, label='Training Accuracy')\n",
    "plt.plot(epochs_range, val_acc, label='Validation Accuracy')\n",
    "plt.legend(loc='lower right')\n",
    "plt.title('Training and Validation Accuracy')\n",
    "\n",
    "plt.subplot(1, 2, 2)\n",
    "plt.plot(epochs_range, loss, label='Training Loss')\n",
    "plt.plot(epochs_range, val_loss, label='Validation Loss')\n",
    "plt.legend(loc='upper right')\n",
    "plt.title('Training and Validation Loss')\n",
    "plt.show()"
   ]
  },
  {
   "cell_type": "markdown",
   "id": "compact-enforcement",
   "metadata": {},
   "source": [
    "그래프를 보니 epoch를 8보다 더 늘리면 더 Training Loss와 Validation loss가 내려갈지 모르지만 과적합이 우려되어 적당하다고 판단하였음\n",
    "\n",
    "### 3-6. evaluation"
   ]
  },
  {
   "cell_type": "code",
   "execution_count": 24,
   "id": "played-floor",
   "metadata": {},
   "outputs": [
    {
     "data": {
      "text/plain": [
       "<tensorflow.python.training.tracking.util.CheckpointLoadStatus at 0x7fb9545dcf50>"
      ]
     },
     "execution_count": 24,
     "metadata": {},
     "output_type": "execute_result"
    }
   ],
   "source": [
    "model_wav.load_weights(checkpoint_dir)"
   ]
  },
  {
   "cell_type": "markdown",
   "id": "electric-quantity",
   "metadata": {},
   "source": [
    "### 3-7. test data를 평가하기 "
   ]
  },
  {
   "cell_type": "code",
   "execution_count": 25,
   "id": "rocky-psychology",
   "metadata": {},
   "outputs": [
    {
     "name": "stdout",
     "output_type": "stream",
     "text": [
      "317/317 [==============================] - 17s 55ms/step - loss: 0.2959 - accuracy: 0.9016\n"
     ]
    }
   ],
   "source": [
    "results = model_wav.evaluate(test_dataset)"
   ]
  },
  {
   "cell_type": "markdown",
   "id": "enhanced-persian",
   "metadata": {},
   "source": [
    "#### 1) loss"
   ]
  },
  {
   "cell_type": "code",
   "execution_count": 26,
   "id": "naughty-weapon",
   "metadata": {},
   "outputs": [
    {
     "name": "stdout",
     "output_type": "stream",
     "text": [
      "loss value: 0.296\n"
     ]
    }
   ],
   "source": [
    "print(\"loss value: {:.3f}\".format(results[0]))\n"
   ]
  },
  {
   "cell_type": "markdown",
   "id": "norwegian-vulnerability",
   "metadata": {},
   "source": [
    "#### 2) accuracy"
   ]
  },
  {
   "cell_type": "code",
   "execution_count": 27,
   "id": "coastal-season",
   "metadata": {},
   "outputs": [
    {
     "name": "stdout",
     "output_type": "stream",
     "text": [
      "accuracy value: 90.1620%\n"
     ]
    }
   ],
   "source": [
    "print(\"accuracy value: {:.4f}%\".format(results[1]*100))"
   ]
  },
  {
   "cell_type": "markdown",
   "id": "insured-advancement",
   "metadata": {},
   "source": [
    "## 4. Skip-Connection model 구현\n",
    "\n",
    "### 4-1. 모델 구성"
   ]
  },
  {
   "cell_type": "code",
   "execution_count": 28,
   "id": "conservative-coating",
   "metadata": {},
   "outputs": [
    {
     "name": "stdout",
     "output_type": "stream",
     "text": [
      "Model: \"model_1\"\n",
      "__________________________________________________________________________________________________\n",
      "Layer (type)                    Output Shape         Param #     Connected to                     \n",
      "==================================================================================================\n",
      "input_2 (InputLayer)            [(None, 130, 126)]   0                                            \n",
      "__________________________________________________________________________________________________\n",
      "conv1d_10 (Conv1D)              (None, 130, 32)      36320       input_2[0][0]                    \n",
      "__________________________________________________________________________________________________\n",
      "conv1d_11 (Conv1D)              (None, 130, 32)      9248        conv1d_10[0][0]                  \n",
      "__________________________________________________________________________________________________\n",
      "max_pooling1d_4 (MaxPooling1D)  (None, 65, 32)       0           conv1d_11[0][0]                  \n",
      "__________________________________________________________________________________________________\n",
      "conv1d_12 (Conv1D)              (None, 65, 64)       18496       max_pooling1d_4[0][0]            \n",
      "__________________________________________________________________________________________________\n",
      "conv1d_13 (Conv1D)              (None, 65, 64)       36928       conv1d_12[0][0]                  \n",
      "__________________________________________________________________________________________________\n",
      "tf_op_layer_concat (TensorFlowO [(None, 65, 96)]     0           conv1d_13[0][0]                  \n",
      "                                                                 max_pooling1d_4[0][0]            \n",
      "__________________________________________________________________________________________________\n",
      "max_pooling1d_5 (MaxPooling1D)  (None, 32, 96)       0           tf_op_layer_concat[0][0]         \n",
      "__________________________________________________________________________________________________\n",
      "conv1d_14 (Conv1D)              (None, 32, 128)      110720      max_pooling1d_5[0][0]            \n",
      "__________________________________________________________________________________________________\n",
      "conv1d_15 (Conv1D)              (None, 32, 128)      147584      conv1d_14[0][0]                  \n",
      "__________________________________________________________________________________________________\n",
      "conv1d_16 (Conv1D)              (None, 32, 128)      147584      conv1d_15[0][0]                  \n",
      "__________________________________________________________________________________________________\n",
      "tf_op_layer_concat_1 (TensorFlo [(None, 32, 224)]    0           conv1d_16[0][0]                  \n",
      "                                                                 max_pooling1d_5[0][0]            \n",
      "__________________________________________________________________________________________________\n",
      "max_pooling1d_6 (MaxPooling1D)  (None, 16, 224)      0           tf_op_layer_concat_1[0][0]       \n",
      "__________________________________________________________________________________________________\n",
      "conv1d_17 (Conv1D)              (None, 16, 256)      516352      max_pooling1d_6[0][0]            \n",
      "__________________________________________________________________________________________________\n",
      "conv1d_18 (Conv1D)              (None, 16, 256)      590080      conv1d_17[0][0]                  \n",
      "__________________________________________________________________________________________________\n",
      "conv1d_19 (Conv1D)              (None, 16, 256)      590080      conv1d_18[0][0]                  \n",
      "__________________________________________________________________________________________________\n",
      "tf_op_layer_concat_2 (TensorFlo [(None, 16, 480)]    0           conv1d_19[0][0]                  \n",
      "                                                                 max_pooling1d_6[0][0]            \n",
      "__________________________________________________________________________________________________\n",
      "max_pooling1d_7 (MaxPooling1D)  (None, 8, 480)       0           tf_op_layer_concat_2[0][0]       \n",
      "__________________________________________________________________________________________________\n",
      "dropout_1 (Dropout)             (None, 8, 480)       0           max_pooling1d_7[0][0]            \n",
      "__________________________________________________________________________________________________\n",
      "flatten_1 (Flatten)             (None, 3840)         0           dropout_1[0][0]                  \n",
      "__________________________________________________________________________________________________\n",
      "dense_2 (Dense)                 (None, 256)          983296      flatten_1[0][0]                  \n",
      "__________________________________________________________________________________________________\n",
      "batch_normalization_1 (BatchNor (None, 256)          1024        dense_2[0][0]                    \n",
      "__________________________________________________________________________________________________\n",
      "activation_1 (Activation)       (None, 256)          0           batch_normalization_1[0][0]      \n",
      "__________________________________________________________________________________________________\n",
      "dense_3 (Dense)                 (None, 12)           3084        activation_1[0][0]               \n",
      "==================================================================================================\n",
      "Total params: 3,190,796\n",
      "Trainable params: 3,190,284\n",
      "Non-trainable params: 512\n",
      "__________________________________________________________________________________________________\n"
     ]
    }
   ],
   "source": [
    "input_tensor = layers.Input(shape=(spec_sr, spec_sc))\n",
    "\n",
    "del x\n",
    "del output_tensor\n",
    "del model_wav\n",
    "del optimizer\n",
    "del cp_callback\n",
    "del history_wav\n",
    "del acc\n",
    "del val_acc\n",
    "del loss\n",
    "del val_loss\n",
    "del epochs_range\n",
    "del results\n",
    "\n",
    "x = layers.Conv1D(32, 9, padding='same', activation='relu')(input_tensor)\n",
    "x = layers.Conv1D(32, 9, padding='same', activation='relu')(x)\n",
    "skip_1 = layers.MaxPool1D()(x)\n",
    "\n",
    "x = layers.Conv1D(64, 9, padding='same', activation='relu')(skip_1)\n",
    "x = layers.Conv1D(64, 9, padding='same', activation='relu')(x)\n",
    "x = tf.concat([x, skip_1], -1)\n",
    "skip_2 = layers.MaxPool1D()(x)\n",
    "\n",
    "x = layers.Conv1D(128, 9, padding='same', activation='relu')(skip_2)\n",
    "x = layers.Conv1D(128, 9, padding='same', activation='relu')(x)\n",
    "x = layers.Conv1D(128, 9, padding='same', activation='relu')(x)\n",
    "x = tf.concat([x, skip_2], -1)\n",
    "skip_3 = layers.MaxPool1D()(x)\n",
    "\n",
    "x = layers.Conv1D(256, 9, padding='same', activation='relu')(skip_3)\n",
    "x = layers.Conv1D(256, 9, padding='same', activation='relu')(x)\n",
    "x = layers.Conv1D(256, 9, padding='same', activation='relu')(x)\n",
    "x = tf.concat([x, skip_3], -1)\n",
    "x = layers.MaxPool1D()(x)\n",
    "x = layers.Dropout(0.3)(x)\n",
    "\n",
    "x = layers.Flatten()(x)\n",
    "x = layers.Dense(256)(x)\n",
    "x = layers.BatchNormalization()(x)\n",
    "x = layers.Activation('relu')(x)\n",
    "\n",
    "output_tensor = layers.Dense(12)(x)\n",
    "\n",
    "model_wav_skip = tf.keras.Model(input_tensor, output_tensor)\n",
    "\n",
    "model_wav_skip.summary()"
   ]
  },
  {
   "cell_type": "markdown",
   "id": "median-interaction",
   "metadata": {},
   "source": [
    "### 4-2. optimizer 설정 "
   ]
  },
  {
   "cell_type": "code",
   "execution_count": 29,
   "id": "described-subscriber",
   "metadata": {},
   "outputs": [],
   "source": [
    "optimizer=tf.keras.optimizers.Adam(1e-4)\n",
    "model_wav_skip.compile(loss=tf.keras.losses.CategoricalCrossentropy(from_logits=True),\n",
    "             optimizer=optimizer,\n",
    "             metrics=['accuracy'])"
   ]
  },
  {
   "cell_type": "markdown",
   "id": "major-roller",
   "metadata": {},
   "source": [
    "### 4-3. check point 만들기"
   ]
  },
  {
   "cell_type": "code",
   "execution_count": 30,
   "id": "entitled-brief",
   "metadata": {},
   "outputs": [],
   "source": [
    "checkpoint_dir = os.getenv('HOME')+'/aiffel/speech_recognition/models/wav_skip'\n",
    "\n",
    "cp_callback = tf.keras.callbacks.ModelCheckpoint(checkpoint_dir,\n",
    "                                                 save_weights_only=True,\n",
    "                                                 monitor='val_loss',\n",
    "                                                 mode='auto',\n",
    "                                                 save_best_only=True,\n",
    "                                                 verbose=1)"
   ]
  },
  {
   "cell_type": "markdown",
   "id": "israeli-output",
   "metadata": {},
   "source": [
    "### 4-4. model fitting"
   ]
  },
  {
   "cell_type": "code",
   "execution_count": 31,
   "id": "molecular-league",
   "metadata": {},
   "outputs": [
    {
     "name": "stdout",
     "output_type": "stream",
     "text": [
      "Epoch 1/8\n",
      "2839/2847 [============================>.] - ETA: 0s - loss: 1.4439 - accuracy: 0.5088\n",
      "Epoch 00001: val_loss improved from inf to 0.91102, saving model to /home/aiffel-dj63/aiffel/speech_recognition/models/wav_skip\n",
      "2847/2847 [==============================] - 17s 6ms/step - loss: 1.4424 - accuracy: 0.5094 - val_loss: 0.9110 - val_accuracy: 0.6920\n",
      "Epoch 2/8\n",
      "2838/2847 [============================>.] - ETA: 0s - loss: 0.7219 - accuracy: 0.7616\n",
      "Epoch 00002: val_loss improved from 0.91102 to 0.50110, saving model to /home/aiffel-dj63/aiffel/speech_recognition/models/wav_skip\n",
      "2847/2847 [==============================] - 18s 6ms/step - loss: 0.7209 - accuracy: 0.7619 - val_loss: 0.5011 - val_accuracy: 0.8317\n",
      "Epoch 3/8\n",
      "2843/2847 [============================>.] - ETA: 0s - loss: 0.4782 - accuracy: 0.8429\n",
      "Epoch 00003: val_loss improved from 0.50110 to 0.41046, saving model to /home/aiffel-dj63/aiffel/speech_recognition/models/wav_skip\n",
      "2847/2847 [==============================] - 19s 7ms/step - loss: 0.4778 - accuracy: 0.8431 - val_loss: 0.4105 - val_accuracy: 0.8614\n",
      "Epoch 4/8\n",
      "2838/2847 [============================>.] - ETA: 0s - loss: 0.3550 - accuracy: 0.8823\n",
      "Epoch 00004: val_loss improved from 0.41046 to 0.36465, saving model to /home/aiffel-dj63/aiffel/speech_recognition/models/wav_skip\n",
      "2847/2847 [==============================] - 18s 6ms/step - loss: 0.3546 - accuracy: 0.8825 - val_loss: 0.3646 - val_accuracy: 0.8776\n",
      "Epoch 5/8\n",
      "2844/2847 [============================>.] - ETA: 0s - loss: 0.2773 - accuracy: 0.9080\n",
      "Epoch 00005: val_loss improved from 0.36465 to 0.33694, saving model to /home/aiffel-dj63/aiffel/speech_recognition/models/wav_skip\n",
      "2847/2847 [==============================] - 17s 6ms/step - loss: 0.2771 - accuracy: 0.9081 - val_loss: 0.3369 - val_accuracy: 0.8861\n",
      "Epoch 6/8\n",
      "2839/2847 [============================>.] - ETA: 0s - loss: 0.2229 - accuracy: 0.9261\n",
      "Epoch 00006: val_loss improved from 0.33694 to 0.32296, saving model to /home/aiffel-dj63/aiffel/speech_recognition/models/wav_skip\n",
      "2847/2847 [==============================] - 18s 6ms/step - loss: 0.2225 - accuracy: 0.9262 - val_loss: 0.3230 - val_accuracy: 0.8942\n",
      "Epoch 7/8\n",
      "2847/2847 [==============================] - ETA: 0s - loss: 0.1772 - accuracy: 0.9416\n",
      "Epoch 00007: val_loss improved from 0.32296 to 0.27518, saving model to /home/aiffel-dj63/aiffel/speech_recognition/models/wav_skip\n",
      "2847/2847 [==============================] - 18s 6ms/step - loss: 0.1772 - accuracy: 0.9416 - val_loss: 0.2752 - val_accuracy: 0.9124\n",
      "Epoch 8/8\n",
      "2844/2847 [============================>.] - ETA: 0s - loss: 0.1504 - accuracy: 0.9503\n",
      "Epoch 00008: val_loss improved from 0.27518 to 0.26146, saving model to /home/aiffel-dj63/aiffel/speech_recognition/models/wav_skip\n",
      "2847/2847 [==============================] - 17s 6ms/step - loss: 0.1502 - accuracy: 0.9504 - val_loss: 0.2615 - val_accuracy: 0.9144\n"
     ]
    }
   ],
   "source": [
    "history_wav_skip = model_wav_skip.fit(train_dataset, epochs=max_epochs,\n",
    "                    steps_per_epoch=len(train_spec) // batch_size,\n",
    "                    validation_data=test_dataset,\n",
    "                    validation_steps=len(test_spec) // batch_size,\n",
    "                    callbacks=[cp_callback]\n",
    "                    )"
   ]
  },
  {
   "cell_type": "markdown",
   "id": "foreign-mineral",
   "metadata": {},
   "source": [
    "### 4-5. 시각화"
   ]
  },
  {
   "cell_type": "code",
   "execution_count": 32,
   "id": "angry-treasure",
   "metadata": {},
   "outputs": [
    {
     "data": {
      "image/png": "[encoded data removed]",
      "text/plain": [
       "<Figure size 576x576 with 2 Axes>"
      ]
     },
     "metadata": {
      "needs_background": "light"
     },
     "output_type": "display_data"
    }
   ],
   "source": [
    "import matplotlib.pyplot as plt\n",
    "\n",
    "acc = history_wav_skip.history['accuracy']\n",
    "val_acc = history_wav_skip.history['val_accuracy']\n",
    "\n",
    "loss=history_wav_skip.history['loss']\n",
    "val_loss=history_wav_skip.history['val_loss']\n",
    "\n",
    "epochs_range = range(len(acc))\n",
    "\n",
    "plt.figure(figsize=(8, 8))\n",
    "plt.subplot(1, 2, 1)\n",
    "plt.plot(epochs_range, acc, label='Training Accuracy')\n",
    "plt.plot(epochs_range, val_acc, label='Validation Accuracy')\n",
    "plt.legend(loc='lower right')\n",
    "plt.title('Training and Validation Accuracy')\n",
    "\n",
    "plt.subplot(1, 2, 2)\n",
    "plt.plot(epochs_range, loss, label='Training Loss')\n",
    "plt.plot(epochs_range, val_loss, label='Validation Loss')\n",
    "plt.legend(loc='upper right')\n",
    "plt.title('Training and Validation Loss')\n",
    "plt.show()"
   ]
  },
  {
   "cell_type": "markdown",
   "id": "changed-guide",
   "metadata": {},
   "source": [
    "### 4-6.  Evaluation"
   ]
  },
  {
   "cell_type": "code",
   "execution_count": 33,
   "id": "hollow-garden",
   "metadata": {},
   "outputs": [
    {
     "name": "stdout",
     "output_type": "stream",
     "text": [
      "317/317 [==============================] - 5s 16ms/step - loss: 0.2614 - accuracy: 0.9143\n"
     ]
    }
   ],
   "source": [
    "model_wav_skip.load_weights(checkpoint_dir)\n",
    "results = model_wav_skip.evaluate(test_dataset)"
   ]
  },
  {
   "cell_type": "markdown",
   "id": "herbal-cathedral",
   "metadata": {},
   "source": [
    "#### 1) loss"
   ]
  },
  {
   "cell_type": "code",
   "execution_count": 34,
   "id": "spectacular-promise",
   "metadata": {},
   "outputs": [
    {
     "name": "stdout",
     "output_type": "stream",
     "text": [
      "loss value: 0.261\n"
     ]
    }
   ],
   "source": [
    "print(\"loss value: {:.3f}\".format(results[0]))"
   ]
  },
  {
   "cell_type": "markdown",
   "id": "enclosed-edmonton",
   "metadata": {},
   "source": [
    "#### 2) accuracy"
   ]
  },
  {
   "cell_type": "code",
   "execution_count": 35,
   "id": "attractive-cliff",
   "metadata": {},
   "outputs": [
    {
     "name": "stdout",
     "output_type": "stream",
     "text": [
      "accuracy value: 91.4263%\n"
     ]
    }
   ],
   "source": [
    "print(\"accuracy value: {:.4f}%\".format(results[1]*100))"
   ]
  },
  {
   "cell_type": "markdown",
   "id": "surgical-japanese",
   "metadata": {},
   "source": [
    "## 5. Conv2d layer model 구현\n",
    "### 5-1. 모델 구성"
   ]
  },
  {
   "cell_type": "code",
   "execution_count": 36,
   "id": "interstate-arrow",
   "metadata": {},
   "outputs": [
    {
     "name": "stdout",
     "output_type": "stream",
     "text": [
      "Model: \"model_2\"\n",
      "_________________________________________________________________\n",
      "Layer (type)                 Output Shape              Param #   \n",
      "=================================================================\n",
      "input_3 (InputLayer)         [(None, 130, 126, 1)]     0         \n",
      "_________________________________________________________________\n",
      "conv2d (Conv2D)              (None, 130, 126, 32)      320       \n",
      "_________________________________________________________________\n",
      "conv2d_1 (Conv2D)            (None, 130, 126, 32)      9248      \n",
      "_________________________________________________________________\n",
      "max_pooling2d (MaxPooling2D) (None, 65, 63, 32)        0         \n",
      "_________________________________________________________________\n",
      "conv2d_2 (Conv2D)            (None, 65, 63, 64)        18496     \n",
      "_________________________________________________________________\n",
      "conv2d_3 (Conv2D)            (None, 65, 63, 64)        36928     \n",
      "_________________________________________________________________\n",
      "max_pooling2d_1 (MaxPooling2 (None, 32, 31, 64)        0         \n",
      "_________________________________________________________________\n",
      "conv2d_4 (Conv2D)            (None, 32, 31, 128)       73856     \n",
      "_________________________________________________________________\n",
      "conv2d_5 (Conv2D)            (None, 32, 31, 128)       147584    \n",
      "_________________________________________________________________\n",
      "conv2d_6 (Conv2D)            (None, 32, 31, 128)       147584    \n",
      "_________________________________________________________________\n",
      "max_pooling2d_2 (MaxPooling2 (None, 16, 15, 128)       0         \n",
      "_________________________________________________________________\n",
      "conv2d_7 (Conv2D)            (None, 16, 15, 256)       295168    \n",
      "_________________________________________________________________\n",
      "conv2d_8 (Conv2D)            (None, 16, 15, 256)       590080    \n",
      "_________________________________________________________________\n",
      "conv2d_9 (Conv2D)            (None, 16, 15, 256)       590080    \n",
      "_________________________________________________________________\n",
      "max_pooling2d_3 (MaxPooling2 (None, 8, 7, 256)         0         \n",
      "_________________________________________________________________\n",
      "dropout_2 (Dropout)          (None, 8, 7, 256)         0         \n",
      "_________________________________________________________________\n",
      "flatten_2 (Flatten)          (None, 14336)             0         \n",
      "_________________________________________________________________\n",
      "dense_4 (Dense)              (None, 256)               3670272   \n",
      "_________________________________________________________________\n",
      "batch_normalization_2 (Batch (None, 256)               1024      \n",
      "_________________________________________________________________\n",
      "activation_2 (Activation)    (None, 256)               0         \n",
      "_________________________________________________________________\n",
      "dense_5 (Dense)              (None, 12)                3084      \n",
      "=================================================================\n",
      "Total params: 5,583,724\n",
      "Trainable params: 5,583,212\n",
      "Non-trainable params: 512\n",
      "_________________________________________________________________\n"
     ]
    }
   ],
   "source": [
    "input_tensor = layers.Input(shape=(spec_sr, spec_sc, 1)) \n",
    "\n",
    "del x\n",
    "del output_tensor\n",
    "del model_wav_skip\n",
    "del optimizer\n",
    "del cp_callback\n",
    "del history_wav_skip\n",
    "del acc\n",
    "del val_acc\n",
    "del loss\n",
    "del val_loss\n",
    "del epochs_range\n",
    "del results\n",
    "\n",
    "x = layers.Conv2D(32, (3,3), padding='same', activation='relu')(input_tensor)\n",
    "x = layers.Conv2D(32, (3,3), padding='same', activation='relu')(x)\n",
    "x = layers.MaxPool2D(2,2)(x)\n",
    "\n",
    "x = layers.Conv2D(64, (3,3), padding='same', activation='relu')(x)\n",
    "x = layers.Conv2D(64, (3,3), padding='same', activation='relu')(x)\n",
    "x = layers.MaxPool2D(2,2)(x)\n",
    "\n",
    "x = layers.Conv2D(128, (3,3), padding='same', activation='relu')(x)\n",
    "x = layers.Conv2D(128, (3,3), padding='same', activation='relu')(x)\n",
    "x = layers.Conv2D(128, (3,3), padding='same', activation='relu')(x)\n",
    "x = layers.MaxPool2D(2,2)(x)\n",
    "\n",
    "x = layers.Conv2D(256, (3,3), padding='same', activation='relu')(x)\n",
    "x = layers.Conv2D(256, (3,3), padding='same', activation='relu')(x)\n",
    "x = layers.Conv2D(256, (3,3), padding='same', activation='relu')(x)\n",
    "x = layers.MaxPool2D(2,2)(x)\n",
    "x = layers.Dropout(0.3)(x)\n",
    "\n",
    "x = layers.Flatten()(x)\n",
    "x = layers.Dense(256)(x)\n",
    "x = layers.BatchNormalization()(x)\n",
    "x = layers.Activation('relu')(x)\n",
    "\n",
    "output_tensor = layers.Dense(12)(x)\n",
    "\n",
    "model_wav_2D = tf.keras.Model(input_tensor, output_tensor)\n",
    "\n",
    "model_wav_2D.summary()"
   ]
  },
  {
   "cell_type": "markdown",
   "id": "informal-healing",
   "metadata": {},
   "source": [
    "### 5-2. optimizer 설정 "
   ]
  },
  {
   "cell_type": "code",
   "execution_count": 37,
   "id": "collected-hygiene",
   "metadata": {},
   "outputs": [],
   "source": [
    "optimizer=tf.keras.optimizers.Adam(1e-4)\n",
    "model_wav_2D.compile(loss=tf.keras.losses.CategoricalCrossentropy(from_logits=True),\n",
    "             optimizer=optimizer,\n",
    "             metrics=['accuracy'])"
   ]
  },
  {
   "cell_type": "markdown",
   "id": "olympic-japanese",
   "metadata": {},
   "source": [
    "### 5-3. check point 만들기"
   ]
  },
  {
   "cell_type": "code",
   "execution_count": 38,
   "id": "better-surname",
   "metadata": {},
   "outputs": [],
   "source": [
    "checkpoint_dir = os.getenv('HOME')+'/aiffel/speech_recognition/models/wav_skip'\n",
    "\n",
    "cp_callback = tf.keras.callbacks.ModelCheckpoint(checkpoint_dir,\n",
    "                                                 save_weights_only=True,\n",
    "                                                 monitor='val_loss',\n",
    "                                                 mode='auto',\n",
    "                                                 save_best_only=True,\n",
    "                                                 verbose=1)"
   ]
  },
  {
   "cell_type": "markdown",
   "id": "unusual-milan",
   "metadata": {},
   "source": [
    "### 5-4. model fitting"
   ]
  },
  {
   "cell_type": "code",
   "execution_count": 39,
   "id": "colonial-worry",
   "metadata": {},
   "outputs": [
    {
     "name": "stdout",
     "output_type": "stream",
     "text": [
      "Epoch 1/8\n",
      "2845/2847 [============================>.] - ETA: 0s - loss: 0.7148 - accuracy: 0.7692\n",
      "Epoch 00001: val_loss improved from inf to 0.30031, saving model to /home/aiffel-dj63/aiffel/speech_recognition/models/wav_skip\n",
      "2847/2847 [==============================] - 69s 24ms/step - loss: 0.7144 - accuracy: 0.7693 - val_loss: 0.3003 - val_accuracy: 0.9037\n",
      "Epoch 2/8\n",
      "2846/2847 [============================>.] - ETA: 0s - loss: 0.2668 - accuracy: 0.9173\n",
      "Epoch 00002: val_loss improved from 0.30031 to 0.18510, saving model to /home/aiffel-dj63/aiffel/speech_recognition/models/wav_skip\n",
      "2847/2847 [==============================] - 73s 26ms/step - loss: 0.2668 - accuracy: 0.9173 - val_loss: 0.1851 - val_accuracy: 0.9420\n",
      "Epoch 3/8\n",
      "2846/2847 [============================>.] - ETA: 0s - loss: 0.1712 - accuracy: 0.9464\n",
      "Epoch 00003: val_loss improved from 0.18510 to 0.15917, saving model to /home/aiffel-dj63/aiffel/speech_recognition/models/wav_skip\n",
      "2847/2847 [==============================] - 67s 23ms/step - loss: 0.1711 - accuracy: 0.9465 - val_loss: 0.1592 - val_accuracy: 0.9484\n",
      "Epoch 4/8\n",
      "2845/2847 [============================>.] - ETA: 0s - loss: 0.1265 - accuracy: 0.9608\n",
      "Epoch 00004: val_loss improved from 0.15917 to 0.13004, saving model to /home/aiffel-dj63/aiffel/speech_recognition/models/wav_skip\n",
      "2847/2847 [==============================] - 65s 23ms/step - loss: 0.1264 - accuracy: 0.9608 - val_loss: 0.1300 - val_accuracy: 0.9551\n",
      "Epoch 5/8\n",
      "2847/2847 [==============================] - ETA: 0s - loss: 0.0964 - accuracy: 0.9701\n",
      "Epoch 00005: val_loss improved from 0.13004 to 0.11678, saving model to /home/aiffel-dj63/aiffel/speech_recognition/models/wav_skip\n",
      "2847/2847 [==============================] - 65s 23ms/step - loss: 0.0964 - accuracy: 0.9701 - val_loss: 0.1168 - val_accuracy: 0.9591\n",
      "Epoch 6/8\n",
      "2845/2847 [============================>.] - ETA: 0s - loss: 0.0782 - accuracy: 0.9750 ETA: 0s - loss: 0\n",
      "Epoch 00006: val_loss did not improve from 0.11678\n",
      "2847/2847 [==============================] - 65s 23ms/step - loss: 0.0781 - accuracy: 0.9751 - val_loss: 0.1199 - val_accuracy: 0.9618\n",
      "Epoch 7/8\n",
      "2846/2847 [============================>.] - ETA: 0s - loss: 0.0645 - accuracy: 0.9794 ETA: 0s - loss: 0.0645 - accuracy: 0.\n",
      "Epoch 00007: val_loss improved from 0.11678 to 0.10768, saving model to /home/aiffel-dj63/aiffel/speech_recognition/models/wav_skip\n",
      "2847/2847 [==============================] - 67s 24ms/step - loss: 0.0645 - accuracy: 0.9794 - val_loss: 0.1077 - val_accuracy: 0.9654\n",
      "Epoch 8/8\n",
      "2847/2847 [==============================] - ETA: 0s - loss: 0.0547 - accuracy: 0.9831\n",
      "Epoch 00008: val_loss did not improve from 0.10768\n",
      "2847/2847 [==============================] - 69s 24ms/step - loss: 0.0547 - accuracy: 0.9831 - val_loss: 0.1164 - val_accuracy: 0.9624\n"
     ]
    }
   ],
   "source": [
    "history_wav_2D = model_wav_2D.fit(train_dataset, epochs=max_epochs,\n",
    "                    steps_per_epoch=len(train_spec) // batch_size,\n",
    "                    validation_data=test_dataset,\n",
    "                    validation_steps=len(test_spec) // batch_size,\n",
    "                    callbacks=[cp_callback]\n",
    "                    )"
   ]
  },
  {
   "cell_type": "markdown",
   "id": "literary-solid",
   "metadata": {},
   "source": [
    "### 5-5. 시각화"
   ]
  },
  {
   "cell_type": "code",
   "execution_count": 40,
   "id": "wrong-cooperative",
   "metadata": {},
   "outputs": [
    {
     "data": {
      "image/png": "[encoded data removed]",
      "text/plain": [
       "<Figure size 576x576 with 2 Axes>"
      ]
     },
     "metadata": {
      "needs_background": "light"
     },
     "output_type": "display_data"
    }
   ],
   "source": [
    "import matplotlib.pyplot as plt\n",
    "\n",
    "acc = history_wav_2D.history['accuracy']\n",
    "val_acc = history_wav_2D.history['val_accuracy']\n",
    "\n",
    "loss=history_wav_2D.history['loss']\n",
    "val_loss=history_wav_2D.history['val_loss']\n",
    "\n",
    "epochs_range = range(len(acc))\n",
    "\n",
    "plt.figure(figsize=(8, 8))\n",
    "plt.subplot(1, 2, 1)\n",
    "plt.plot(epochs_range, acc, label='Training Accuracy')\n",
    "plt.plot(epochs_range, val_acc, label='Validation Accuracy')\n",
    "plt.legend(loc='lower right')\n",
    "plt.title('Training and Validation Accuracy')\n",
    "\n",
    "plt.subplot(1, 2, 2)\n",
    "plt.plot(epochs_range, loss, label='Training Loss')\n",
    "plt.plot(epochs_range, val_loss, label='Validation Loss')\n",
    "plt.legend(loc='upper right')\n",
    "plt.title('Training and Validation Loss')\n",
    "plt.show()"
   ]
  },
  {
   "cell_type": "markdown",
   "id": "catholic-sunrise",
   "metadata": {},
   "source": [
    "### 5-6.  Evaluation"
   ]
  },
  {
   "cell_type": "code",
   "execution_count": 41,
   "id": "exceptional-ivory",
   "metadata": {},
   "outputs": [
    {
     "name": "stdout",
     "output_type": "stream",
     "text": [
      "317/317 [==============================] - 27s 84ms/step - loss: 0.1086 - accuracy: 0.9650\n"
     ]
    }
   ],
   "source": [
    "model_wav_2D.load_weights(checkpoint_dir)\n",
    "results = model_wav_2D.evaluate(test_dataset)"
   ]
  },
  {
   "cell_type": "markdown",
   "id": "mediterranean-church",
   "metadata": {},
   "source": [
    "#### 1) loss"
   ]
  },
  {
   "cell_type": "code",
   "execution_count": 42,
   "id": "greek-consolidation",
   "metadata": {},
   "outputs": [
    {
     "name": "stdout",
     "output_type": "stream",
     "text": [
      "loss value: 0.109\n"
     ]
    }
   ],
   "source": [
    "print(\"loss value: {:.3f}\".format(results[0]))"
   ]
  },
  {
   "cell_type": "markdown",
   "id": "processed-poverty",
   "metadata": {},
   "source": [
    "#### 2) accuracy"
   ]
  },
  {
   "cell_type": "code",
   "execution_count": 43,
   "id": "certain-psychology",
   "metadata": {},
   "outputs": [
    {
     "name": "stdout",
     "output_type": "stream",
     "text": [
      "accuracy value: 96.5034%\n"
     ]
    }
   ],
   "source": [
    "print(\"accuracy value: {:.4f}%\".format(results[1]*100))"
   ]
  },
  {
   "cell_type": "markdown",
   "id": "stone-season",
   "metadata": {},
   "source": [
    "## 6. 모델별 Accuracy 비교"
   ]
  },
  {
   "cell_type": "code",
   "execution_count": 49,
   "id": "silver-oracle",
   "metadata": {},
   "outputs": [
    {
     "data": {
      "image/png": "[encoded data removed]",
      "text/plain": [
       "<Figure size 432x288 with 1 Axes>"
      ]
     },
     "metadata": {
      "needs_background": "light"
     },
     "output_type": "display_data"
    }
   ],
   "source": [
    "import matplotlib.pyplot as plt\n",
    "model = ['Conv1D-layer', 'Skip-connection', 'Conv2d-layer']\n",
    "accuracy = [90.1620, 91.4263, 96.5034]\n",
    "plt.scatter(model, accuracy)\n",
    "plt.plot(model, accuracy)\n",
    "plt.axis([-0.5,2.5,80,100])\n",
    "plt.suptitle('What is the best model?')\n",
    "plt.xlabel('Model')\n",
    "plt.ylabel('Accuracy')\n",
    "plt.annotate('Best Model', xy=(2, 97), xytext=(1.75, 98.5),\n",
    "             arrowprops=dict(facecolor='red', shrink=0.05))\n",
    "plt.show()"
   ]
  },
  {
   "cell_type": "markdown",
   "id": "communist-cylinder",
   "metadata": {},
   "source": [
    "## 7. 회고 \n",
    "\n",
    "<br/>\n",
    "\n",
    "#### 2차원으로 바꿔주는 것에 대한 문제\n",
    "- 어느 지점에서 바꾸어야하나 하는 문제\n",
    "    - 이것이 가장 난감했었다. 처음에는 이해를 잘하지 못하여 모델 구현 바로 전에 하였는데 2차원으로 바꿔준 후 데이터를 분리하고 reshape를 해야한다는 것을 깨달았다. 최종적으로 2차원으로 바꿔주는 시기는 데이터를 분리하고 reshape 하기 전인 2-2에 하기로 하였다.\n",
    "\n",
    "\n",
    "- wav2spec은 데이터 하나에 대해서만 변환해주는 문제\n",
    "    - wav2spec은 데이터 하나에 대해서만 변환해준다. 따라서, 내가 고안한 전략은 for문을 통해 speech_data\\[\"wav_vals\"\\]에서 데이터 하나씩 불러와서 변환해준 후 최종적으로 그 리스트를 array형태로 바꿔주는 것이었다. 이 과정은 2-1 3)에서 볼 수 있다.\n",
    "    \n",
    "<br/>\n",
    "\n",
    "#### 메모리 부족 현상에 대한 다양한 경우 (커널이 죽는 문제)\n",
    "이 부분은 많은 사람들이 겪고 해결방안들을 제시해주어서 어렵지 않게 해결하였다. 하지만, 그 해결방안들을 한 번 정리해보았다.\n",
    "\n",
    "- GPU가 아닌 CPU를 사용하고 있는 경우\n",
    "    - 이 경우는 tensorflow를 GPU가 아닌 것으로 설치하였을 경우이다. 이와 같을 경우 CPU를 사용하고 있다는 오류가 떠 확인할 수 있으므로 이럴 경우 tensorflow를 지워준 후 tensorflow-gpu 를 설치하여 해결하면 된다.\n",
    "    \n",
    "\n",
    "- 다른 커널들을 사용하고 있는 경우\n",
    "    - 이번 작업 같은 경우 메모리를 많이 사용하여야 하기 때문에 이 커널 이외의 것들을 전부 종료해준 후 따로 진행하는 것이 효율적이다. \n",
    "    \n",
    "\n",
    "- del를 사용하여 앞서 저장한 리스트들을 비워주지 않는 경우\n",
    "    - 이 경우가 문제 해결의 가장 핵심이라고 생각한다. 본인의 경우에는 2-1 3)에서 리스트(data_list)를 굳이 만들었기에 여기서 메모리를 많이 사용하였다. 따라서, 이를 지워주지 않아 메모리 부족 현상이 발생하였다. 이를 해결하기 위해 2-3 1) 에서 del speech_data, del data_list 등의 명령어를 통해 리스트에 담고 있던 정보를 사용해주며 메모리를 복구해주어 해결할 수 있었다. 또한, 4번 5번에서 새로운 모델을 설계할 때도 그 전에 있던 리스트들을 비워주었다.\n",
    "\n",
    "\n",
    "<br/>\n",
    "\n",
    "#### Conv2D 모델 설계에 있어서의 어려움\n",
    "\n",
    "- input shape에 어떤 값의 형태로 넣어야하는가\n",
    "    - 이전에 설계했었던 가위바위보 분류기 모델에서 Conv2D모델을 사용한 것을 생각하였고, 그때의 shape를 살펴보았다. 당시에 가로세로가 각각 32였고, 채널이 1이었다. 이번 것에 적용하기 위해서 shape를 시간, 주파수, 1로 해주었고 올바르게 작동하는 것을 볼 수 있었다.\n",
    "  \n",
    "  \n",
    "- Conv2D 모델을 어떻게 설계할 것인가\n",
    "    - CS231n 5강 내용을 마침 공부를 마친 터여서 필터의 크기와 stride , padding의 크기 설정 등을 한다는 것을 알 수 있었다. 이전에 가위바위보 분류기 모델에서 설정했던 값들을 그대로 사용하기로 하였다. 그 결과 올바르게 작동하는 것을 볼 수 있었다.\n",
    "\n",
    "<br/>\n",
    "<br/>\n",
    "\n",
    "## 8. 루브릭\n",
    "\n",
    "<br/>\n",
    "\n",
    "#### 스펙트로그램 시각화 및 train/test 데이터셋 구성이 정상진행되었다.\n",
    "- 시각화: 1-3 6) 에서 확인 가능, \n",
    "![spec](https://user-images.githubusercontent.com/70703320/105841533-1b64bb00-6018-11eb-8bff-3d0cc7114ba3.png)\n",
    "- train/test 데이터셋 구성: 2.3 1~2)에서 확인 가능\n",
    "![train](https://user-images.githubusercontent.com/70703320/105841536-1c95e800-6018-11eb-9713-b701e60d15eb.png)\n",
    "\n",
    "<br/>\n",
    "\n",
    "#### 스펙트로그램을 입력받은 모델이 학습과정에서 안정적으로 수렴하며, evaluation/test 단계를 무리없이 진행가능하다.\n",
    "- 안정적으로 수렴: 5.6에서 확인 가능\n",
    "![eval](https://user-images.githubusercontent.com/70703320/105841542-1e5fab80-6018-11eb-8b21-950fac0dba7a.png)\n",
    "<br/>\n",
    "\n",
    "#### evaluation 결과 75% 이상의 정확도를 달성하는 모델이 하나 이상 존재한다.\n",
    "- 6 에서 3가지 모델 모두 75% 이상임을 확인 가능\n",
    "![best](https://user-images.githubusercontent.com/70703320/105841549-1f90d880-6018-11eb-8e1d-3e642c3658d5.png)"
   ]
  },
  {
   "cell_type": "code",
   "execution_count": null,
   "id": "native-output",
   "metadata": {},
   "outputs": [],
   "source": []
  }
 ],
 "metadata": {
  "kernelspec": {
   "display_name": "aiffel",
   "language": "python",
   "name": "aiffel"
  },
  "language_info": {
   "codemirror_mode": {
    "name": "ipython",
    "version": 3
   },
   "file_extension": ".py",
   "mimetype": "text/x-python",
   "name": "python",
   "nbconvert_exporter": "python",
   "pygments_lexer": "ipython3",
   "version": "3.7.9"
  }
 },
 "nbformat": 4,
 "nbformat_minor": 5
}
