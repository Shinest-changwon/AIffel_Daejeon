{
 "cells": [
  {
   "cell_type": "markdown",
   "id": "protective-theory",
   "metadata": {},
   "source": [
    "[E5]-project_Spectrogram_Classification\n",
    "===\n",
    " ---\n",
    "\n",
    "<br/>\n",
    "\n",
    "\n",
    "### 서론\n",
    "\n",
    "Google Assistant, Siri, Bixby 등 우리들의 음성을 인식하는 비서들은 우리 생활에서 흔히 볼 수 있다. 이들이 어떤 방법으로 음성을 인식하고 분류하는지 여러가지 모델을 통해 살펴보자.\n",
    "\n",
    "<br/>\n",
    "\n",
    "\n",
    "![음성인식](https://user-images.githubusercontent.com/70703320/105654977-7e642e00-5f02-11eb-9a9e-8feb242ef3c4.jpg)\n",
    "\\[사진 출처: 미스터후스더보스 유튜브\\]\n",
    "\n",
    "\n",
    "<br/>\n",
    "\n",
    "\n",
    "### 목표\n",
    "- 오디오 데이터, 1차원 wave 형식 데이터를 STFT(Short Time Fourier Transform)을 통하여 2차원으로 변환하여 Spectrogram classification 모델을 구현해보자.\n",
    "- Skip connection 모델을 추가하여 어떤 차이가 있는지 확인해보자.\n",
    "- Conv1d layer가 아닌 Conv2d layer를 사용해보려는 시도도 해보자.\n",
    "\n",
    " \n",
    "\n",
    "<br/>\n",
    "\n",
    "### 데이터셋 정보 \n",
    "- [캐글의 음성 인식 챌린지 데이터](https://www.kaggle.com/c/tensorflow-speech-recognition-challenge) \n",
    "\n",
    "- [음성 파일에 대해 구체적으로 알고 싶다면 클릭](https://biology-statistics-programming.tistory.com/39?category=955669)\n",
    "\n",
    "<br/>\n",
    "\n",
    "\n",
    "### 목차\n",
    "1. 데이터 준비\n",
    "- 1-1. 데이터 경로 설정 후 불러오기 \n",
    "- 1-2. 데이터셋 살펴보기\n",
    "- 1-3. 데이터 확인해보기\n",
    "    - 1) wav_vals데이터 수 만큼에서 하나를 랜덤으로 추출\n",
    "    - 2) wav2spec 함수 정의\n",
    "    - 3) 랜덤으로 추출된 하나의 데이터 모양 확인하기 (wav)\n",
    "    - 4) 랜덤으로 추출된 하나의 데이터 모양 확인하기 (spec)\n",
    "    - 5) label로 확인하고 소리로 들어보기\n",
    "    - 6) 스펙트로그램 시각화\n",
    "\n",
    "<br/>\n",
    "\n",
    "2. Train/Test 데이터셋 구성하기\n",
    "- 2-1. 라벨 데이터 처리\n",
    "    - 1) label_list(\\['yes', 'no', 'up', 'down', 'left', 'right', 'on', 'off', 'stop', 'go'\\])에 unknown과 silence 추가하기\n",
    "    - 2) dictionary 형태로 전환\n",
    "    - 3) label 데이터를 숫자로 변환하여 더 쉽게 사용\n",
    "- 2-2. 1차원의 Waveform 데이터가 2차원의 Spectrogram 데이터로 변환\n",
    "    - wav2spec을 통해 2차원으로 변환\n",
    "- 2-3. 학습을 위한 데이터 분리\n",
    "    - 1) Train : Test = 9 : 1의 비율로 분리하기\n",
    "    - 2) train_spec, test_spec을 reshape해주기\n",
    "    - 3) 나눠진 데이터셋 확인\n",
    "    - 4) Hyper-parameter (batch_size와 max_epochs) 설정해주기\n",
    "- 2-4. 데이터 세팅\n",
    "    - 1) map 함수에 넘겨줄 데이터 전처리 함수\n",
    "    - 2) tf.data.Datset함수\n",
    "\n",
    "<br/>\n",
    "\n",
    "3. Conv1D layer를 이용해서 모델 구현\n",
    "- 3-1. 모델 구성 (Conv1D layer)\n",
    "- 3-2. loss 설정 - 12개의 Class 이므로 multi-class classification \n",
    "- 3-3. callback 함수로 학습 중간 원하는 동작을 하도록 설정할 수 있음\n",
    "- 3-4. model fitting하기\n",
    "- 3-5. 학습 결과 Plotting 하기\n",
    "- 3-6. evaluation\n",
    "- 3-7. test data를 평가하기 \n",
    "    - 1) loss\n",
    "    - 2) accuracy  \n",
    "    \n",
    "<br/>\n",
    "\n",
    "4. Skip-Connection model 구현\n",
    "- 4-1. 모델 구성 (skip-connection)\n",
    "- 4-2. loss 설정 - 12개의 Class 이므로 multi-class classification \n",
    "- 4-3. callback 함수로 학습 중간 원하는 동작을 하도록 설정할 수 있음\n",
    "- 4-4. model fitting하기\n",
    "- 4-5. 학습 결과 Plotting 하기\n",
    "- 4-6. evaluation\n",
    "- 4-7. test data를 평가하기 \n",
    "    - 1) loss\n",
    "    - 2) accuracy  \n",
    "\n",
    "<br/>\n",
    "\n",
    "5. Conv2d layer model 구현\n",
    "- 5-1. 모델 구성 (Conv2d layer model)\n",
    "- 5-2. loss 설정 - 12개의 Class 이므로 multi-class classification \n",
    "- 5-3. callback 함수로 학습 중간 원하는 동작을 하도록 설정할 수 있음\n",
    "- 5-4. model fitting하기\n",
    "- 5-5. 학습 결과 Plotting 하기\n",
    "- 5-6. evaluation\n",
    "- 5-7. test data를 평가하기 \n",
    "    - 1) loss\n",
    "    - 2) accurac\n",
    "\n",
    "6. 모델별 비교\n",
    "7. 회고\n",
    "8. 루브릭\n",
    "---\n",
    "\n",
    "## 1. 데이터 준비\n",
    "\n",
    "### 1-1. 데이터 경로 설정 후 불러오기\n"
   ]
  },
  {
   "cell_type": "code",
   "execution_count": 1,
   "id": "improved-complaint",
   "metadata": {},
   "outputs": [],
   "source": [
    "import numpy as np\n",
    "import os\n",
    "\n",
    "data_path = os.getenv(\"HOME\")+'/aiffel/speech_recognition/data/speech_wav_8000.npz'\n",
    "speech_data = np.load(data_path)"
   ]
  },
  {
   "cell_type": "markdown",
   "id": "juvenile-playlist",
   "metadata": {},
   "source": [
    "### 1-2. 데이터셋 살펴보기"
   ]
  },
  {
   "cell_type": "code",
   "execution_count": 2,
   "id": "political-treatment",
   "metadata": {},
   "outputs": [
    {
     "name": "stdout",
     "output_type": "stream",
     "text": [
      "Wave data shape :  (50620, 8000)\n",
      "Label data shape :  (50620, 1)\n"
     ]
    }
   ],
   "source": [
    "print(\"Wave data shape : \", speech_data[\"wav_vals\"].shape)\n",
    "print(\"Label data shape : \", speech_data[\"label_vals\"].shape)"
   ]
  },
  {
   "cell_type": "markdown",
   "id": "therapeutic-venezuela",
   "metadata": {},
   "source": [
    "- wave 데이터의 수는 50620개이고, 각각은 sampling rate가 8000이다.\n",
    "- label 데이터의 수는 50620개이고, 각각은 1개의 라벨정보를 담고 있다.\n",
    "\n",
    "### 1-3. 데이터 확인해보기\n",
    "\n",
    "#### 1) wav_vals데이터 수 만큼에서 하나를 랜덤으로 추출"
   ]
  },
  {
   "cell_type": "code",
   "execution_count": 3,
   "id": "sealed-exhibition",
   "metadata": {},
   "outputs": [
    {
     "name": "stdout",
     "output_type": "stream",
     "text": [
      "rand num :  33826\n"
     ]
    }
   ],
   "source": [
    "import IPython.display as ipd\n",
    "import random\n",
    "\n",
    "rand = random.randint(0, len(speech_data[\"wav_vals\"]))\n",
    "print(\"rand num : \", rand)"
   ]
  },
  {
   "cell_type": "markdown",
   "id": "veterinary-association",
   "metadata": {},
   "source": [
    "#### 2) wav2spec 함수 정의"
   ]
  },
  {
   "cell_type": "code",
   "execution_count": 4,
   "id": "hollow-factor",
   "metadata": {},
   "outputs": [],
   "source": [
    "import librosa\n",
    "\n",
    "def wav2spec(wav, fft_size=258): \n",
    "    D = np.abs(librosa.stft(wav, n_fft=fft_size))\n",
    "    return D"
   ]
  },
  {
   "cell_type": "markdown",
   "id": "distant-field",
   "metadata": {},
   "source": [
    "#### 3) 랜덤으로 추출된 하나의 데이터 모양 확인하기 (wav)"
   ]
  },
  {
   "cell_type": "code",
   "execution_count": 5,
   "id": "completed-destruction",
   "metadata": {},
   "outputs": [
    {
     "name": "stdout",
     "output_type": "stream",
     "text": [
      "Wave data shape :  (8000,)\n"
     ]
    }
   ],
   "source": [
    "sr = 8000 \n",
    "data = speech_data[\"wav_vals\"][rand]\n",
    "print(\"Wave data shape : \", data.shape)"
   ]
  },
  {
   "cell_type": "markdown",
   "id": "lovely-raise",
   "metadata": {},
   "source": [
    "1차원이므로 sampling rate: 8000만 나옴 \n",
    "\n",
    "#### 4) label로 확인하고 소리로 들어보기 "
   ]
  },
  {
   "cell_type": "code",
   "execution_count": 6,
   "id": "another-mississippi",
   "metadata": {},
   "outputs": [
    {
     "name": "stdout",
     "output_type": "stream",
     "text": [
      "label :  ['on']\n"
     ]
    },
    {
     "data": {
      "text/html": [
       "\n",
       "                <audio  controls=\"controls\" >\n",
       "                    <source src=\"data:audio/wav;base64,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\" type=\"audio/wav\" />\n",
       "                    Your browser does not support the audio element.\n",
       "                </audio>\n",
       "              "
      ],
      "text/plain": [
       "<IPython.lib.display.Audio object>"
      ]
     },
     "execution_count": 6,
     "metadata": {},
     "output_type": "execute_result"
    }
   ],
   "source": [
    "print(\"label : \", speech_data[\"label_vals\"][rand])\n",
    "ipd.Audio(data, rate=sr)"
   ]
  },
  {
   "cell_type": "markdown",
   "id": "responsible-alfred",
   "metadata": {},
   "source": [
    "label로 나온 right과 음성으로 들리는 것이 일치한다!\n",
    "\n",
    "#### 5) 랜덤으로 추출된 하나의 데이터 모양 확인하기 (spec)"
   ]
  },
  {
   "cell_type": "code",
   "execution_count": 7,
   "id": "nearby-cursor",
   "metadata": {},
   "outputs": [
    {
     "name": "stdout",
     "output_type": "stream",
     "text": [
      "Spectrogram shape :  (130, 126)\n"
     ]
    }
   ],
   "source": [
    "spec = wav2spec(data)\n",
    "print(\"Spectrogram shape : \",spec.shape)\n"
   ]
  },
  {
   "cell_type": "markdown",
   "id": "center-highlight",
   "metadata": {},
   "source": [
    "2차원으로 바꾸어주었으므로 시간:130과 주파수:126의 값이 같이 나옴 \n",
    "#### 6) 스펙트로그램 시각화"
   ]
  },
  {
   "cell_type": "code",
   "execution_count": 8,
   "id": "martial-intention",
   "metadata": {},
   "outputs": [
    {
     "data": {
      "image/png": "[encoded data removed]",
      "text/plain": [
       "<Figure size 432x288 with 2 Axes>"
      ]
     },
     "metadata": {
      "needs_background": "light"
     },
     "output_type": "display_data"
    }
   ],
   "source": [
    "import matplotlib.pyplot as plt\n",
    "import librosa.display\n",
    "\n",
    "librosa.display.specshow(librosa.amplitude_to_db(spec, ref=np.max), x_axis='time')\n",
    "plt.title('Power spectrogram')\n",
    "plt.colorbar(format='%+2.0f dB')\n",
    "plt.xticks(range(0, 1))\n",
    "plt.tight_layout()\n",
    "plt.show()"
   ]
  },
  {
   "cell_type": "markdown",
   "id": "thrown-surprise",
   "metadata": {},
   "source": [
    "\"on\" 단어는 0.1~0.4초 구간에서 발음이 강하게 되는 것을 시각화하여 확인할 수 있다.\n",
    "\n",
    "## 2. Train/Test 데이터셋 구성하기\n",
    "\n",
    "### 2-1. 라벨 데이터 처리\n",
    "\n",
    "#### 1) label_list(['yes', 'no', 'up', 'down', 'left', 'right', 'on', 'off', 'stop', 'go'])에 unknown과 silence 추가하기"
   ]
  },
  {
   "cell_type": "code",
   "execution_count": 9,
   "id": "detailed-reset",
   "metadata": {},
   "outputs": [
    {
     "name": "stdout",
     "output_type": "stream",
     "text": [
      "LABEL :  ['yes', 'no', 'up', 'down', 'left', 'right', 'on', 'off', 'stop', 'go', 'unknown', 'silence']\n"
     ]
    }
   ],
   "source": [
    "target_list = ['yes', 'no', 'up', 'down', 'left', 'right', 'on', 'off', 'stop', 'go']\n",
    "\n",
    "label_value = target_list\n",
    "label_value.append('unknown')\n",
    "label_value.append('silence')\n",
    "\n",
    "print('LABEL : ', label_value)"
   ]
  },
  {
   "cell_type": "markdown",
   "id": "threatened-veteran",
   "metadata": {},
   "source": [
    "#### 2) dictionary 형태로 전환"
   ]
  },
  {
   "cell_type": "code",
   "execution_count": 10,
   "id": "opening-expansion",
   "metadata": {},
   "outputs": [
    {
     "name": "stdout",
     "output_type": "stream",
     "text": [
      "Indexed LABEL :  {'yes': 0, 'no': 1, 'up': 2, 'down': 3, 'left': 4, 'right': 5, 'on': 6, 'off': 7, 'stop': 8, 'go': 9, 'unknown': 10, 'silence': 11}\n"
     ]
    }
   ],
   "source": [
    "new_label_value = dict()\n",
    "for i, l in enumerate(label_value):\n",
    "    new_label_value[l] = i\n",
    "label_value = new_label_value\n",
    "\n",
    "print('Indexed LABEL : ', new_label_value)"
   ]
  },
  {
   "cell_type": "markdown",
   "id": "portable-ministry",
   "metadata": {},
   "source": [
    "#### 3) label 데이터를 숫자로 변환하여 더 쉽게 사용"
   ]
  },
  {
   "cell_type": "code",
   "execution_count": 11,
   "id": "settled-leeds",
   "metadata": {},
   "outputs": [
    {
     "name": "stdout",
     "output_type": "stream",
     "text": [
      "[ 3  3  3 ... 11 11 11]\n"
     ]
    }
   ],
   "source": [
    "temp = []\n",
    "for v in speech_data[\"label_vals\"]:\n",
    "    temp.append(label_value[v[0]])\n",
    "label_data = np.array(temp)\n",
    "\n",
    "print(label_data)"
   ]
  },
  {
   "cell_type": "markdown",
   "id": "laden-animal",
   "metadata": {},
   "source": [
    "### 2-2. 1차원의 Waveform 데이터가 2차원의 Spectrogram 데이터로 변환\n",
    "\n",
    "#### wav2spec을 통해 2차원으로 변환"
   ]
  },
  {
   "cell_type": "code",
   "execution_count": 12,
   "id": "directed-environment",
   "metadata": {},
   "outputs": [],
   "source": [
    "data_list = speech_data[\"wav_vals\"]\n",
    "spec_list = []\n",
    "\n",
    "for data in data_list:\n",
    "    spec_list.append(wav2spec(data))\n",
    "spec_list = np.array(spec_list)"
   ]
  },
  {
   "cell_type": "markdown",
   "id": "physical-clinic",
   "metadata": {},
   "source": [
    "### 2-3. 학습을 위한 데이터 분리\n",
    "\n",
    "#### 1) Train : Test = 9 : 1의 비율로 분리하기"
   ]
  },
  {
   "cell_type": "code",
   "execution_count": 13,
   "id": "narrative-grammar",
   "metadata": {},
   "outputs": [
    {
     "name": "stdout",
     "output_type": "stream",
     "text": [
      "[[[2.0370465e-03 1.4416546e-03 1.2136594e-03 ... 9.9659152e-04\n",
      "   1.0171612e-03 8.0168038e-04]\n",
      "  [1.4109157e-03 8.3248928e-04 5.4371293e-04 ... 4.8666733e-04\n",
      "   8.6881692e-04 1.3582462e-04]\n",
      "  [7.6526270e-04 1.9247386e-04 7.0427812e-04 ... 3.6968096e-04\n",
      "   9.5991237e-04 6.3220924e-04]\n",
      "  ...\n",
      "  [1.7341030e-05 2.9940473e-05 6.2109488e-05 ... 7.6008975e-05\n",
      "   9.2147110e-04 1.8040806e-03]\n",
      "  [3.2573826e-05 3.5714267e-05 9.0749991e-06 ... 9.6333679e-05\n",
      "   7.9953071e-04 1.5652451e-03]\n",
      "  [5.8705526e-05 3.0013800e-05 7.6418073e-06 ... 2.6982320e-06\n",
      "   7.4195955e-04 1.4791101e-03]]\n",
      "\n",
      " [[1.2027722e-02 5.1889564e-03 1.2747066e-03 ... 3.0739527e-04\n",
      "   4.1716122e-03 1.1088265e-02]\n",
      "  [1.6196566e-02 7.7454313e-03 2.0105068e-03 ... 3.2557712e-03\n",
      "   7.9467995e-03 1.1944005e-02]\n",
      "  [2.0856502e-02 1.4152588e-02 3.5353363e-03 ... 8.2828579e-03\n",
      "   5.7028276e-03 1.2568278e-02]\n",
      "  ...\n",
      "  [4.5430623e-03 1.9956389e-03 5.6733831e-04 ... 5.8916002e-04\n",
      "   2.4096703e-03 4.4526220e-03]\n",
      "  [4.4844141e-03 2.4023601e-03 7.6298522e-05 ... 1.8330901e-04\n",
      "   2.5500732e-03 4.7518057e-03]\n",
      "  [4.5583164e-03 2.2479848e-03 5.3685304e-05 ... 5.6994653e-05\n",
      "   2.3128171e-03 4.6385271e-03]]\n",
      "\n",
      " [[2.7302149e-01 3.4903058e-01 3.8427818e-01 ... 8.8655040e-02\n",
      "   2.8266013e-01 6.1760771e-01]\n",
      "  [1.8666109e-02 3.2892922e-01 1.4957306e-01 ... 2.0470315e-01\n",
      "   3.6694372e-01 5.0216979e-01]\n",
      "  [4.6697843e-01 2.4326861e-01 1.0490739e-01 ... 1.9948654e-01\n",
      "   6.4988270e-02 3.8012996e-01]\n",
      "  ...\n",
      "  [1.0967652e-03 5.4047670e-04 1.3899132e-05 ... 1.9909226e-05\n",
      "   3.5972285e-04 7.0871355e-04]\n",
      "  [1.0657525e-03 5.4282713e-04 2.1490991e-06 ... 9.0212970e-06\n",
      "   3.6552380e-04 7.0258597e-04]\n",
      "  [1.0671101e-03 5.3523883e-04 4.3037430e-06 ... 2.2070130e-06\n",
      "   3.6566201e-04 7.0525298e-04]]\n",
      "\n",
      " ...\n",
      "\n",
      " [[2.4330575e-04 1.7073206e-04 1.0236962e-03 ... 7.3652873e-03\n",
      "   1.5902579e-02 1.7282829e-02]\n",
      "  [8.6771406e-04 5.0924701e-04 1.1957821e-03 ... 8.6912503e-03\n",
      "   9.4694300e-03 8.4867049e-03]\n",
      "  [5.0829898e-04 1.7154483e-03 2.3959849e-03 ... 5.0122966e-03\n",
      "   5.5040964e-03 4.1916198e-03]\n",
      "  ...\n",
      "  [9.2563118e-05 4.4144570e-05 3.9398265e-06 ... 2.6698758e-06\n",
      "   1.6499274e-05 3.0541407e-05]\n",
      "  [8.6373511e-05 4.3298471e-05 3.9391290e-07 ... 1.7188015e-06\n",
      "   1.1350599e-05 2.3920653e-05]\n",
      "  [8.5638916e-05 4.3618798e-05 5.4138746e-07 ... 8.5706728e-07\n",
      "   1.1878364e-05 2.2642264e-05]]\n",
      "\n",
      " [[2.3885427e-02 1.1947207e-02 1.2575024e-02 ... 2.5247703e-03\n",
      "   5.7387156e-03 1.1886652e-02]\n",
      "  [3.0933058e-02 1.3403784e-02 1.4723416e-02 ... 4.0792516e-03\n",
      "   6.8662520e-03 1.1273448e-02]\n",
      "  [2.0172978e-02 3.0619308e-02 5.1185612e-02 ... 1.0123697e-02\n",
      "   3.9473111e-03 1.5256131e-02]\n",
      "  ...\n",
      "  [4.1663917e-03 1.7968571e-03 5.8977259e-04 ... 3.1778147e-04\n",
      "   2.1106235e-03 3.6140122e-03]\n",
      "  [4.0972037e-03 2.2104078e-03 8.1552767e-05 ... 2.6315125e-04\n",
      "   2.2571203e-03 4.1649966e-03]\n",
      "  [4.1660145e-03 2.0449124e-03 5.5979555e-05 ... 3.3654036e-05\n",
      "   2.0034385e-03 4.0554982e-03]]\n",
      "\n",
      " [[7.6767236e-02 4.2894229e-02 4.3613536e-04 ... 7.3014297e-02\n",
      "   9.4666705e-02 2.9190627e-01]\n",
      "  [4.6205059e-02 4.2686164e-02 6.6301520e-03 ... 1.2246958e-01\n",
      "   2.1174769e-01 2.6270029e-01]\n",
      "  [2.7393272e-02 5.8681879e-02 3.3609364e-02 ... 9.8022796e-02\n",
      "   1.9447081e-01 5.1262885e-02]\n",
      "  ...\n",
      "  [3.3240814e-03 1.5263475e-03 1.5516694e-04 ... 1.1715401e-03\n",
      "   1.0249551e-02 1.8816765e-02]\n",
      "  [3.2839451e-03 1.6718996e-03 3.1311993e-05 ... 6.4618478e-04\n",
      "   6.2962724e-03 1.2972189e-02]\n",
      "  [3.3152308e-03 1.7198815e-03 2.5048063e-05 ... 2.6215476e-04\n",
      "   5.6552929e-03 1.1284840e-02]]]\n"
     ]
    }
   ],
   "source": [
    "from sklearn.model_selection import train_test_split\n",
    "\n",
    "del speech_data\n",
    "del data_list\n",
    "\n",
    "spec_sr = 130\n",
    "spec_sc = 126\n",
    "train_spec, test_spec, train_label, test_label = train_test_split(spec_list, \n",
    "                                                                label_data, \n",
    "                                                                test_size=0.1,\n",
    "                                                                shuffle=True)\n",
    "print(train_spec)\n"
   ]
  },
  {
   "cell_type": "code",
   "execution_count": 14,
   "id": "frequent-library",
   "metadata": {},
   "outputs": [],
   "source": [
    "train_spec = train_spec.reshape(-1, spec_sr, spec_sc, 1) # add channel for CNN\n",
    "test_spec = test_spec.reshape(-1, spec_sr, spec_sc, 1)"
   ]
  },
  {
   "cell_type": "markdown",
   "id": "advanced-acrobat",
   "metadata": {},
   "source": [
    "#### 2) 나눠진 데이터셋 확인"
   ]
  },
  {
   "cell_type": "code",
   "execution_count": 15,
   "id": "worth-spirituality",
   "metadata": {},
   "outputs": [
    {
     "name": "stdout",
     "output_type": "stream",
     "text": [
      "train data :  (45558, 130, 126, 1)\n",
      "train labels :  (45558,)\n",
      "test data :  (5062, 130, 126, 1)\n",
      "test labels :  (5062,)\n"
     ]
    }
   ],
   "source": [
    "print(\"train data : \", train_spec.shape)\n",
    "print(\"train labels : \", train_label.shape)\n",
    "print(\"test data : \", test_spec.shape)\n",
    "print(\"test labels : \", test_label.shape)"
   ]
  },
  {
   "cell_type": "markdown",
   "id": "accepting-process",
   "metadata": {},
   "source": [
    "#### 3) Hyper-parameter (batch_size와 max_epochs) 설정해주기"
   ]
  },
  {
   "cell_type": "code",
   "execution_count": 16,
   "id": "rough-reading",
   "metadata": {},
   "outputs": [
    {
     "data": {
      "text/plain": [
       "'/home/aiffel-dj63/aiffel/speech_recognition/models/wav'"
      ]
     },
     "execution_count": 16,
     "metadata": {},
     "output_type": "execute_result"
    }
   ],
   "source": [
    "batch_size = 16\n",
    "max_epochs = 8\n",
    "\n",
    "checkpoint_dir = os.getenv('HOME')+'/aiffel/speech_recognition/models/wav'\n",
    "\n",
    "checkpoint_dir"
   ]
  },
  {
   "cell_type": "markdown",
   "id": "capital-flesh",
   "metadata": {},
   "source": [
    "### 2-4. 데이터 세팅\n",
    "\n",
    "#### 1) map 함수에 넘겨줄 데이터 전처리 함수"
   ]
  },
  {
   "cell_type": "code",
   "execution_count": 17,
   "id": "enabling-trunk",
   "metadata": {},
   "outputs": [],
   "source": [
    "def one_hot_label(wav, label):\n",
    "    label = tf.one_hot(label, depth=12)\n",
    "    return wav, label"
   ]
  },
  {
   "cell_type": "markdown",
   "id": "handed-ghost",
   "metadata": {},
   "source": [
    "#### 2) tf.data.Datset함수"
   ]
  },
  {
   "cell_type": "code",
   "execution_count": 18,
   "id": "helpful-native",
   "metadata": {},
   "outputs": [
    {
     "name": "stdout",
     "output_type": "stream",
     "text": [
      "<BatchDataset shapes: ((None, 130, 126, 1), (None, 12)), types: (tf.float32, tf.float32)>\n",
      "<BatchDataset shapes: ((None, 130, 126, 1), (None, 12)), types: (tf.float32, tf.float32)>\n"
     ]
    }
   ],
   "source": [
    "import tensorflow as tf\n",
    "\n",
    "del spec_list\n",
    "\n",
    "train_dataset = tf.data.Dataset.from_tensor_slices((train_spec, train_label))\n",
    "train_dataset = train_dataset.map(one_hot_label)\n",
    "train_dataset = train_dataset.repeat().batch(batch_size=batch_size)\n",
    "print(train_dataset)\n",
    "\n",
    "test_dataset = tf.data.Dataset.from_tensor_slices((test_spec, test_label))\n",
    "test_dataset = test_dataset.map(one_hot_label)\n",
    "test_dataset = test_dataset.batch(batch_size=batch_size)\n",
    "print(test_dataset)"
   ]
  },
  {
   "cell_type": "markdown",
   "id": "residential-being",
   "metadata": {},
   "source": [
    "## 3. Conv1D layer를 이용해서 모델 구현\n",
    "\n",
    "### 3-1. 모델 구성 (기본)"
   ]
  },
  {
   "cell_type": "code",
   "execution_count": 19,
   "id": "color-alabama",
   "metadata": {},
   "outputs": [
    {
     "name": "stdout",
     "output_type": "stream",
     "text": [
      "Model: \"model\"\n",
      "_________________________________________________________________\n",
      "Layer (type)                 Output Shape              Param #   \n",
      "=================================================================\n",
      "input_1 (InputLayer)         [(None, 130, 126)]        0         \n",
      "_________________________________________________________________\n",
      "conv1d (Conv1D)              (None, 130, 32)           36320     \n",
      "_________________________________________________________________\n",
      "conv1d_1 (Conv1D)            (None, 130, 32)           9248      \n",
      "_________________________________________________________________\n",
      "max_pooling1d (MaxPooling1D) (None, 65, 32)            0         \n",
      "_________________________________________________________________\n",
      "conv1d_2 (Conv1D)            (None, 65, 64)            18496     \n",
      "_________________________________________________________________\n",
      "conv1d_3 (Conv1D)            (None, 65, 64)            36928     \n",
      "_________________________________________________________________\n",
      "max_pooling1d_1 (MaxPooling1 (None, 32, 64)            0         \n",
      "_________________________________________________________________\n",
      "conv1d_4 (Conv1D)            (None, 32, 128)           73856     \n",
      "_________________________________________________________________\n",
      "conv1d_5 (Conv1D)            (None, 32, 128)           147584    \n",
      "_________________________________________________________________\n",
      "conv1d_6 (Conv1D)            (None, 32, 128)           147584    \n",
      "_________________________________________________________________\n",
      "max_pooling1d_2 (MaxPooling1 (None, 16, 128)           0         \n",
      "_________________________________________________________________\n",
      "conv1d_7 (Conv1D)            (None, 16, 256)           295168    \n",
      "_________________________________________________________________\n",
      "conv1d_8 (Conv1D)            (None, 16, 256)           590080    \n",
      "_________________________________________________________________\n",
      "conv1d_9 (Conv1D)            (None, 16, 256)           590080    \n",
      "_________________________________________________________________\n",
      "max_pooling1d_3 (MaxPooling1 (None, 8, 256)            0         \n",
      "_________________________________________________________________\n",
      "dropout (Dropout)            (None, 8, 256)            0         \n",
      "_________________________________________________________________\n",
      "flatten (Flatten)            (None, 2048)              0         \n",
      "_________________________________________________________________\n",
      "dense (Dense)                (None, 256)               524544    \n",
      "_________________________________________________________________\n",
      "batch_normalization (BatchNo (None, 256)               1024      \n",
      "_________________________________________________________________\n",
      "activation (Activation)      (None, 256)               0         \n",
      "_________________________________________________________________\n",
      "dense_1 (Dense)              (None, 12)                3084      \n",
      "=================================================================\n",
      "Total params: 2,473,996\n",
      "Trainable params: 2,473,484\n",
      "Non-trainable params: 512\n",
      "_________________________________________________________________\n"
     ]
    }
   ],
   "source": [
    "from tensorflow.keras import layers\n",
    "\n",
    "input_tensor = layers.Input(shape=(spec_sr, spec_sc)) ##(shape=(spec_sr,1))##\n",
    "\n",
    "x = layers.Conv1D(32, 9, padding='same', activation='relu')(input_tensor)\n",
    "x = layers.Conv1D(32, 9, padding='same', activation='relu')(x)\n",
    "x = layers.MaxPool1D()(x)\n",
    "\n",
    "x = layers.Conv1D(64, 9, padding='same', activation='relu')(x)\n",
    "x = layers.Conv1D(64, 9, padding='same', activation='relu')(x)\n",
    "x = layers.MaxPool1D()(x)\n",
    "\n",
    "x = layers.Conv1D(128, 9, padding='same', activation='relu')(x)\n",
    "x = layers.Conv1D(128, 9, padding='same', activation='relu')(x)\n",
    "x = layers.Conv1D(128, 9, padding='same', activation='relu')(x)\n",
    "x = layers.MaxPool1D()(x)\n",
    "\n",
    "x = layers.Conv1D(256, 9, padding='same', activation='relu')(x)\n",
    "x = layers.Conv1D(256, 9, padding='same', activation='relu')(x)\n",
    "x = layers.Conv1D(256, 9, padding='same', activation='relu')(x)\n",
    "x = layers.MaxPool1D()(x)\n",
    "x = layers.Dropout(0.3)(x)\n",
    "\n",
    "x = layers.Flatten()(x)\n",
    "x = layers.Dense(256)(x)\n",
    "x = layers.BatchNormalization()(x)\n",
    "x = layers.Activation('relu')(x)\n",
    "\n",
    "output_tensor = layers.Dense(12)(x)\n",
    "\n",
    "model_wav = tf.keras.Model(input_tensor, output_tensor)\n",
    "\n",
    "model_wav.summary()"
   ]
  },
  {
   "cell_type": "markdown",
   "id": "indoor-capacity",
   "metadata": {},
   "source": [
    "### 3-2. loss 설정 - 12개의 Class 이므로 multi-class classification (Categorical Cross Entropy loss)"
   ]
  },
  {
   "cell_type": "code",
   "execution_count": 20,
   "id": "legal-booth",
   "metadata": {},
   "outputs": [],
   "source": [
    "optimizer=tf.keras.optimizers.Adam(1e-4)\n",
    "model_wav.compile(loss=tf.keras.losses.CategoricalCrossentropy(from_logits=True),\n",
    "             optimizer=optimizer,\n",
    "             metrics=['accuracy'])"
   ]
  },
  {
   "cell_type": "markdown",
   "id": "certain-ecuador",
   "metadata": {},
   "source": [
    "### 3-3. callback 함수로 학습 중간 원하는 동작을 하도록 설정할 수 있음"
   ]
  },
  {
   "cell_type": "code",
   "execution_count": 21,
   "id": "swedish-albania",
   "metadata": {},
   "outputs": [],
   "source": [
    "cp_callback = tf.keras.callbacks.ModelCheckpoint(checkpoint_dir,\n",
    "                                                 save_weights_only=True,\n",
    "                                                 monitor='val_loss',\n",
    "                                                 mode='auto',\n",
    "                                                 save_best_only=True,\n",
    "                                                 verbose=1)"
   ]
  },
  {
   "cell_type": "markdown",
   "id": "facial-argentina",
   "metadata": {},
   "source": [
    "### 3-4. model fitting하기"
   ]
  },
  {
   "cell_type": "code",
   "execution_count": 22,
   "id": "hollywood-hardware",
   "metadata": {},
   "outputs": [
    {
     "name": "stdout",
     "output_type": "stream",
     "text": [
      "Epoch 1/8\n",
      "2841/2847 [============================>.] - ETA: 0s - loss: 1.3586 - accuracy: 0.5349\n",
      "Epoch 00001: val_loss improved from inf to 0.85487, saving model to /home/aiffel-dj63/aiffel/speech_recognition/models/wav\n",
      "2847/2847 [==============================] - 16s 5ms/step - loss: 1.3570 - accuracy: 0.5356 - val_loss: 0.8549 - val_accuracy: 0.7059\n",
      "Epoch 2/8\n",
      "2839/2847 [============================>.] - ETA: 0s - loss: 0.6524 - accuracy: 0.7837\n",
      "Epoch 00002: val_loss improved from 0.85487 to 0.53257, saving model to /home/aiffel-dj63/aiffel/speech_recognition/models/wav\n",
      "2847/2847 [==============================] - 15s 5ms/step - loss: 0.6515 - accuracy: 0.7840 - val_loss: 0.5326 - val_accuracy: 0.8170\n",
      "Epoch 3/8\n",
      "2842/2847 [============================>.] - ETA: 0s - loss: 0.4566 - accuracy: 0.8492\n",
      "Epoch 00003: val_loss improved from 0.53257 to 0.43833, saving model to /home/aiffel-dj63/aiffel/speech_recognition/models/wav\n",
      "2847/2847 [==============================] - 15s 5ms/step - loss: 0.4561 - accuracy: 0.8493 - val_loss: 0.4383 - val_accuracy: 0.8503\n",
      "Epoch 4/8\n",
      "2838/2847 [============================>.] - ETA: 0s - loss: 0.3536 - accuracy: 0.8819\n",
      "Epoch 00004: val_loss improved from 0.43833 to 0.34938, saving model to /home/aiffel-dj63/aiffel/speech_recognition/models/wav\n",
      "2847/2847 [==============================] - 16s 5ms/step - loss: 0.3532 - accuracy: 0.8820 - val_loss: 0.3494 - val_accuracy: 0.8797\n",
      "Epoch 5/8\n",
      "2840/2847 [============================>.] - ETA: 0s - loss: 0.2787 - accuracy: 0.9067\n",
      "Epoch 00005: val_loss improved from 0.34938 to 0.34734, saving model to /home/aiffel-dj63/aiffel/speech_recognition/models/wav\n",
      "2847/2847 [==============================] - 16s 5ms/step - loss: 0.2784 - accuracy: 0.9068 - val_loss: 0.3473 - val_accuracy: 0.8815\n",
      "Epoch 6/8\n",
      "2846/2847 [============================>.] - ETA: 0s - loss: 0.2299 - accuracy: 0.9226\n",
      "Epoch 00006: val_loss improved from 0.34734 to 0.31632, saving model to /home/aiffel-dj63/aiffel/speech_recognition/models/wav\n",
      "2847/2847 [==============================] - 16s 6ms/step - loss: 0.2300 - accuracy: 0.9226 - val_loss: 0.3163 - val_accuracy: 0.8914\n",
      "Epoch 7/8\n",
      "2840/2847 [============================>.] - ETA: 0s - loss: 0.1944 - accuracy: 0.9349\n",
      "Epoch 00007: val_loss improved from 0.31632 to 0.30604, saving model to /home/aiffel-dj63/aiffel/speech_recognition/models/wav\n",
      "2847/2847 [==============================] - 16s 6ms/step - loss: 0.1941 - accuracy: 0.9350 - val_loss: 0.3060 - val_accuracy: 0.9029\n",
      "Epoch 8/8\n",
      "2847/2847 [==============================] - ETA: 0s - loss: 0.1674 - accuracy: 0.9428\n",
      "Epoch 00008: val_loss improved from 0.30604 to 0.28456, saving model to /home/aiffel-dj63/aiffel/speech_recognition/models/wav\n",
      "2847/2847 [==============================] - 16s 6ms/step - loss: 0.1674 - accuracy: 0.9428 - val_loss: 0.2846 - val_accuracy: 0.9098\n"
     ]
    }
   ],
   "source": [
    "history_wav = model_wav.fit(train_dataset, epochs=max_epochs,\n",
    "                    steps_per_epoch=len(train_spec) // batch_size,\n",
    "                    validation_data=test_dataset,\n",
    "                    validation_steps=len(test_spec) // batch_size,\n",
    "                    callbacks=[cp_callback]\n",
    "                    )"
   ]
  },
  {
   "cell_type": "markdown",
   "id": "different-oracle",
   "metadata": {},
   "source": [
    "### 3-5. 학습 결과 Plotting 하기"
   ]
  },
  {
   "cell_type": "code",
   "execution_count": 23,
   "id": "beginning-minority",
   "metadata": {},
   "outputs": [
    {
     "data": {
      "image/png": "[encoded data removed]",
      "text/plain": [
       "<Figure size 576x576 with 2 Axes>"
      ]
     },
     "metadata": {
      "needs_background": "light"
     },
     "output_type": "display_data"
    }
   ],
   "source": [
    "import matplotlib.pyplot as plt\n",
    "\n",
    "acc = history_wav.history['accuracy']\n",
    "val_acc = history_wav.history['val_accuracy']\n",
    "\n",
    "loss=history_wav.history['loss']\n",
    "val_loss=history_wav.history['val_loss']\n",
    "\n",
    "epochs_range = range(len(acc))\n",
    "\n",
    "plt.figure(figsize=(8, 8))\n",
    "plt.subplot(1, 2, 1)\n",
    "plt.plot(epochs_range, acc, label='Training Accuracy')\n",
    "plt.plot(epochs_range, val_acc, label='Validation Accuracy')\n",
    "plt.legend(loc='lower right')\n",
    "plt.title('Training and Validation Accuracy')\n",
    "\n",
    "plt.subplot(1, 2, 2)\n",
    "plt.plot(epochs_range, loss, label='Training Loss')\n",
    "plt.plot(epochs_range, val_loss, label='Validation Loss')\n",
    "plt.legend(loc='upper right')\n",
    "plt.title('Training and Validation Loss')\n",
    "plt.show()"
   ]
  },
  {
   "cell_type": "markdown",
   "id": "identified-score",
   "metadata": {},
   "source": [
    "그래프를 보니 epoch를 8보다 더 늘리면 더 Training Loss와 Validation loss가 내려갈지 모르지만 과적합이 우려되어 적당하다고 판단하였음\n",
    "\n",
    "### 3-6. evaluation"
   ]
  },
  {
   "cell_type": "code",
   "execution_count": 24,
   "id": "secondary-least",
   "metadata": {},
   "outputs": [
    {
     "data": {
      "text/plain": [
       "<tensorflow.python.training.tracking.util.CheckpointLoadStatus at 0x7fbcc00ff410>"
      ]
     },
     "execution_count": 24,
     "metadata": {},
     "output_type": "execute_result"
    }
   ],
   "source": [
    "model_wav.load_weights(checkpoint_dir)"
   ]
  },
  {
   "cell_type": "markdown",
   "id": "extra-resistance",
   "metadata": {},
   "source": [
    "### 3-7. test data를 평가하기 "
   ]
  },
  {
   "cell_type": "code",
   "execution_count": 25,
   "id": "centered-covering",
   "metadata": {},
   "outputs": [
    {
     "name": "stdout",
     "output_type": "stream",
     "text": [
      "317/317 [==============================] - 16s 52ms/step - loss: 0.2842 - accuracy: 0.9099\n"
     ]
    }
   ],
   "source": [
    "results = model_wav.evaluate(test_dataset)"
   ]
  },
  {
   "cell_type": "markdown",
   "id": "neither-boxing",
   "metadata": {},
   "source": [
    "#### 1) loss"
   ]
  },
  {
   "cell_type": "code",
   "execution_count": 26,
   "id": "leading-rebound",
   "metadata": {},
   "outputs": [
    {
     "name": "stdout",
     "output_type": "stream",
     "text": [
      "loss value: 0.284\n"
     ]
    }
   ],
   "source": [
    "print(\"loss value: {:.3f}\".format(results[0]))\n"
   ]
  },
  {
   "cell_type": "markdown",
   "id": "brief-alaska",
   "metadata": {},
   "source": [
    "#### 2) accuracy"
   ]
  },
  {
   "cell_type": "code",
   "execution_count": 27,
   "id": "virgin-canada",
   "metadata": {},
   "outputs": [
    {
     "name": "stdout",
     "output_type": "stream",
     "text": [
      "accuracy value: 90.9917%\n"
     ]
    }
   ],
   "source": [
    "print(\"accuracy value: {:.4f}%\".format(results[1]*100))"
   ]
  },
  {
   "cell_type": "markdown",
   "id": "civilian-charm",
   "metadata": {},
   "source": [
    "## 4. Skip-Connection model 구현\n",
    "\n",
    "### 4-1. 모델 구성"
   ]
  },
  {
   "cell_type": "code",
   "execution_count": 28,
   "id": "curious-sleeping",
   "metadata": {},
   "outputs": [
    {
     "name": "stdout",
     "output_type": "stream",
     "text": [
      "Model: \"model_1\"\n",
      "__________________________________________________________________________________________________\n",
      "Layer (type)                    Output Shape         Param #     Connected to                     \n",
      "==================================================================================================\n",
      "input_2 (InputLayer)            [(None, 130, 126)]   0                                            \n",
      "__________________________________________________________________________________________________\n",
      "conv1d_10 (Conv1D)              (None, 130, 32)      36320       input_2[0][0]                    \n",
      "__________________________________________________________________________________________________\n",
      "conv1d_11 (Conv1D)              (None, 130, 32)      9248        conv1d_10[0][0]                  \n",
      "__________________________________________________________________________________________________\n",
      "max_pooling1d_4 (MaxPooling1D)  (None, 65, 32)       0           conv1d_11[0][0]                  \n",
      "__________________________________________________________________________________________________\n",
      "conv1d_12 (Conv1D)              (None, 65, 64)       18496       max_pooling1d_4[0][0]            \n",
      "__________________________________________________________________________________________________\n",
      "conv1d_13 (Conv1D)              (None, 65, 64)       36928       conv1d_12[0][0]                  \n",
      "__________________________________________________________________________________________________\n",
      "tf_op_layer_concat (TensorFlowO [(None, 65, 96)]     0           conv1d_13[0][0]                  \n",
      "                                                                 max_pooling1d_4[0][0]            \n",
      "__________________________________________________________________________________________________\n",
      "max_pooling1d_5 (MaxPooling1D)  (None, 32, 96)       0           tf_op_layer_concat[0][0]         \n",
      "__________________________________________________________________________________________________\n",
      "conv1d_14 (Conv1D)              (None, 32, 128)      110720      max_pooling1d_5[0][0]            \n",
      "__________________________________________________________________________________________________\n",
      "conv1d_15 (Conv1D)              (None, 32, 128)      147584      conv1d_14[0][0]                  \n",
      "__________________________________________________________________________________________________\n",
      "conv1d_16 (Conv1D)              (None, 32, 128)      147584      conv1d_15[0][0]                  \n",
      "__________________________________________________________________________________________________\n",
      "tf_op_layer_concat_1 (TensorFlo [(None, 32, 224)]    0           conv1d_16[0][0]                  \n",
      "                                                                 max_pooling1d_5[0][0]            \n",
      "__________________________________________________________________________________________________\n",
      "max_pooling1d_6 (MaxPooling1D)  (None, 16, 224)      0           tf_op_layer_concat_1[0][0]       \n",
      "__________________________________________________________________________________________________\n",
      "conv1d_17 (Conv1D)              (None, 16, 256)      516352      max_pooling1d_6[0][0]            \n",
      "__________________________________________________________________________________________________\n",
      "conv1d_18 (Conv1D)              (None, 16, 256)      590080      conv1d_17[0][0]                  \n",
      "__________________________________________________________________________________________________\n",
      "conv1d_19 (Conv1D)              (None, 16, 256)      590080      conv1d_18[0][0]                  \n",
      "__________________________________________________________________________________________________\n",
      "tf_op_layer_concat_2 (TensorFlo [(None, 16, 480)]    0           conv1d_19[0][0]                  \n",
      "                                                                 max_pooling1d_6[0][0]            \n",
      "__________________________________________________________________________________________________\n",
      "max_pooling1d_7 (MaxPooling1D)  (None, 8, 480)       0           tf_op_layer_concat_2[0][0]       \n",
      "__________________________________________________________________________________________________\n",
      "dropout_1 (Dropout)             (None, 8, 480)       0           max_pooling1d_7[0][0]            \n",
      "__________________________________________________________________________________________________\n",
      "flatten_1 (Flatten)             (None, 3840)         0           dropout_1[0][0]                  \n",
      "__________________________________________________________________________________________________\n",
      "dense_2 (Dense)                 (None, 256)          983296      flatten_1[0][0]                  \n",
      "__________________________________________________________________________________________________\n",
      "batch_normalization_1 (BatchNor (None, 256)          1024        dense_2[0][0]                    \n",
      "__________________________________________________________________________________________________\n",
      "activation_1 (Activation)       (None, 256)          0           batch_normalization_1[0][0]      \n",
      "__________________________________________________________________________________________________\n",
      "dense_3 (Dense)                 (None, 12)           3084        activation_1[0][0]               \n",
      "==================================================================================================\n",
      "Total params: 3,190,796\n",
      "Trainable params: 3,190,284\n",
      "Non-trainable params: 512\n",
      "__________________________________________________________________________________________________\n"
     ]
    }
   ],
   "source": [
    "input_tensor = layers.Input(shape=(spec_sr, spec_sc))\n",
    "\n",
    "del x\n",
    "del output_tensor\n",
    "del model_wav\n",
    "del optimizer\n",
    "del cp_callback\n",
    "del history_wav\n",
    "del acc\n",
    "del val_acc\n",
    "del loss\n",
    "del val_loss\n",
    "del epochs_range\n",
    "del results\n",
    "\n",
    "x = layers.Conv1D(32, 9, padding='same', activation='relu')(input_tensor)\n",
    "x = layers.Conv1D(32, 9, padding='same', activation='relu')(x)\n",
    "skip_1 = layers.MaxPool1D()(x)\n",
    "\n",
    "x = layers.Conv1D(64, 9, padding='same', activation='relu')(skip_1)\n",
    "x = layers.Conv1D(64, 9, padding='same', activation='relu')(x)\n",
    "x = tf.concat([x, skip_1], -1)\n",
    "skip_2 = layers.MaxPool1D()(x)\n",
    "\n",
    "x = layers.Conv1D(128, 9, padding='same', activation='relu')(skip_2)\n",
    "x = layers.Conv1D(128, 9, padding='same', activation='relu')(x)\n",
    "x = layers.Conv1D(128, 9, padding='same', activation='relu')(x)\n",
    "x = tf.concat([x, skip_2], -1)\n",
    "skip_3 = layers.MaxPool1D()(x)\n",
    "\n",
    "x = layers.Conv1D(256, 9, padding='same', activation='relu')(skip_3)\n",
    "x = layers.Conv1D(256, 9, padding='same', activation='relu')(x)\n",
    "x = layers.Conv1D(256, 9, padding='same', activation='relu')(x)\n",
    "x = tf.concat([x, skip_3], -1)\n",
    "x = layers.MaxPool1D()(x)\n",
    "x = layers.Dropout(0.3)(x)\n",
    "\n",
    "x = layers.Flatten()(x)\n",
    "x = layers.Dense(256)(x)\n",
    "x = layers.BatchNormalization()(x)\n",
    "x = layers.Activation('relu')(x)\n",
    "\n",
    "output_tensor = layers.Dense(12)(x)\n",
    "\n",
    "model_wav_skip = tf.keras.Model(input_tensor, output_tensor)\n",
    "\n",
    "model_wav_skip.summary()"
   ]
  },
  {
   "cell_type": "markdown",
   "id": "greek-decimal",
   "metadata": {},
   "source": [
    "### 4-2. optimizer 설정 "
   ]
  },
  {
   "cell_type": "code",
   "execution_count": 29,
   "id": "disabled-relief",
   "metadata": {},
   "outputs": [],
   "source": [
    "optimizer=tf.keras.optimizers.Adam(1e-4)\n",
    "model_wav_skip.compile(loss=tf.keras.losses.CategoricalCrossentropy(from_logits=True),\n",
    "             optimizer=optimizer,\n",
    "             metrics=['accuracy'])"
   ]
  },
  {
   "cell_type": "markdown",
   "id": "beneficial-fraction",
   "metadata": {},
   "source": [
    "### 4-3. check point 만들기"
   ]
  },
  {
   "cell_type": "code",
   "execution_count": 30,
   "id": "graduate-visit",
   "metadata": {},
   "outputs": [],
   "source": [
    "checkpoint_dir = os.getenv('HOME')+'/aiffel/speech_recognition/models/wav_skip'\n",
    "\n",
    "cp_callback = tf.keras.callbacks.ModelCheckpoint(checkpoint_dir,\n",
    "                                                 save_weights_only=True,\n",
    "                                                 monitor='val_loss',\n",
    "                                                 mode='auto',\n",
    "                                                 save_best_only=True,\n",
    "                                                 verbose=1)"
   ]
  },
  {
   "cell_type": "markdown",
   "id": "proprietary-tracy",
   "metadata": {},
   "source": [
    "### 4-4. model fitting"
   ]
  },
  {
   "cell_type": "code",
   "execution_count": 31,
   "id": "cross-violation",
   "metadata": {},
   "outputs": [
    {
     "name": "stdout",
     "output_type": "stream",
     "text": [
      "Epoch 1/8\n",
      "2840/2847 [============================>.] - ETA: 0s - loss: 1.3806 - accuracy: 0.5332\n",
      "Epoch 00001: val_loss improved from inf to 0.75066, saving model to /home/aiffel-dj63/aiffel/speech_recognition/models/wav_skip\n",
      "2847/2847 [==============================] - 17s 6ms/step - loss: 1.3787 - accuracy: 0.5338 - val_loss: 0.7507 - val_accuracy: 0.7492\n",
      "Epoch 2/8\n",
      "2839/2847 [============================>.] - ETA: 0s - loss: 0.6384 - accuracy: 0.7900\n",
      "Epoch 00002: val_loss improved from 0.75066 to 0.49863, saving model to /home/aiffel-dj63/aiffel/speech_recognition/models/wav_skip\n",
      "2847/2847 [==============================] - 18s 6ms/step - loss: 0.6377 - accuracy: 0.7903 - val_loss: 0.4986 - val_accuracy: 0.8269\n",
      "Epoch 3/8\n",
      "2845/2847 [============================>.] - ETA: 0s - loss: 0.4479 - accuracy: 0.8555\n",
      "Epoch 00003: val_loss improved from 0.49863 to 0.39678, saving model to /home/aiffel-dj63/aiffel/speech_recognition/models/wav_skip\n",
      "2847/2847 [==============================] - 17s 6ms/step - loss: 0.4477 - accuracy: 0.8556 - val_loss: 0.3968 - val_accuracy: 0.8610\n",
      "Epoch 4/8\n",
      "2847/2847 [==============================] - ETA: 0s - loss: 0.3401 - accuracy: 0.8874\n",
      "Epoch 00004: val_loss improved from 0.39678 to 0.37679, saving model to /home/aiffel-dj63/aiffel/speech_recognition/models/wav_skip\n",
      "2847/2847 [==============================] - 17s 6ms/step - loss: 0.3401 - accuracy: 0.8874 - val_loss: 0.3768 - val_accuracy: 0.8748\n",
      "Epoch 5/8\n",
      "2846/2847 [============================>.] - ETA: 0s - loss: 0.2643 - accuracy: 0.9132\n",
      "Epoch 00005: val_loss improved from 0.37679 to 0.31373, saving model to /home/aiffel-dj63/aiffel/speech_recognition/models/wav_skip\n",
      "2847/2847 [==============================] - 17s 6ms/step - loss: 0.2642 - accuracy: 0.9132 - val_loss: 0.3137 - val_accuracy: 0.8936\n",
      "Epoch 6/8\n",
      "2842/2847 [============================>.] - ETA: 0s - loss: 0.2155 - accuracy: 0.9291\n",
      "Epoch 00006: val_loss did not improve from 0.31373\n",
      "2847/2847 [==============================] - 17s 6ms/step - loss: 0.2153 - accuracy: 0.9292 - val_loss: 0.3152 - val_accuracy: 0.8975\n",
      "Epoch 7/8\n",
      "2843/2847 [============================>.] - ETA: 0s - loss: 0.1792 - accuracy: 0.9399\n",
      "Epoch 00007: val_loss improved from 0.31373 to 0.29974, saving model to /home/aiffel-dj63/aiffel/speech_recognition/models/wav_skip\n",
      "2847/2847 [==============================] - 17s 6ms/step - loss: 0.1791 - accuracy: 0.9399 - val_loss: 0.2997 - val_accuracy: 0.9021\n",
      "Epoch 8/8\n",
      "2840/2847 [============================>.] - ETA: 0s - loss: 0.1502 - accuracy: 0.9500\n",
      "Epoch 00008: val_loss improved from 0.29974 to 0.23668, saving model to /home/aiffel-dj63/aiffel/speech_recognition/models/wav_skip\n",
      "2847/2847 [==============================] - 17s 6ms/step - loss: 0.1501 - accuracy: 0.9501 - val_loss: 0.2367 - val_accuracy: 0.9241\n"
     ]
    }
   ],
   "source": [
    "history_wav_skip = model_wav_skip.fit(train_dataset, epochs=max_epochs,\n",
    "                    steps_per_epoch=len(train_spec) // batch_size,\n",
    "                    validation_data=test_dataset,\n",
    "                    validation_steps=len(test_spec) // batch_size,\n",
    "                    callbacks=[cp_callback]\n",
    "                    )"
   ]
  },
  {
   "cell_type": "markdown",
   "id": "musical-appreciation",
   "metadata": {},
   "source": [
    "### 4-5. 시각화"
   ]
  },
  {
   "cell_type": "code",
   "execution_count": 32,
   "id": "organizational-prompt",
   "metadata": {},
   "outputs": [
    {
     "data": {
      "image/png": "[encoded data removed]",
      "text/plain": [
       "<Figure size 576x576 with 2 Axes>"
      ]
     },
     "metadata": {
      "needs_background": "light"
     },
     "output_type": "display_data"
    }
   ],
   "source": [
    "import matplotlib.pyplot as plt\n",
    "\n",
    "acc = history_wav_skip.history['accuracy']\n",
    "val_acc = history_wav_skip.history['val_accuracy']\n",
    "\n",
    "loss=history_wav_skip.history['loss']\n",
    "val_loss=history_wav_skip.history['val_loss']\n",
    "\n",
    "epochs_range = range(len(acc))\n",
    "\n",
    "plt.figure(figsize=(8, 8))\n",
    "plt.subplot(1, 2, 1)\n",
    "plt.plot(epochs_range, acc, label='Training Accuracy')\n",
    "plt.plot(epochs_range, val_acc, label='Validation Accuracy')\n",
    "plt.legend(loc='lower right')\n",
    "plt.title('Training and Validation Accuracy')\n",
    "\n",
    "plt.subplot(1, 2, 2)\n",
    "plt.plot(epochs_range, loss, label='Training Loss')\n",
    "plt.plot(epochs_range, val_loss, label='Validation Loss')\n",
    "plt.legend(loc='upper right')\n",
    "plt.title('Training and Validation Loss')\n",
    "plt.show()"
   ]
  },
  {
   "cell_type": "markdown",
   "id": "consistent-restoration",
   "metadata": {},
   "source": [
    "### 4-6.  Evaluation"
   ]
  },
  {
   "cell_type": "code",
   "execution_count": 33,
   "id": "applicable-recipient",
   "metadata": {},
   "outputs": [
    {
     "name": "stdout",
     "output_type": "stream",
     "text": [
      "317/317 [==============================] - 5s 16ms/step - loss: 0.2364 - accuracy: 0.9241\n"
     ]
    }
   ],
   "source": [
    "model_wav_skip.load_weights(checkpoint_dir)\n",
    "results = model_wav_skip.evaluate(test_dataset)"
   ]
  },
  {
   "cell_type": "markdown",
   "id": "roman-enclosure",
   "metadata": {},
   "source": [
    "#### 1) loss"
   ]
  },
  {
   "cell_type": "code",
   "execution_count": 34,
   "id": "requested-booth",
   "metadata": {},
   "outputs": [
    {
     "name": "stdout",
     "output_type": "stream",
     "text": [
      "loss value: 0.236\n"
     ]
    }
   ],
   "source": [
    "print(\"loss value: {:.3f}\".format(results[0]))"
   ]
  },
  {
   "cell_type": "markdown",
   "id": "numeric-assumption",
   "metadata": {},
   "source": [
    "#### 2) accuracy"
   ]
  },
  {
   "cell_type": "code",
   "execution_count": 35,
   "id": "personalized-refrigerator",
   "metadata": {},
   "outputs": [
    {
     "name": "stdout",
     "output_type": "stream",
     "text": [
      "accuracy value: 92.4141%\n"
     ]
    }
   ],
   "source": [
    "print(\"accuracy value: {:.4f}%\".format(results[1]*100))"
   ]
  },
  {
   "cell_type": "markdown",
   "id": "lonely-paintball",
   "metadata": {},
   "source": [
    "## 5. Conv2d layer model 구현\n",
    "### 5-1. 모델 구성"
   ]
  },
  {
   "cell_type": "code",
   "execution_count": 36,
   "id": "living-documentation",
   "metadata": {},
   "outputs": [
    {
     "name": "stdout",
     "output_type": "stream",
     "text": [
      "Model: \"model_2\"\n",
      "_________________________________________________________________\n",
      "Layer (type)                 Output Shape              Param #   \n",
      "=================================================================\n",
      "input_3 (InputLayer)         [(None, 130, 126, 1)]     0         \n",
      "_________________________________________________________________\n",
      "conv2d (Conv2D)              (None, 130, 126, 32)      160       \n",
      "_________________________________________________________________\n",
      "conv2d_1 (Conv2D)            (None, 130, 126, 32)      4128      \n",
      "_________________________________________________________________\n",
      "max_pooling2d (MaxPooling2D) (None, 65, 63, 32)        0         \n",
      "_________________________________________________________________\n",
      "conv2d_2 (Conv2D)            (None, 65, 63, 64)        8256      \n",
      "_________________________________________________________________\n",
      "conv2d_3 (Conv2D)            (None, 65, 63, 64)        16448     \n",
      "_________________________________________________________________\n",
      "max_pooling2d_1 (MaxPooling2 (None, 32, 31, 64)        0         \n",
      "_________________________________________________________________\n",
      "conv2d_4 (Conv2D)            (None, 32, 31, 128)       32896     \n",
      "_________________________________________________________________\n",
      "conv2d_5 (Conv2D)            (None, 32, 31, 128)       65664     \n",
      "_________________________________________________________________\n",
      "conv2d_6 (Conv2D)            (None, 32, 31, 128)       65664     \n",
      "_________________________________________________________________\n",
      "max_pooling2d_2 (MaxPooling2 (None, 16, 15, 128)       0         \n",
      "_________________________________________________________________\n",
      "conv2d_7 (Conv2D)            (None, 16, 15, 256)       131328    \n",
      "_________________________________________________________________\n",
      "conv2d_8 (Conv2D)            (None, 16, 15, 256)       262400    \n",
      "_________________________________________________________________\n",
      "conv2d_9 (Conv2D)            (None, 16, 15, 256)       262400    \n",
      "_________________________________________________________________\n",
      "max_pooling2d_3 (MaxPooling2 (None, 8, 7, 256)         0         \n",
      "_________________________________________________________________\n",
      "dropout_2 (Dropout)          (None, 8, 7, 256)         0         \n",
      "_________________________________________________________________\n",
      "flatten_2 (Flatten)          (None, 14336)             0         \n",
      "_________________________________________________________________\n",
      "dense_4 (Dense)              (None, 256)               3670272   \n",
      "_________________________________________________________________\n",
      "batch_normalization_2 (Batch (None, 256)               1024      \n",
      "_________________________________________________________________\n",
      "activation_2 (Activation)    (None, 256)               0         \n",
      "_________________________________________________________________\n",
      "dense_5 (Dense)              (None, 12)                3084      \n",
      "=================================================================\n",
      "Total params: 4,523,724\n",
      "Trainable params: 4,523,212\n",
      "Non-trainable params: 512\n",
      "_________________________________________________________________\n"
     ]
    }
   ],
   "source": [
    "input_tensor = layers.Input(shape=(spec_sr, spec_sc, 1)) \n",
    "\n",
    "# del x\n",
    "# del output_tensor\n",
    "# del model_wav_skip\n",
    "# del optimizer\n",
    "# del cp_callback\n",
    "# del history_wav_skip\n",
    "# del acc\n",
    "# del val_acc\n",
    "# del loss\n",
    "# del val_loss\n",
    "# del epochs_range\n",
    "# del results\n",
    "\n",
    "x = layers.Conv2D(32, (2,2), padding='same', activation='relu')(input_tensor)\n",
    "x = layers.Conv2D(32, (2,2), padding='same', activation='relu')(x)\n",
    "x = layers.MaxPool2D(2,2)(x)\n",
    "\n",
    "x = layers.Conv2D(64, (2,2), padding='same', activation='relu')(x)\n",
    "x = layers.Conv2D(64, (2,2), padding='same', activation='relu')(x)\n",
    "x = layers.MaxPool2D(2,2)(x)\n",
    "\n",
    "x = layers.Conv2D(128, (2,2), padding='same', activation='relu')(x)\n",
    "x = layers.Conv2D(128, (2,2), padding='same', activation='relu')(x)\n",
    "x = layers.Conv2D(128, (2,2), padding='same', activation='relu')(x)\n",
    "x = layers.MaxPool2D(2,2)(x)\n",
    "\n",
    "x = layers.Conv2D(256, (2,2), padding='same', activation='relu')(x)\n",
    "x = layers.Conv2D(256, (2,2), padding='same', activation='relu')(x)\n",
    "x = layers.Conv2D(256, (2,2), padding='same', activation='relu')(x)\n",
    "x = layers.MaxPool2D(2,2)(x)\n",
    "x = layers.Dropout(0.3)(x)\n",
    "\n",
    "x = layers.Flatten()(x)\n",
    "x = layers.Dense(256)(x)\n",
    "x = layers.BatchNormalization()(x)\n",
    "x = layers.Activation('relu')(x)\n",
    "\n",
    "output_tensor = layers.Dense(12)(x)\n",
    "\n",
    "model_wav_2D = tf.keras.Model(input_tensor, output_tensor)\n",
    "\n",
    "model_wav_2D.summary()"
   ]
  },
  {
   "cell_type": "markdown",
   "id": "italic-oxygen",
   "metadata": {},
   "source": [
    "### 5-2. optimizer 설정 "
   ]
  },
  {
   "cell_type": "code",
   "execution_count": 37,
   "id": "solved-attachment",
   "metadata": {},
   "outputs": [],
   "source": [
    "optimizer=tf.keras.optimizers.Adam(1e-4)\n",
    "model_wav_2D.compile(loss=tf.keras.losses.CategoricalCrossentropy(from_logits=True),\n",
    "             optimizer=optimizer,\n",
    "             metrics=['accuracy'])"
   ]
  },
  {
   "cell_type": "markdown",
   "id": "herbal-steam",
   "metadata": {},
   "source": [
    "### 5-3. check point 만들기"
   ]
  },
  {
   "cell_type": "code",
   "execution_count": 38,
   "id": "effective-julian",
   "metadata": {},
   "outputs": [],
   "source": [
    "checkpoint_dir = os.getenv('HOME')+'/aiffel/speech_recognition/models/wav_skip'\n",
    "\n",
    "cp_callback = tf.keras.callbacks.ModelCheckpoint(checkpoint_dir,\n",
    "                                                 save_weights_only=True,\n",
    "                                                 monitor='val_loss',\n",
    "                                                 mode='auto',\n",
    "                                                 save_best_only=True,\n",
    "                                                 verbose=1)"
   ]
  },
  {
   "cell_type": "markdown",
   "id": "altered-criticism",
   "metadata": {},
   "source": [
    "### 5-4. model fitting"
   ]
  },
  {
   "cell_type": "code",
   "execution_count": 39,
   "id": "seven-bidding",
   "metadata": {},
   "outputs": [
    {
     "name": "stdout",
     "output_type": "stream",
     "text": [
      "Epoch 1/8\n",
      "2847/2847 [==============================] - ETA: 0s - loss: 0.8641 - accuracy: 0.7197\n",
      "Epoch 00001: val_loss improved from inf to 0.34395, saving model to /home/aiffel-dj63/aiffel/speech_recognition/models/wav_skip\n",
      "2847/2847 [==============================] - 65s 23ms/step - loss: 0.8641 - accuracy: 0.7197 - val_loss: 0.3439 - val_accuracy: 0.8898\n",
      "Epoch 2/8\n",
      "2845/2847 [============================>.] - ETA: 0s - loss: 0.3491 - accuracy: 0.8913\n",
      "Epoch 00002: val_loss improved from 0.34395 to 0.23283, saving model to /home/aiffel-dj63/aiffel/speech_recognition/models/wav_skip\n",
      "2847/2847 [==============================] - 65s 23ms/step - loss: 0.3491 - accuracy: 0.8914 - val_loss: 0.2328 - val_accuracy: 0.9282\n",
      "Epoch 3/8\n",
      "2845/2847 [============================>.] - ETA: 0s - loss: 0.2361 - accuracy: 0.9289\n",
      "Epoch 00003: val_loss improved from 0.23283 to 0.20476, saving model to /home/aiffel-dj63/aiffel/speech_recognition/models/wav_skip\n",
      "2847/2847 [==============================] - 65s 23ms/step - loss: 0.2360 - accuracy: 0.9289 - val_loss: 0.2048 - val_accuracy: 0.9397\n",
      "Epoch 4/8\n",
      "2845/2847 [============================>.] - ETA: 0s - loss: 0.1749 - accuracy: 0.9473\n",
      "Epoch 00004: val_loss improved from 0.20476 to 0.16302, saving model to /home/aiffel-dj63/aiffel/speech_recognition/models/wav_skip\n",
      "2847/2847 [==============================] - 65s 23ms/step - loss: 0.1748 - accuracy: 0.9473 - val_loss: 0.1630 - val_accuracy: 0.9464\n",
      "Epoch 5/8\n",
      "2846/2847 [============================>.] - ETA: 0s - loss: 0.1347 - accuracy: 0.9588\n",
      "Epoch 00005: val_loss improved from 0.16302 to 0.15623, saving model to /home/aiffel-dj63/aiffel/speech_recognition/models/wav_skip\n",
      "2847/2847 [==============================] - 66s 23ms/step - loss: 0.1347 - accuracy: 0.9588 - val_loss: 0.1562 - val_accuracy: 0.9525\n",
      "Epoch 6/8\n",
      "2845/2847 [============================>.] - ETA: 0s - loss: 0.1098 - accuracy: 0.9666\n",
      "Epoch 00006: val_loss improved from 0.15623 to 0.15470, saving model to /home/aiffel-dj63/aiffel/speech_recognition/models/wav_skip\n",
      "2847/2847 [==============================] - 65s 23ms/step - loss: 0.1097 - accuracy: 0.9666 - val_loss: 0.1547 - val_accuracy: 0.9496\n",
      "Epoch 7/8\n",
      "2846/2847 [============================>.] - ETA: 0s - loss: 0.0941 - accuracy: 0.9715\n",
      "Epoch 00007: val_loss did not improve from 0.15470\n",
      "2847/2847 [==============================] - 65s 23ms/step - loss: 0.0941 - accuracy: 0.9715 - val_loss: 0.1650 - val_accuracy: 0.9413\n",
      "Epoch 8/8\n",
      "2845/2847 [============================>.] - ETA: 0s - loss: 0.0783 - accuracy: 0.9762\n",
      "Epoch 00008: val_loss improved from 0.15470 to 0.13617, saving model to /home/aiffel-dj63/aiffel/speech_recognition/models/wav_skip\n",
      "2847/2847 [==============================] - 66s 23ms/step - loss: 0.0783 - accuracy: 0.9762 - val_loss: 0.1362 - val_accuracy: 0.9543\n"
     ]
    }
   ],
   "source": [
    "history_wav_2D = model_wav_2D.fit(train_dataset, epochs=max_epochs,\n",
    "                    steps_per_epoch=len(train_spec) // batch_size,\n",
    "                    validation_data=test_dataset,\n",
    "                    validation_steps=len(test_spec) // batch_size,\n",
    "                    callbacks=[cp_callback]\n",
    "                    )"
   ]
  },
  {
   "cell_type": "markdown",
   "id": "inner-brook",
   "metadata": {},
   "source": [
    "### 5-5. 시각화"
   ]
  },
  {
   "cell_type": "code",
   "execution_count": 40,
   "id": "prime-motel",
   "metadata": {},
   "outputs": [
    {
     "data": {
      "image/png": "[encoded data removed]",
      "text/plain": [
       "<Figure size 576x576 with 2 Axes>"
      ]
     },
     "metadata": {
      "needs_background": "light"
     },
     "output_type": "display_data"
    }
   ],
   "source": [
    "import matplotlib.pyplot as plt\n",
    "\n",
    "acc = history_wav_2D.history['accuracy']\n",
    "val_acc = history_wav_2D.history['val_accuracy']\n",
    "\n",
    "loss=history_wav_2D.history['loss']\n",
    "val_loss=history_wav_2D.history['val_loss']\n",
    "\n",
    "epochs_range = range(len(acc))\n",
    "\n",
    "plt.figure(figsize=(8, 8))\n",
    "plt.subplot(1, 2, 1)\n",
    "plt.plot(epochs_range, acc, label='Training Accuracy')\n",
    "plt.plot(epochs_range, val_acc, label='Validation Accuracy')\n",
    "plt.legend(loc='lower right')\n",
    "plt.title('Training and Validation Accuracy')\n",
    "\n",
    "plt.subplot(1, 2, 2)\n",
    "plt.plot(epochs_range, loss, label='Training Loss')\n",
    "plt.plot(epochs_range, val_loss, label='Validation Loss')\n",
    "plt.legend(loc='upper right')\n",
    "plt.title('Training and Validation Loss')\n",
    "plt.show()"
   ]
  },
  {
   "cell_type": "markdown",
   "id": "acoustic-locator",
   "metadata": {},
   "source": [
    "### 5-6.  Evaluation"
   ]
  },
  {
   "cell_type": "code",
   "execution_count": 41,
   "id": "rotary-museum",
   "metadata": {},
   "outputs": [
    {
     "name": "stdout",
     "output_type": "stream",
     "text": [
      "317/317 [==============================] - 18s 57ms/step - loss: 0.1360 - accuracy: 0.9544\n"
     ]
    }
   ],
   "source": [
    "model_wav_2D.load_weights(checkpoint_dir)\n",
    "results = model_wav_2D.evaluate(test_dataset)"
   ]
  },
  {
   "cell_type": "markdown",
   "id": "statistical-startup",
   "metadata": {},
   "source": [
    "#### 1) loss"
   ]
  },
  {
   "cell_type": "code",
   "execution_count": 42,
   "id": "quality-talent",
   "metadata": {},
   "outputs": [
    {
     "name": "stdout",
     "output_type": "stream",
     "text": [
      "loss value: 0.136\n"
     ]
    }
   ],
   "source": [
    "print(\"loss value: {:.3f}\".format(results[0]))"
   ]
  },
  {
   "cell_type": "markdown",
   "id": "aware-adrian",
   "metadata": {},
   "source": [
    "#### 2) accuracy"
   ]
  },
  {
   "cell_type": "code",
   "execution_count": 43,
   "id": "fluid-triumph",
   "metadata": {},
   "outputs": [
    {
     "name": "stdout",
     "output_type": "stream",
     "text": [
      "accuracy value: 95.4366%\n"
     ]
    }
   ],
   "source": [
    "print(\"accuracy value: {:.4f}%\".format(results[1]*100))"
   ]
  },
  {
   "cell_type": "markdown",
   "id": "directed-excuse",
   "metadata": {},
   "source": [
    "## 6. 모델별 Accuracy 비교"
   ]
  },
  {
   "cell_type": "code",
   "execution_count": 44,
   "id": "favorite-bankruptcy",
   "metadata": {},
   "outputs": [
    {
     "data": {
      "image/png": "[encoded data removed]",
      "text/plain": [
       "<Figure size 432x288 with 1 Axes>"
      ]
     },
     "metadata": {
      "needs_background": "light"
     },
     "output_type": "display_data"
    }
   ],
   "source": [
    "import matplotlib.pyplot as plt\n",
    "model = ['Conv1D-layer', 'Skip-connection', 'Conv2d-layer']\n",
    "accuracy = [90.9917, 92.4141, 95.4366]\n",
    "plt.scatter(model, accuracy)\n",
    "plt.plot(model, accuracy)\n",
    "plt.axis([-0.5,2.5,80,100])\n",
    "plt.suptitle('What is the best model?')\n",
    "plt.xlabel('Model')\n",
    "plt.ylabel('Accuracy')\n",
    "plt.annotate('Best Model', xy=(2, 96), xytext=(1.75, 97.5),\n",
    "             arrowprops=dict(facecolor='red', shrink=0.05))\n",
    "plt.show()"
   ]
  },
  {
   "cell_type": "markdown",
   "id": "pointed-sussex",
   "metadata": {},
   "source": [
    "## 7. 회고 \n",
    "\n",
    "<br/>\n",
    "\n",
    "#### 2차원으로 바꿔주는 것에 대한 문제\n",
    "- 어느 지점에서 바꾸어야하나 하는 문제\n",
    "    - 이것이 가장 난감했었다. 처음에는 이해를 잘하지 못하여 모델 구현 바로 전에 하였는데 2차원으로 바꿔준 후 데이터를 분리하고 reshape를 해야한다는 것을 깨달았다. 최종적으로 2차원으로 바꿔주는 시기는 데이터를 분리하고 reshape 하기 전인 2-2에 하기로 하였다.\n",
    "\n",
    "\n",
    "- wav2spec은 데이터 하나에 대해서만 변환해주는 문제\n",
    "    - wav2spec은 데이터 하나에 대해서만 변환해준다. 따라서, 내가 고안한 전략은 for문을 통해 speech_data\\[\"wav_vals\"\\]에서 데이터 하나씩 불러와서 변환해준 후 최종적으로 그 리스트를 array형태로 바꿔주는 것이었다. 이 과정은 2-1 3)에서 볼 수 있다.\n",
    "    \n",
    "<br/>\n",
    "\n",
    "#### 메모리 부족 현상에 대한 다양한 경우 (커널이 죽는 문제)\n",
    "이 부분은 많은 사람들이 겪고 해결방안들을 제시해주어서 어렵지 않게 해결하였다. 하지만, 그 해결방안들을 한 번 정리해보았다.\n",
    "\n",
    "- GPU가 아닌 CPU를 사용하고 있는 경우\n",
    "    - 이 경우는 tensorflow를 GPU가 아닌 것으로 설치하였을 경우이다. 이와 같을 경우 CPU를 사용하고 있다는 오류가 떠 확인할 수 있으므로 이럴 경우 tensorflow를 지워준 후 tensorflow-gpu 를 설치하여 해결하면 된다.\n",
    "    \n",
    "\n",
    "- 다른 커널들을 사용하고 있는 경우\n",
    "    - 이번 작업 같은 경우 메모리를 많이 사용하여야 하기 때문에 이 커널 이외의 것들을 전부 종료해준 후 따로 진행하는 것이 효율적이다. \n",
    "    \n",
    "\n",
    "- del를 사용하여 앞서 저장한 리스트들을 비워주지 않는 경우\n",
    "    - 이 경우가 문제 해결의 가장 핵심이라고 생각한다. 본인의 경우에는 2-1 3)에서 리스트(data_list)를 굳이 만들었기에 여기서 메모리를 많이 사용하였다. 따라서, 이를 지워주지 않아 메모리 부족 현상이 발생하였다. 이를 해결하기 위해 2-3 1) 에서 del speech_data, del data_list 등의 명령어를 통해 리스트에 담고 있던 정보를 사용해주며 메모리를 복구해주어 해결할 수 있었다. 또한, 4번 5번에서 새로운 모델을 설계할 때도 그 전에 있던 리스트들을 비워주었다.\n",
    "\n",
    "\n",
    "<br/>\n",
    "\n",
    "#### Conv2D 모델 설계에 있어서의 어려움\n",
    "\n",
    "- input shape에 어떤 값의 형태로 넣어야하는가\n",
    "    - 이전에 설계했었던 가위바위보 분류기 모델에서 Conv2D모델을 사용한 것을 생각하였고, 그때의 shape를 살펴보았다. 당시에 가로세로가 각각 32였고, 채널이 1이었다. 이번 것에 적용하기 위해서 shape를 시간, 주파수, 1로 해주었고 올바르게 작동하는 것을 볼 수 있었다.\n",
    "  \n",
    "  \n",
    "- Conv2D 모델을 어떻게 설계할 것인가\n",
    "    - CS231n 5강 내용을 마침 공부를 마친 터여서 필터의 크기와 stride , padding의 크기 설정 등을 한다는 것을 알 수 있었다. 이전에 가위바위보 분류기 모델에서 설정했던 값들을 그대로 사용하기로 하였다. 그 결과 올바르게 작동하는 것을 볼 수 있었다.\n",
    "\n",
    "<br/>\n",
    "<br/>\n",
    "\n",
    "## 8. 루브릭\n",
    "\n",
    "<br/>\n",
    "\n",
    "#### 스펙트로그램 시각화 및 train/test 데이터셋 구성이 정상진행되었다.\n",
    "- 시각화: 1-3 6) 에서 확인 가능, \n",
    "![spe](https://user-images.githubusercontent.com/70703320/105734947-82319800-5f76-11eb-8ebb-7802b7aa04bb.png)\n",
    "- train/test 데이터셋 구성: 2.3 1~2)에서 확인 가능\n",
    "![data](https://user-images.githubusercontent.com/70703320/105734962-865db580-5f76-11eb-8027-11809072a055.png)\n",
    "\n",
    "<br/>\n",
    "\n",
    "#### 스펙트로그램을 입력받은 모델이 학습과정에서 안정적으로 수렴하며, evaluation/test 단계를 무리없이 진행가능하다.\n",
    "- 안정적으로 수렴: 5.6에서 확인 가능\n",
    "![eva](https://user-images.githubusercontent.com/70703320/105734956-8493f200-5f76-11eb-8c08-259812c04123.png)\n",
    "<br/>\n",
    "\n",
    "#### evaluation 결과 75% 이상의 정확도를 달성하는 모델이 하나 이상 존재한다.\n",
    "- 6 에서 3가지 모델 모두 75% 이상임을 확인 가능\n",
    "![accuracy](https://user-images.githubusercontent.com/70703320/105738391-544e5280-5f7a-11eb-8a06-41f1f35066e1.png)"
   ]
  }
 ],
 "metadata": {
  "kernelspec": {
   "display_name": "aiffel",
   "language": "python",
   "name": "aiffel"
  },
  "language_info": {
   "codemirror_mode": {
    "name": "ipython",
    "version": 3
   },
   "file_extension": ".py",
   "mimetype": "text/x-python",
   "name": "python",
   "nbconvert_exporter": "python",
   "pygments_lexer": "ipython3",
   "version": "3.7.9"
  }
 },
 "nbformat": 4,
 "nbformat_minor": 5
}
