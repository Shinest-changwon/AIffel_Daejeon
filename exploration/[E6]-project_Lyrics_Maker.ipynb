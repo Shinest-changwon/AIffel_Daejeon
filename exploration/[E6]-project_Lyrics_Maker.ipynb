{
 "cells": [
  {
   "cell_type": "markdown",
   "id": "inclusive-sphere",
   "metadata": {},
   "source": [
    "E6.project_Lyrics_Maker\n",
    "===\n",
    "---\n",
    "\n",
    "주어진 단어들을 토대로 다음 단어를 추천해주는 lyrics_maker모델을 만들어보자. \n",
    "\n",
    "![Best-Lyrics-Video-Maker-App-For-Android-2020](https://user-images.githubusercontent.com/70703320/105852424-cdf04a00-6027-11eb-85dc-a602c6136392.png)\n",
    "사진출처 : (https://funoovr.com/best-lyrics-video-maker-app-for-android-2020/)\n",
    "\n",
    "\n",
    "\n",
    "## 1. 데이터 읽어오기\n",
    "#### 필요한 라이브러리 불러오기"
   ]
  },
  {
   "cell_type": "code",
   "execution_count": 1,
   "id": "nasty-eating",
   "metadata": {},
   "outputs": [],
   "source": [
    "import glob  # 파일들의 리스트를 뽑을 때 사용하는 라이브러리\n",
    "import os  # path를 불러들일 때 쓰는 라이브러리\n",
    "import pandas as pd  # 데이터 시각화를 위해 쓰는 라이브러리"
   ]
  },
  {
   "cell_type": "markdown",
   "id": "electronic-glasgow",
   "metadata": {},
   "source": [
    "#### 파일 작업을 해주기 경로 설정"
   ]
  },
  {
   "cell_type": "code",
   "execution_count": 2,
   "id": "efficient-parish",
   "metadata": {},
   "outputs": [],
   "source": [
    "txt_file_path = os.getenv('HOME')+'/aiffel/lyricist/data/lyrics/*'  # lyrics 폴더 안에 모든 파일들을 지정\n",
    "\n",
    "txt_list = glob.glob(txt_file_path)  # 파일 경로에 텍스트 파일들을 리스트로 설정"
   ]
  },
  {
   "cell_type": "markdown",
   "id": "magnetic-edinburgh",
   "metadata": {},
   "source": [
    "#### 본격적인 파일 읽어서 리스트 만들기 작업"
   ]
  },
  {
   "cell_type": "code",
   "execution_count": 3,
   "id": "western-visiting",
   "metadata": {},
   "outputs": [
    {
     "name": "stdout",
     "output_type": "stream",
     "text": [
      "데이터 크기: 187088\n"
     ]
    }
   ],
   "source": [
    "raw_corpus_1 = []  # 빈 raw_corpus_1 리스트 생성\n",
    "\n",
    "for txt_file in txt_list:  # txt_list에서  txt_file 하나씩 불러들임\n",
    "    with open(txt_file, \"r\") as f:  # with as 구문을 통해 파일을 읽기모드로 읽어 f로 저장 후 나감\n",
    "        raw = f.read().splitlines()  # 파일을 한줄씩 읽어서 raw로 저장함\n",
    "        raw_corpus_1.extend(raw)  # extend 함수를 이용하여 각각의 항목들을 raw_corpus_1에 추가해나감\n",
    "\n",
    "print(\"데이터 크기:\", len(raw_corpus_1))  # 데이터 크기를 출력"
   ]
  },
  {
   "cell_type": "markdown",
   "id": "owned-leadership",
   "metadata": {},
   "source": [
    "#### 리스트 문장들 출력해보기"
   ]
  },
  {
   "cell_type": "code",
   "execution_count": 4,
   "id": "choice-warehouse",
   "metadata": {},
   "outputs": [
    {
     "data": {
      "text/html": [
       "<div>\n",
       "<style scoped>\n",
       "    .dataframe tbody tr th:only-of-type {\n",
       "        vertical-align: middle;\n",
       "    }\n",
       "\n",
       "    .dataframe tbody tr th {\n",
       "        vertical-align: top;\n",
       "    }\n",
       "\n",
       "    .dataframe thead th {\n",
       "        text-align: right;\n",
       "    }\n",
       "</style>\n",
       "<table border=\"1\" class=\"dataframe\">\n",
       "  <thead>\n",
       "    <tr style=\"text-align: right;\">\n",
       "      <th></th>\n",
       "      <th>Lyrics</th>\n",
       "    </tr>\n",
       "    <tr>\n",
       "      <th>Num</th>\n",
       "      <th></th>\n",
       "    </tr>\n",
       "  </thead>\n",
       "  <tbody>\n",
       "    <tr>\n",
       "      <th>1</th>\n",
       "      <td></td>\n",
       "    </tr>\n",
       "    <tr>\n",
       "      <th>2</th>\n",
       "      <td></td>\n",
       "    </tr>\n",
       "    <tr>\n",
       "      <th>3</th>\n",
       "      <td>Jesus died for somebody's sins but not mine</td>\n",
       "    </tr>\n",
       "    <tr>\n",
       "      <th>4</th>\n",
       "      <td>Meltin' in a pot of thieves</td>\n",
       "    </tr>\n",
       "    <tr>\n",
       "      <th>5</th>\n",
       "      <td>Wild card up my sleeve</td>\n",
       "    </tr>\n",
       "    <tr>\n",
       "      <th>6</th>\n",
       "      <td>Thick heart of stone</td>\n",
       "    </tr>\n",
       "    <tr>\n",
       "      <th>7</th>\n",
       "      <td>My sins my own</td>\n",
       "    </tr>\n",
       "    <tr>\n",
       "      <th>8</th>\n",
       "      <td>They belong to me, me</td>\n",
       "    </tr>\n",
       "    <tr>\n",
       "      <th>9</th>\n",
       "      <td></td>\n",
       "    </tr>\n",
       "    <tr>\n",
       "      <th>10</th>\n",
       "      <td>People say \"beware!\"</td>\n",
       "    </tr>\n",
       "  </tbody>\n",
       "</table>\n",
       "</div>"
      ],
      "text/plain": [
       "                                          Lyrics\n",
       "Num                                             \n",
       "1                                               \n",
       "2                                               \n",
       "3    Jesus died for somebody's sins but not mine\n",
       "4                    Meltin' in a pot of thieves\n",
       "5                         Wild card up my sleeve\n",
       "6                           Thick heart of stone\n",
       "7                                 My sins my own\n",
       "8                          They belong to me, me\n",
       "9                                               \n",
       "10                          People say \"beware!\""
      ]
     },
     "execution_count": 4,
     "metadata": {},
     "output_type": "execute_result"
    }
   ],
   "source": [
    "data = pd.DataFrame({'Lyrics' : raw_corpus_1[:10], # 출력할 문장들을 table로 보기 위해 dictionary를 만듦\n",
    "                    'Num' : [n for n in range(1,11)]})  \n",
    "data.set_index('Num', inplace = True)  # 인덱스를 Num으로 설정\n",
    "data  # pandas를 이용해 문장 출력"
   ]
  },
  {
   "cell_type": "markdown",
   "id": "partial-realtor",
   "metadata": {},
   "source": [
    "공백인 문장을 지워주어야 한다!\n",
    "\n",
    "\n",
    "## 2. 정규표현식으로 지워주기\n",
    "\n",
    "#### preprocess_sentence 함수 만들어주기 (정규표현식을 이용한 문장 전처리)"
   ]
  },
  {
   "cell_type": "code",
   "execution_count": 5,
   "id": "molecular-deputy",
   "metadata": {},
   "outputs": [
    {
     "name": "stdout",
     "output_type": "stream",
     "text": [
      "<start> this is sample sentence . <end>\n"
     ]
    }
   ],
   "source": [
    "import re  # 정규표현식을 위한 라이브러리\n",
    "\n",
    "def preprocess_sentence(sentence):  # preprocess_sentence 함수 만들기, 매개변수: sentence\n",
    "    sentence = sentence.lower().strip()  # 소문자로 바꾸기, 양쪽 공백 지우기       \n",
    "  \n",
    "    \n",
    "    sentence = re.sub(r\"([?.!,¿])\", r\" \\1 \", sentence)  # 패턴의 특수문자를 만나면 특수문자 양       \n",
    "    sentence = re.sub(r'[\" \"]+', \" \", sentence)  # 공백 패턴을 만나면 스페이스 1개로 치환                 \n",
    "    sentence = re.sub(r\"[^a-zA-Z?.!,¿]+\", \" \", sentence)  # a-zA-Z?.!,¿ 패턴을 제외한 모든 문자를 스페이스 1개로 치환\n",
    "\n",
    "    sentence = sentence.strip()  # 양쪽 공백 지우기\n",
    "\n",
    "    sentence = '<start> ' + sentence + ' <end>'  # 문장 앞에 <start> 를 문장 뒤에  <end>를 붙여줌     \n",
    "\n",
    "    \n",
    "    return sentence  # 매개변수를 return\n",
    "\n",
    "print(preprocess_sentence(\"This @_is ;;;sample        sentence.\"))  #함수 확인을 위해 예시문장 출력  "
   ]
  },
  {
   "cell_type": "markdown",
   "id": "compound-sport",
   "metadata": {},
   "source": [
    "원하였던 모양으로 출력하였다.\n",
    "\n",
    "#### 만들어준 함수 적용해주되 빈 원소는 빼주기"
   ]
  },
  {
   "cell_type": "code",
   "execution_count": 6,
   "id": "blind-participation",
   "metadata": {},
   "outputs": [
    {
     "name": "stdout",
     "output_type": "stream",
     "text": [
      "데이터 크기: 175986\n"
     ]
    }
   ],
   "source": [
    "corpus = []  # 빈 corpus 리스트 만들기\n",
    "\n",
    "for sentence in raw_corpus_1:  # 앞서 만들었던 raw_corpus_1의 원소들을\n",
    "    if len(sentence) == 0: continue  # 길이가 0이면 패쓰\n",
    "    corpus.append(preprocess_sentence(sentence))  # 나머지는 만들어준 함수를 통해 문장 전처리\n",
    "    \n",
    "print(\"데이터 크기:\", len(corpus))  # 데이터 크기 다시 확인"
   ]
  },
  {
   "cell_type": "markdown",
   "id": "ecological-treat",
   "metadata": {},
   "source": [
    "#### 리스트 문장 출력해보기"
   ]
  },
  {
   "cell_type": "code",
   "execution_count": 7,
   "id": "essential-scholar",
   "metadata": {},
   "outputs": [
    {
     "data": {
      "text/html": [
       "<div>\n",
       "<style scoped>\n",
       "    .dataframe tbody tr th:only-of-type {\n",
       "        vertical-align: middle;\n",
       "    }\n",
       "\n",
       "    .dataframe tbody tr th {\n",
       "        vertical-align: top;\n",
       "    }\n",
       "\n",
       "    .dataframe thead th {\n",
       "        text-align: right;\n",
       "    }\n",
       "</style>\n",
       "<table border=\"1\" class=\"dataframe\">\n",
       "  <thead>\n",
       "    <tr style=\"text-align: right;\">\n",
       "      <th></th>\n",
       "      <th>Lyrics</th>\n",
       "    </tr>\n",
       "    <tr>\n",
       "      <th>Num</th>\n",
       "      <th></th>\n",
       "    </tr>\n",
       "  </thead>\n",
       "  <tbody>\n",
       "    <tr>\n",
       "      <th>1</th>\n",
       "      <td>&lt;start&gt; jesus died for somebody s sins but not...</td>\n",
       "    </tr>\n",
       "    <tr>\n",
       "      <th>2</th>\n",
       "      <td>&lt;start&gt; meltin in a pot of thieves &lt;end&gt;</td>\n",
       "    </tr>\n",
       "    <tr>\n",
       "      <th>3</th>\n",
       "      <td>&lt;start&gt; wild card up my sleeve &lt;end&gt;</td>\n",
       "    </tr>\n",
       "    <tr>\n",
       "      <th>4</th>\n",
       "      <td>&lt;start&gt; thick heart of stone &lt;end&gt;</td>\n",
       "    </tr>\n",
       "    <tr>\n",
       "      <th>5</th>\n",
       "      <td>&lt;start&gt; my sins my own &lt;end&gt;</td>\n",
       "    </tr>\n",
       "    <tr>\n",
       "      <th>6</th>\n",
       "      <td>&lt;start&gt; they belong to me , me &lt;end&gt;</td>\n",
       "    </tr>\n",
       "    <tr>\n",
       "      <th>7</th>\n",
       "      <td>&lt;start&gt; people say beware ! &lt;end&gt;</td>\n",
       "    </tr>\n",
       "    <tr>\n",
       "      <th>8</th>\n",
       "      <td>&lt;start&gt; but i don t care &lt;end&gt;</td>\n",
       "    </tr>\n",
       "    <tr>\n",
       "      <th>9</th>\n",
       "      <td>&lt;start&gt; the words are just &lt;end&gt;</td>\n",
       "    </tr>\n",
       "    <tr>\n",
       "      <th>10</th>\n",
       "      <td>&lt;start&gt; rules and regulations to me , me &lt;end&gt;</td>\n",
       "    </tr>\n",
       "  </tbody>\n",
       "</table>\n",
       "</div>"
      ],
      "text/plain": [
       "                                                Lyrics\n",
       "Num                                                   \n",
       "1    <start> jesus died for somebody s sins but not...\n",
       "2             <start> meltin in a pot of thieves <end>\n",
       "3                 <start> wild card up my sleeve <end>\n",
       "4                   <start> thick heart of stone <end>\n",
       "5                         <start> my sins my own <end>\n",
       "6                 <start> they belong to me , me <end>\n",
       "7                    <start> people say beware ! <end>\n",
       "8                       <start> but i don t care <end>\n",
       "9                     <start> the words are just <end>\n",
       "10      <start> rules and regulations to me , me <end>"
      ]
     },
     "execution_count": 7,
     "metadata": {},
     "output_type": "execute_result"
    }
   ],
   "source": [
    "data = pd.DataFrame({'Lyrics' :corpus[:10], # 출력할 문장들을 table로 보기 위해 dictionary를 만듦\n",
    "                    'Num' : [n for n in range(1,11)]})  \n",
    "data.set_index('Num', inplace = True)  # 인덱스를 Num으로 설정\n",
    "data  # pandas를 이용해 문장 출력"
   ]
  },
  {
   "cell_type": "markdown",
   "id": "nuclear-lloyd",
   "metadata": {},
   "source": [
    "원하는 모양으로 잘 처리 되었다.\n",
    "\n",
    "#### 문장의 길이 별 분포 시각화"
   ]
  },
  {
   "cell_type": "code",
   "execution_count": 8,
   "id": "finnish-philadelphia",
   "metadata": {},
   "outputs": [
    {
     "data": {
      "image/png": "[encoded data removed]",
      "text/plain": [
       "<Figure size 432x288 with 1 Axes>"
      ]
     },
     "metadata": {
      "needs_background": "light"
     },
     "output_type": "display_data"
    },
    {
     "data": {
      "text/plain": [
       "Counter({3: 2413,\n",
       "         4: 4168,\n",
       "         5: 7274,\n",
       "         6: 12904,\n",
       "         7: 18104,\n",
       "         8: 20170,\n",
       "         9: 19192,\n",
       "         10: 17485,\n",
       "         11: 15968,\n",
       "         12: 13516,\n",
       "         13: 11080,\n",
       "         14: 7924,\n",
       "         15: 6029,\n",
       "         16: 4247,\n",
       "         17: 3240,\n",
       "         18: 2510,\n",
       "         19: 2050,\n",
       "         20: 1512,\n",
       "         21: 1170,\n",
       "         22: 989,\n",
       "         23: 842,\n",
       "         24: 702,\n",
       "         25: 544,\n",
       "         26: 435,\n",
       "         27: 333,\n",
       "         28: 244,\n",
       "         29: 211,\n",
       "         30: 156,\n",
       "         31: 119,\n",
       "         32: 87,\n",
       "         33: 71,\n",
       "         34: 31,\n",
       "         35: 33,\n",
       "         36: 32,\n",
       "         37: 16,\n",
       "         38: 19,\n",
       "         39: 18,\n",
       "         40: 9,\n",
       "         41: 9,\n",
       "         42: 11,\n",
       "         43: 8,\n",
       "         44: 8,\n",
       "         45: 5,\n",
       "         46: 5,\n",
       "         47: 5,\n",
       "         48: 8,\n",
       "         49: 2,\n",
       "         50: 2,\n",
       "         51: 7,\n",
       "         52: 2,\n",
       "         53: 6,\n",
       "         54: 5,\n",
       "         55: 6,\n",
       "         56: 1,\n",
       "         57: 7,\n",
       "         58: 1,\n",
       "         60: 2,\n",
       "         61: 1,\n",
       "         63: 6,\n",
       "         65: 2,\n",
       "         67: 2,\n",
       "         68: 4,\n",
       "         69: 1,\n",
       "         71: 1,\n",
       "         72: 1,\n",
       "         74: 1,\n",
       "         75: 1,\n",
       "         77: 1,\n",
       "         78: 1,\n",
       "         82: 1,\n",
       "         85: 1,\n",
       "         86: 1,\n",
       "         90: 1,\n",
       "         92: 1,\n",
       "         98: 1,\n",
       "         101: 1,\n",
       "         104: 1,\n",
       "         119: 1,\n",
       "         121: 1,\n",
       "         123: 1,\n",
       "         134: 1,\n",
       "         138: 1,\n",
       "         153: 1,\n",
       "         259: 1,\n",
       "         266: 1,\n",
       "         347: 1})"
      ]
     },
     "execution_count": 8,
     "metadata": {},
     "output_type": "execute_result"
    }
   ],
   "source": [
    "import matplotlib.pyplot as plt  # 시각화하기 위한 라이브러리 \n",
    "from collections import Counter  # 실제 개수를 확인하기 위한 라이브러리\n",
    "\n",
    "token_len = []  # 빈 리스트 token_length 만들기\n",
    "\n",
    "for sentence in corpus:  # corpus 안에 있는 문장들을 꺼내서\n",
    "    token_len.append(len(sentence.split(' ')))  # 띄어쓰기 별로 나누어 길이를 측정하고 리스트에 붙임\n",
    "\n",
    "plt.hist(token_len, range = (0,40), bins = 40)  # 히스토그램 설정\n",
    "plt.xlabel('Number of Tokens')  # x축 이름 설정\n",
    "plt.ylabel('Count ot Sentence')  # y축 이름 설정\n",
    "plt.title('Distribution of Sentence by Number of Token')  # 히스토그램 이름 설정\n",
    "plt.show()  # 히스토그램 보기\n",
    "Counter(sorted(token_len))  # 실제 개수 확인"
   ]
  },
  {
   "cell_type": "markdown",
   "id": "occupational-fraction",
   "metadata": {},
   "source": [
    "정규분포보다는 왼쪽에 치우친 F-분포에 가까운 형태를 띠고 있음\n",
    "\n",
    "## 3. 데이터 정제 토큰화\n",
    "\n",
    "#### 토큰화 진행 중 16이상은 제거해주기 "
   ]
  },
  {
   "cell_type": "code",
   "execution_count": 9,
   "id": "super-capture",
   "metadata": {},
   "outputs": [
    {
     "name": "stdout",
     "output_type": "stream",
     "text": [
      "[[   2  641  732 ...    0    0    0]\n",
      " [   2    1   14 ...    0    0    0]\n",
      " [   2  494 2043 ...    0    0    0]\n",
      " ...\n",
      " [   2   33   32 ...    0    0    0]\n",
      " [   2    5   34 ...    0    0    0]\n",
      " [   2   17   16 ...    0    0    0]] [[   0    0    0 ...   70  216    3]\n",
      " [   0    0    0 ...   19 2966    3]\n",
      " [   0    0    0 ...   13 2898    3]\n",
      " ...\n",
      " [   0    0    0 ... 2632  373    3]\n",
      " [   0    0    0 ...   27  351    3]\n",
      " [   0    0    0 ...  131  744    3]] <keras_preprocessing.text.Tokenizer object at 0x7fa653d03950>\n"
     ]
    }
   ],
   "source": [
    "import numpy as np  # 행렬연산을 위한 라이브러리           \n",
    "import tensorflow as tf  # 텐서를 만들어주기 위한 라이브러리     \n",
    "\n",
    "token_tray = []  # 빈 token_tray 리스트 만들기\n",
    "\n",
    "def tokenize(corpus):  # tokenize 함수 정의, 매개변수 corpus\n",
    "    \n",
    "    tokenizer = tf.keras.preprocessing.text.Tokenizer(  # tesorflow에서 케라스 불러들이고 Tokenizer를 사용\n",
    "        num_words=12000,  # 전체 단어의 개수를 12000으로!\n",
    "        filters='',  # default     \n",
    "        oov_token=\"<unk>\"  # 사전에 없는 단어를 <unk>로 지정\n",
    "    )\n",
    "    tokenizer.fit_on_texts(corpus)  # corpus로부터 Tokenizer가 사전을 자동구축  \n",
    "    \n",
    "    tensor = tokenizer.texts_to_sequences(corpus)  # 사전으로부터 corpus를 해석해 tensor로 변환\n",
    "    \n",
    "    for str_len in tensor:  # tensor에서 원소들을 하나 꺼내어\n",
    "        if len(str_len) < 16:  # 길이가 15이하이면 \n",
    "            token_tray.append(str_len)  # token_tray 리스트에 넣어줌\n",
    "        else:  # 아니면\n",
    "            continue  # 패쓰!\n",
    "    \n",
    "    # maxlen = 15으로, post방식으로 padding 해줌\n",
    "    tensor_post = tf.keras.preprocessing.sequence.pad_sequences(token_tray, maxlen=15, padding='post')\n",
    "    \n",
    "    # maxlen = 15으로, pre방식으로 padding 해줌\n",
    "    tensor_pre = tf.keras.preprocessing.sequence.pad_sequences(token_tray, maxlen=15, padding='pre')\n",
    "\n",
    "    print(tensor_post, tensor_pre, tokenizer)  # tensor_post, tensor_pre, tokenizer를 프린트\n",
    "    return tensor_post, tensor_pre, tokenizer  # tensor_post, tensor_pre, tokenizer를 리턴\n",
    "\n",
    "tensor_post, tensor_pre, tokenizer = tokenize(corpus)  # corpus에 대하여 토큰화!"
   ]
  },
  {
   "cell_type": "markdown",
   "id": "isolated-deposit",
   "metadata": {},
   "source": [
    "## 4. 평가 데이터셋 분리\n",
    "\n",
    "#### 만든 토크나이저 사전 확인해보기"
   ]
  },
  {
   "cell_type": "code",
   "execution_count": 10,
   "id": "enclosed-franklin",
   "metadata": {},
   "outputs": [
    {
     "data": {
      "text/html": [
       "<div>\n",
       "<style scoped>\n",
       "    .dataframe tbody tr th:only-of-type {\n",
       "        vertical-align: middle;\n",
       "    }\n",
       "\n",
       "    .dataframe tbody tr th {\n",
       "        vertical-align: top;\n",
       "    }\n",
       "\n",
       "    .dataframe thead th {\n",
       "        text-align: right;\n",
       "    }\n",
       "</style>\n",
       "<table border=\"1\" class=\"dataframe\">\n",
       "  <thead>\n",
       "    <tr style=\"text-align: right;\">\n",
       "      <th></th>\n",
       "      <th>token</th>\n",
       "    </tr>\n",
       "    <tr>\n",
       "      <th>Num</th>\n",
       "      <th></th>\n",
       "    </tr>\n",
       "  </thead>\n",
       "  <tbody>\n",
       "    <tr>\n",
       "      <th>1</th>\n",
       "      <td>&lt;unk&gt;</td>\n",
       "    </tr>\n",
       "    <tr>\n",
       "      <th>2</th>\n",
       "      <td>&lt;start&gt;</td>\n",
       "    </tr>\n",
       "    <tr>\n",
       "      <th>3</th>\n",
       "      <td>&lt;end&gt;</td>\n",
       "    </tr>\n",
       "    <tr>\n",
       "      <th>4</th>\n",
       "      <td>,</td>\n",
       "    </tr>\n",
       "    <tr>\n",
       "      <th>5</th>\n",
       "      <td>i</td>\n",
       "    </tr>\n",
       "    <tr>\n",
       "      <th>6</th>\n",
       "      <td>the</td>\n",
       "    </tr>\n",
       "    <tr>\n",
       "      <th>7</th>\n",
       "      <td>you</td>\n",
       "    </tr>\n",
       "    <tr>\n",
       "      <th>8</th>\n",
       "      <td>and</td>\n",
       "    </tr>\n",
       "    <tr>\n",
       "      <th>9</th>\n",
       "      <td>a</td>\n",
       "    </tr>\n",
       "    <tr>\n",
       "      <th>10</th>\n",
       "      <td>to</td>\n",
       "    </tr>\n",
       "  </tbody>\n",
       "</table>\n",
       "</div>"
      ],
      "text/plain": [
       "       token\n",
       "Num         \n",
       "1      <unk>\n",
       "2    <start>\n",
       "3      <end>\n",
       "4          ,\n",
       "5          i\n",
       "6        the\n",
       "7        you\n",
       "8        and\n",
       "9          a\n",
       "10        to"
      ]
     },
     "execution_count": 10,
     "metadata": {},
     "output_type": "execute_result"
    }
   ],
   "source": [
    "token_dic = []  # 빈 token_dic 리스트 만들기\n",
    "\n",
    "for idx in tokenizer.index_word:  # tokenizer.index_word안의 idx에 대해\n",
    "    token_dic.append(tokenizer.index_word[idx])  # idx에 해당하는 token을 append함\n",
    "    if idx >= 10: break  # 10이 넘어가면 break\n",
    "        \n",
    "data = pd.DataFrame({'token' : token_dic[:10], # 출력할 문장들을 table로 보기 위해 dictionary를 만듦\n",
    "                    'Num' : [n for n in range(1,11)]})  \n",
    "data.set_index('Num', inplace = True)  # 인덱스를 Num으로 설정\n",
    "data  # pandas를 이용해 문장 출력"
   ]
  },
  {
   "cell_type": "markdown",
   "id": "first-butter",
   "metadata": {},
   "source": [
    "#### tensor_pre, tensor_post 각각에 대해  \\<start\\> , \\<end\\> 각각을 없애준 것 만들기 "
   ]
  },
  {
   "cell_type": "code",
   "execution_count": 11,
   "id": "excited-surgery",
   "metadata": {},
   "outputs": [],
   "source": [
    "src_input_post = tensor_post[:, :-1]  # tensor_post에서 <end> 없앤것 저장   \n",
    "tgt_input_post = tensor_post[:, 1:]  # tensor_post에서 <start> 없앤것 저장 \n",
    "\n",
    "src_input_pre = tensor_pre[:, :-1]  # tensor_pre에서 <end> 없앤것 저장\n",
    "tgt_input_pre = tensor_pre[:, 1:]  # tensor_pre에서 <start> 없앤것 저장"
   ]
  },
  {
   "cell_type": "markdown",
   "id": "becoming-diversity",
   "metadata": {},
   "source": [
    "#### 데이터 나눠주기"
   ]
  },
  {
   "cell_type": "code",
   "execution_count": 12,
   "id": "returning-structure",
   "metadata": {},
   "outputs": [
    {
     "name": "stdout",
     "output_type": "stream",
     "text": [
      "Source post Train: (124981, 14)\n",
      "Target post Train: (124981, 14)\n",
      "Source pre Train: (124981, 14)\n",
      "Target pre Train: (124981, 14)\n"
     ]
    }
   ],
   "source": [
    "from sklearn.model_selection import train_test_split  # 데이터셋을 나누기 위한 라이브러리\n",
    "\n",
    "# post 방법 나눠주기 (test_size = 0.2)\n",
    "enc_post_train, enc_post_val, dec_post_train, dec_post_val = train_test_split(src_input_post, tgt_input_post,  \n",
    "                                                                              test_size=0.2,\n",
    "                                                                              shuffle=True)\n",
    "\n",
    "print(\"Source post Train:\", enc_post_train.shape)  # enc_post_train.shape 출력\n",
    "print(\"Target post Train:\", dec_post_train.shape)  # dec_post_train.shape 출력\n",
    "\n",
    "\n",
    "# pre 방법 나눠주기 (test_size = 0.2)\n",
    "enc_pre_train, enc_pre_val, dec_pre_train, dec_pre_val = train_test_split(src_input_pre, tgt_input_pre,\n",
    "                                                                          test_size=0.2,\n",
    "                                                                          shuffle=True)\n",
    "\n",
    "print(\"Source pre Train:\", enc_pre_train.shape)  # enc_post_train.shape 출력\n",
    "print(\"Target pre Train:\", dec_pre_train.shape)  # dec_post_train.shape 출력"
   ]
  },
  {
   "cell_type": "markdown",
   "id": "proved-conclusion",
   "metadata": {},
   "source": [
    "개수가 알맞게 되었다.\n",
    "\n",
    "## 5. 인공지능 만들기\n",
    "\n",
    "#### batch 설정 및 dataset설계하기\n",
    "\n",
    "tf.data.Dataset.from_tensor_slice 설명\n",
    "![tensor2](https://user-images.githubusercontent.com/70703320/105997457-fb53fb00-60ee-11eb-8d3c-0a024148e1f6.png)\n",
    "tf.data.Dataset.from_tensor_slice.batch 설명\n",
    "![batch](https://user-images.githubusercontent.com/70703320/105997703-4241f080-60ef-11eb-9b41-2ab13ce57f51.png)\n",
    "\n",
    "출처 : [tensorflow API](https://www.tensorflow.org/api_docs/python/tf/data/Dataset)"
   ]
  },
  {
   "cell_type": "code",
   "execution_count": 13,
   "id": "occasional-subcommittee",
   "metadata": {},
   "outputs": [
    {
     "data": {
      "text/plain": [
       "<BatchDataset shapes: ((256, 14), (256, 14)), types: (tf.int32, tf.int32)>"
      ]
     },
     "execution_count": 13,
     "metadata": {},
     "output_type": "execute_result"
    }
   ],
   "source": [
    "# post 모델\n",
    "BUFFER_SIZE_post = len(enc_post_train)  # buffer size 조절\n",
    "BATCH_SIZE_post = 256  # batch size 조절\n",
    "steps_per_epoch_post = len(enc_post_train) // BATCH_SIZE_post  # epoch별 step 크기 조절\n",
    "\n",
    "VOCAB_SIZE_post = tokenizer.num_words + 1  # 사전에 0 : <pad>를 붙여 12001개\n",
    "# post의 train데이터를 dataset 으로 지정\n",
    "dataset_post = tf.data.Dataset.from_tensor_slices((enc_post_train, dec_post_train)).shuffle(BUFFER_SIZE_post)\n",
    "# dataset에 epoch별 step 크기를 지정\n",
    "dataset_post = dataset_post.batch(BATCH_SIZE_post, drop_remainder=True)\n",
    "dataset_post  # 확인\n",
    "\n",
    "\n",
    "# pre 모델\n",
    "BUFFER_SIZE_pre = len(enc_pre_train)  # buffer size 조절\n",
    "BATCH_SIZE_pre = 256  # batch size 조절\n",
    "steps_per_epoch_pre = len(enc_pre_train) // BATCH_SIZE_pre  # epoch별 step 크기 조절\n",
    "\n",
    "VOCAB_SIZE_pre = tokenizer.num_words + 1  # 사전에 0 : <pad>를 붙여 12001개   \n",
    "# pre의 train데이터를 dataset 으로 지정\n",
    "dataset_pre = tf.data.Dataset.from_tensor_slices((enc_pre_train, dec_pre_train)).shuffle(BUFFER_SIZE_pre)\n",
    "# dataset에 epoch별 step 크기를 지정\n",
    "dataset_pre = dataset_pre.batch(BATCH_SIZE_pre, drop_remainder=True)\n",
    "dataset_pre  # 확인"
   ]
  },
  {
   "cell_type": "markdown",
   "id": "floppy-dubai",
   "metadata": {},
   "source": [
    "#### 모델 설계하기"
   ]
  },
  {
   "cell_type": "code",
   "execution_count": 14,
   "id": "royal-terrain",
   "metadata": {},
   "outputs": [],
   "source": [
    "class TextGenerator(tf.keras.Model):  # class 지정\n",
    "    def __init__(self, vocab_size, embedding_size, hidden_size):  # 3가지 매개변수 설정\n",
    "        super(TextGenerator, self).__init__()   # super()로 기반 클래스의 __init__ 메서드 호출\n",
    "        \n",
    "        self.embedding = tf.keras.layers.Embedding(vocab_size, embedding_size)  # embedding layer 구축\n",
    "        self.rnn_1 = tf.keras.layers.LSTM(hidden_size, return_sequences=True)  # LSTM의 RNN1모델 구축\n",
    "        self.rnn_2 = tf.keras.layers.LSTM(hidden_size, return_sequences=True)  # LSTM의 RNN2모델 구축\n",
    "        self.linear = tf.keras.layers.Dense(vocab_size)  # Dense 구축\n",
    "        \n",
    "    def call(self, x):  # 모델 입력 받을 함수 생성\n",
    "        out = self.embedding(x)  # embedding layer 입력\n",
    "        out = self.rnn_1(out)  # rnn1 layer 입력\n",
    "        out = self.rnn_2(out)  # rnn2 layer 입력\n",
    "        out = self.linear(out)  # linear layer 입력\n",
    "        \n",
    "        return out  # out을 리턴\n",
    "    \n",
    "embedding_size = 512  # 워드 벡터의 차원수, 단어가 추상적으로 표현되는 크기\n",
    "hidden_size = 2048  # hidden state의 차원수, 결정을 내리는 수의 크기\n",
    "model_post = TextGenerator(tokenizer.num_words + 1, embedding_size , hidden_size)  # model 설계"
   ]
  },
  {
   "cell_type": "markdown",
   "id": "hidden-atlantic",
   "metadata": {},
   "source": [
    "## 6. post 모델 설계\n",
    "\n",
    "#### post 모델의 데이터 하나 태워보기(model의 input shape 를 결정해주기 위해)"
   ]
  },
  {
   "cell_type": "code",
   "execution_count": 15,
   "id": "independent-polyester",
   "metadata": {},
   "outputs": [
    {
     "data": {
      "text/plain": [
       "<tf.Tensor: shape=(256, 14, 12001), dtype=float32, numpy=\n",
       "array([[[ 2.72985817e-05, -7.97998364e-05, -1.04749102e-04, ...,\n",
       "         -1.40751537e-04,  4.46647755e-05,  4.82912510e-05],\n",
       "        [ 2.34318752e-04,  2.11510982e-04,  9.47218214e-05, ...,\n",
       "         -1.82546006e-04,  2.66335293e-04, -2.10567214e-05],\n",
       "        [ 1.32140543e-04,  4.13664849e-04,  3.89522611e-04, ...,\n",
       "         -2.48931727e-04,  3.18638864e-04,  4.39244941e-05],\n",
       "        ...,\n",
       "        [-4.74935950e-04, -2.08354578e-03,  1.41773093e-03, ...,\n",
       "         -1.21256791e-03, -3.04321264e-04, -5.57113846e-04],\n",
       "        [-6.41402847e-04, -2.26054015e-03,  8.40071123e-04, ...,\n",
       "         -1.25026051e-03,  3.05807596e-04, -8.53714359e-04],\n",
       "        [-9.00034676e-04, -2.83610495e-03, -9.91319394e-05, ...,\n",
       "         -1.02191104e-03,  5.38727501e-04, -6.29219168e-04]],\n",
       "\n",
       "       [[ 2.72985817e-05, -7.97998364e-05, -1.04749102e-04, ...,\n",
       "         -1.40751537e-04,  4.46647755e-05,  4.82912510e-05],\n",
       "        [ 2.16624641e-04, -2.78165069e-04,  2.86412924e-05, ...,\n",
       "         -4.97195870e-04,  3.87278269e-04, -5.98827464e-05],\n",
       "        [ 3.19070881e-04, -1.94742373e-04, -5.48080570e-05, ...,\n",
       "         -7.96862878e-04,  2.91922654e-04, -5.73891521e-05],\n",
       "        ...,\n",
       "        [ 8.00364942e-04, -5.12628176e-04, -1.37414353e-03, ...,\n",
       "         -8.23898532e-04,  6.55099109e-04,  1.52764074e-03],\n",
       "        [ 2.68736185e-04, -1.60862948e-03, -2.21001753e-03, ...,\n",
       "         -5.40969486e-04,  2.87361530e-04,  1.99774792e-03],\n",
       "        [-2.21382215e-04, -2.63875211e-03, -3.01999738e-03, ...,\n",
       "         -3.13732075e-04, -1.59820338e-04,  2.38465006e-03]],\n",
       "\n",
       "       [[ 2.72985817e-05, -7.97998364e-05, -1.04749102e-04, ...,\n",
       "         -1.40751537e-04,  4.46647755e-05,  4.82912510e-05],\n",
       "        [-2.92684799e-05, -7.95020955e-04, -6.35670149e-04, ...,\n",
       "          1.83287149e-04, -1.27722204e-04,  1.19133234e-04],\n",
       "        [-5.89002639e-06, -1.13178836e-03, -1.05780829e-03, ...,\n",
       "          2.01067742e-04, -1.29246066e-04,  2.85708287e-04],\n",
       "        ...,\n",
       "        [-1.49544072e-03, -5.28393313e-03, -5.90434065e-03, ...,\n",
       "          3.01362277e-04, -1.01740833e-03,  2.08968110e-03],\n",
       "        [-1.62416324e-03, -5.52451657e-03, -6.24819193e-03, ...,\n",
       "          1.99452843e-04, -1.38305267e-03,  2.29152269e-03],\n",
       "        [-1.72664097e-03, -5.68429893e-03, -6.52422290e-03, ...,\n",
       "          8.54627142e-05, -1.71418965e-03,  2.45744293e-03]],\n",
       "\n",
       "       ...,\n",
       "\n",
       "       [[ 2.72985817e-05, -7.97998364e-05, -1.04749102e-04, ...,\n",
       "         -1.40751537e-04,  4.46647755e-05,  4.82912510e-05],\n",
       "        [ 8.40957728e-05,  8.78018836e-05,  2.79856044e-06, ...,\n",
       "         -2.70460150e-04,  3.39952530e-04, -1.85506040e-04],\n",
       "        [ 4.83878321e-05,  3.32734460e-04,  2.39259811e-04, ...,\n",
       "         -3.93453316e-04,  1.91005107e-04, -2.54282990e-04],\n",
       "        ...,\n",
       "        [-1.71883893e-03, -3.01850378e-03, -5.96341165e-03, ...,\n",
       "          6.06417365e-04, -6.43718464e-04,  1.81928196e-03],\n",
       "        [-1.78687531e-03, -3.63143929e-03, -6.36355113e-03, ...,\n",
       "          5.14174579e-04, -1.05477835e-03,  2.05371599e-03],\n",
       "        [-1.83755322e-03, -4.12151823e-03, -6.66732108e-03, ...,\n",
       "          3.87357839e-04, -1.42908690e-03,  2.24383990e-03]],\n",
       "\n",
       "       [[ 2.72985817e-05, -7.97998364e-05, -1.04749102e-04, ...,\n",
       "         -1.40751537e-04,  4.46647755e-05,  4.82912510e-05],\n",
       "        [ 2.66582967e-04, -2.01282703e-04, -4.09606873e-04, ...,\n",
       "          1.19845026e-04,  1.52379478e-04,  9.71717091e-05],\n",
       "        [ 5.57751220e-04,  8.79690833e-06, -7.46258942e-04, ...,\n",
       "          2.53372215e-04,  8.65871407e-05,  4.59931216e-05],\n",
       "        ...,\n",
       "        [-3.29119008e-04, -3.16122641e-05, -1.67924336e-05, ...,\n",
       "          1.81368541e-03, -9.05916386e-04,  1.68724000e-04],\n",
       "        [ 3.35411401e-04,  7.02302437e-04, -1.68219325e-04, ...,\n",
       "          2.12832051e-03, -1.03183021e-03,  2.92098965e-04],\n",
       "        [ 5.40930778e-04,  1.26471289e-03, -6.35108969e-04, ...,\n",
       "          2.01510359e-03, -6.08537695e-04,  7.09531423e-06]],\n",
       "\n",
       "       [[ 2.72985817e-05, -7.97998364e-05, -1.04749102e-04, ...,\n",
       "         -1.40751537e-04,  4.46647755e-05,  4.82912510e-05],\n",
       "        [ 4.78221227e-06,  5.94108496e-05, -3.79989360e-04, ...,\n",
       "         -3.03213979e-04, -2.15120439e-04,  9.26756038e-05],\n",
       "        [-2.22961717e-06,  7.37805794e-06, -4.71189385e-04, ...,\n",
       "         -4.32240427e-04, -2.70477816e-04,  3.48523870e-04],\n",
       "        ...,\n",
       "        [-1.54162070e-03, -3.82959563e-03, -4.89120884e-03, ...,\n",
       "         -1.15896131e-04, -5.85997535e-04,  9.29395144e-04],\n",
       "        [-1.68027880e-03, -4.44037514e-03, -5.45455515e-03, ...,\n",
       "          2.41366615e-06, -9.27948626e-04,  1.26428145e-03],\n",
       "        [-1.78878522e-03, -4.90700547e-03, -5.91685902e-03, ...,\n",
       "          5.19320638e-05, -1.26270496e-03,  1.54892972e-03]]],\n",
       "      dtype=float32)>"
      ]
     },
     "execution_count": 15,
     "metadata": {},
     "output_type": "execute_result"
    }
   ],
   "source": [
    "for enc_post_train, dec_post_train in dataset_post.take(1): break  # dataset.take 하나를 불러와\n",
    "model_post(enc_post_train)  # 태워봄으로써 shape를 맞춰줌"
   ]
  },
  {
   "cell_type": "markdown",
   "id": "curious-background",
   "metadata": {},
   "source": [
    "#### post 모델 설계"
   ]
  },
  {
   "cell_type": "code",
   "execution_count": 16,
   "id": "growing-algorithm",
   "metadata": {},
   "outputs": [
    {
     "name": "stdout",
     "output_type": "stream",
     "text": [
      "Model: \"text_generator\"\n",
      "_________________________________________________________________\n",
      "Layer (type)                 Output Shape              Param #   \n",
      "=================================================================\n",
      "embedding (Embedding)        multiple                  6144512   \n",
      "_________________________________________________________________\n",
      "lstm (LSTM)                  multiple                  20979712  \n",
      "_________________________________________________________________\n",
      "lstm_1 (LSTM)                multiple                  33562624  \n",
      "_________________________________________________________________\n",
      "dense (Dense)                multiple                  24590049  \n",
      "=================================================================\n",
      "Total params: 85,276,897\n",
      "Trainable params: 85,276,897\n",
      "Non-trainable params: 0\n",
      "_________________________________________________________________\n"
     ]
    }
   ],
   "source": [
    "model_post.summary()  "
   ]
  },
  {
   "cell_type": "markdown",
   "id": "sunset-booth",
   "metadata": {},
   "source": [
    "#### post 모델 fitting"
   ]
  },
  {
   "cell_type": "code",
   "execution_count": 17,
   "id": "proprietary-average",
   "metadata": {},
   "outputs": [
    {
     "name": "stdout",
     "output_type": "stream",
     "text": [
      "Epoch 1/10\n",
      "488/488 [==============================] - ETA: 0s - loss: 3.2903 - accuracy: 0.5005\n",
      "Epoch 00001: val_loss improved from inf to 2.91514, saving model to /home/aiffel-dj63/aiffel/lyricist/models/post_skip\n",
      "488/488 [==============================] - 200s 410ms/step - loss: 3.2903 - accuracy: 0.5005 - val_loss: 2.9151 - val_accuracy: 0.5302\n",
      "Epoch 2/10\n",
      "488/488 [==============================] - ETA: 0s - loss: 2.7437 - accuracy: 0.5411\n",
      "Epoch 00002: val_loss improved from 2.91514 to 2.66969, saving model to /home/aiffel-dj63/aiffel/lyricist/models/post_skip\n",
      "488/488 [==============================] - 201s 412ms/step - loss: 2.7437 - accuracy: 0.5411 - val_loss: 2.6697 - val_accuracy: 0.5504\n",
      "Epoch 3/10\n",
      "488/488 [==============================] - ETA: 0s - loss: 2.4396 - accuracy: 0.5675\n",
      "Epoch 00003: val_loss improved from 2.66969 to 2.48958, saving model to /home/aiffel-dj63/aiffel/lyricist/models/post_skip\n",
      "488/488 [==============================] - 201s 412ms/step - loss: 2.4396 - accuracy: 0.5675 - val_loss: 2.4896 - val_accuracy: 0.5721\n",
      "Epoch 4/10\n",
      "488/488 [==============================] - ETA: 0s - loss: 2.1447 - accuracy: 0.6008\n",
      "Epoch 00004: val_loss improved from 2.48958 to 2.35595, saving model to /home/aiffel-dj63/aiffel/lyricist/models/post_skip\n",
      "488/488 [==============================] - 202s 413ms/step - loss: 2.1447 - accuracy: 0.6008 - val_loss: 2.3559 - val_accuracy: 0.5940\n",
      "Epoch 5/10\n",
      "488/488 [==============================] - ETA: 0s - loss: 1.8605 - accuracy: 0.6410\n",
      "Epoch 00005: val_loss improved from 2.35595 to 2.25256, saving model to /home/aiffel-dj63/aiffel/lyricist/models/post_skip\n",
      "488/488 [==============================] - 201s 413ms/step - loss: 1.8605 - accuracy: 0.6410 - val_loss: 2.2526 - val_accuracy: 0.6165\n",
      "Epoch 6/10\n",
      "488/488 [==============================] - ETA: 0s - loss: 1.6007 - accuracy: 0.6857\n",
      "Epoch 00006: val_loss improved from 2.25256 to 2.18204, saving model to /home/aiffel-dj63/aiffel/lyricist/models/post_skip\n",
      "488/488 [==============================] - 202s 414ms/step - loss: 1.6007 - accuracy: 0.6857 - val_loss: 2.1820 - val_accuracy: 0.6358\n",
      "Epoch 7/10\n",
      "488/488 [==============================] - ETA: 0s - loss: 1.3837 - accuracy: 0.7270\n",
      "Epoch 00007: val_loss improved from 2.18204 to 2.14340, saving model to /home/aiffel-dj63/aiffel/lyricist/models/post_skip\n",
      "488/488 [==============================] - 201s 413ms/step - loss: 1.3837 - accuracy: 0.7270 - val_loss: 2.1434 - val_accuracy: 0.6512\n",
      "Epoch 8/10\n",
      "488/488 [==============================] - ETA: 0s - loss: 1.2154 - accuracy: 0.7621\n",
      "Epoch 00008: val_loss improved from 2.14340 to 2.13824, saving model to /home/aiffel-dj63/aiffel/lyricist/models/post_skip\n",
      "488/488 [==============================] - 201s 412ms/step - loss: 1.2154 - accuracy: 0.7621 - val_loss: 2.1382 - val_accuracy: 0.6622\n",
      "Epoch 9/10\n",
      "488/488 [==============================] - ETA: 0s - loss: 1.0986 - accuracy: 0.7878\n",
      "Epoch 00009: val_loss did not improve from 2.13824\n",
      "488/488 [==============================] - 200s 409ms/step - loss: 1.0986 - accuracy: 0.7878 - val_loss: 2.1509 - val_accuracy: 0.6671\n",
      "Epoch 10/10\n",
      "488/488 [==============================] - ETA: 0s - loss: 1.0307 - accuracy: 0.8019\n",
      "Epoch 00010: val_loss did not improve from 2.13824\n",
      "488/488 [==============================] - 200s 409ms/step - loss: 1.0307 - accuracy: 0.8019 - val_loss: 2.1691 - val_accuracy: 0.6705\n"
     ]
    }
   ],
   "source": [
    "# validation 할 post dataset 구성\n",
    "dataset_post_val = tf.data.Dataset.from_tensor_slices((enc_post_val, dec_post_val)).shuffle(BUFFER_SIZE_post)\n",
    "dataset_post_val = dataset_post_val.batch(BATCH_SIZE_post, drop_remainder=True)\n",
    "\n",
    "optimizer = tf.keras.optimizers.Adam()  # otimizer 구성\n",
    "\n",
    "loss = tf.keras.losses.SparseCategoricalCrossentropy(  # loss 구성\n",
    "    from_logits=True, reduction='none')\n",
    "\n",
    "# check 포인트 만들기\n",
    "checkpoint_dir = os.getenv('HOME')+'/aiffel/lyricist/models/post_skip'\n",
    "cp_callback = tf.keras.callbacks.ModelCheckpoint(checkpoint_dir,\n",
    "                                                 save_weights_only=True,\n",
    "                                                 monitor='val_loss',\n",
    "                                                 mode='auto',\n",
    "                                                 save_best_only=True,\n",
    "                                                 verbose=1)\n",
    "\n",
    "\n",
    "model_post.compile(loss=loss, optimizer=optimizer, metrics=['accuracy'])  # model compile\n",
    "history_post = model_post.fit(dataset_post, epochs=10, # model fitting\n",
    "                              validation_data=dataset_post_val,\n",
    "                              callbacks=[cp_callback])  "
   ]
  },
  {
   "cell_type": "markdown",
   "id": "improving-caribbean",
   "metadata": {},
   "source": [
    "## 시각화"
   ]
  },
  {
   "cell_type": "code",
   "execution_count": 18,
   "id": "impressed-numbers",
   "metadata": {},
   "outputs": [
    {
     "data": {
      "image/png": "[encoded data removed]",
      "text/plain": [
       "<Figure size 576x576 with 2 Axes>"
      ]
     },
     "metadata": {
      "needs_background": "light"
     },
     "output_type": "display_data"
    }
   ],
   "source": [
    "import matplotlib.pyplot as plt\n",
    "\n",
    "acc = history_post.history['accuracy']\n",
    "val_acc = history_post.history['val_accuracy']\n",
    "\n",
    "loss=history_post.history['loss']\n",
    "val_loss=history_post.history['val_loss']\n",
    "\n",
    "epochs_range = range(len(acc))\n",
    "\n",
    "plt.figure(figsize=(8, 8))\n",
    "plt.subplot(1, 2, 1)\n",
    "plt.plot(epochs_range, acc, label='Training Accuracy')\n",
    "plt.plot(epochs_range, val_acc, label='Validation Accuracy')\n",
    "plt.legend(loc='lower right')\n",
    "plt.title('Training and Validation Accuracy')\n",
    "\n",
    "plt.subplot(1, 2, 2)\n",
    "plt.plot(epochs_range, loss, label='Training Loss')\n",
    "plt.plot(epochs_range, val_loss, label='Validation Loss')\n",
    "plt.legend(loc='upper right')\n",
    "plt.title('Training and Validation Loss')\n",
    "plt.show()"
   ]
  },
  {
   "cell_type": "markdown",
   "id": "public-berry",
   "metadata": {},
   "source": [
    "## 7. post 모델로 가사 만들어보기"
   ]
  },
  {
   "cell_type": "code",
   "execution_count": 19,
   "id": "surgical-refund",
   "metadata": {},
   "outputs": [
    {
     "data": {
      "text/plain": [
       "'<start> i love you , liberian girl <end> '"
      ]
     },
     "execution_count": 19,
     "metadata": {},
     "output_type": "execute_result"
    }
   ],
   "source": [
    "def generate_text(model, tokenizer, init_sentence=\"<start>\", max_len=15):\n",
    "    \n",
    "    test_input = tokenizer.texts_to_sequences([init_sentence])  # 사전으로부터 init_sentence를 해석해 벡터로 변환\n",
    "    test_tensor = tf.convert_to_tensor(test_input, dtype=tf.int64)  # 벡터를 tensor로 변환\n",
    "    end_token = tokenizer.word_index[\"<end>\"]  # <end> 의 index를 저장해놓음\n",
    "\n",
    "    \n",
    "    while True:  # 참인 경우만 반복문\n",
    "        predict = model(test_tensor)  # 입력받은 문장의 텐서를 입력 \n",
    "        predict_word = tf.argmax(tf.nn.softmax(predict, axis=-1), axis=-1)[:, -1]  # 모델이 예측한 단어가 새롭게 생성한 단어가 됨  \n",
    "        \n",
    "        # 모델이 예측한 단어를 입력 문장 뒤에 붙여줌\n",
    "        test_tensor = tf.concat([test_tensor, \n",
    "                                                                 tf.expand_dims(predict_word, axis=0)], axis=-1)\n",
    "        \n",
    "        if predict_word.numpy()[0] == end_token: break  # 모델이 <end> 를 예측하면 종료\n",
    "        if test_tensor.shape[1] >= max_len: break  # 모델이 maxlen에 도달하면 종료\n",
    "\n",
    "    generated = \"\"\n",
    "  \n",
    "    for word_index in test_tensor[0].numpy():  # 생성된 tensor안에 있는 word index를 \n",
    "        generated += tokenizer.index_word[word_index] + \" \"  # tokenizer.index_word 사전을 통해 실제 단어로 하나씩 변환\n",
    "\n",
    "    return generated  \n",
    "\n",
    "generate_text(model_post, tokenizer, init_sentence=\"<start> i love\", max_len=15)  # <start> i love 다음 어떤 문장이 올지 예측!"
   ]
  },
  {
   "cell_type": "markdown",
   "id": "demanding-yemen",
   "metadata": {},
   "source": [
    "마이클 잭슨의 liberian girl의 곡이 나오다니 데이터에 기반한 것이 확실하다!\n",
    "\n",
    "![마이클](https://user-images.githubusercontent.com/70703320/106150282-86e88d00-61be-11eb-8218-ed9576d4d16d.png)\n",
    "\n",
    "\n",
    "\n",
    "## 8. pre 모델 설계\n",
    "#### pre 모델 fitting"
   ]
  },
  {
   "cell_type": "markdown",
   "id": "peaceful-correlation",
   "metadata": {},
   "source": [
    "#### pre 모델의 데이터 하나 태워보기(model의 input shape 를 결정해주기 위해)"
   ]
  },
  {
   "cell_type": "code",
   "execution_count": 20,
   "id": "little-going",
   "metadata": {},
   "outputs": [
    {
     "data": {
      "text/plain": [
       "<tf.Tensor: shape=(256, 14, 12001), dtype=float32, numpy=\n",
       "array([[[-2.0317241e-04, -2.5559606e-05, -4.7952338e-04, ...,\n",
       "          2.1788914e-04,  3.9630988e-05, -2.5226977e-05],\n",
       "        [-5.0932477e-04, -5.6573808e-05, -1.1287603e-03, ...,\n",
       "          5.4695131e-04,  1.0200389e-04, -2.8908536e-05],\n",
       "        [-8.5295032e-04, -8.1827849e-05, -1.7949137e-03, ...,\n",
       "          9.2173007e-04,  1.7193821e-04,  1.4279407e-05],\n",
       "        ...,\n",
       "        [-2.3930548e-03, -9.1212214e-04, -4.4644714e-04, ...,\n",
       "          2.3634520e-03,  3.1121477e-04,  1.6755589e-03],\n",
       "        [-2.3162386e-03, -9.5846265e-04, -4.6283709e-05, ...,\n",
       "          2.3083701e-03,  1.0119086e-04,  1.7188183e-03],\n",
       "        [-1.9926617e-03, -6.0117466e-04,  4.9329805e-04, ...,\n",
       "          1.9777031e-03, -9.8706230e-05,  2.0043598e-03]],\n",
       "\n",
       "       [[-2.0317241e-04, -2.5559606e-05, -4.7952338e-04, ...,\n",
       "          2.1788914e-04,  3.9630988e-05, -2.5226977e-05],\n",
       "        [-5.0932477e-04, -5.6573808e-05, -1.1287603e-03, ...,\n",
       "          5.4695131e-04,  1.0200389e-04, -2.8908536e-05],\n",
       "        [-8.5295032e-04, -8.1827849e-05, -1.7949137e-03, ...,\n",
       "          9.2173007e-04,  1.7193821e-04,  1.4279407e-05],\n",
       "        ...,\n",
       "        [-2.1914225e-03, -5.1093503e-04, -1.8009621e-03, ...,\n",
       "          1.7494600e-03,  1.5259667e-04,  1.1196668e-03],\n",
       "        [-2.2909914e-03, -3.7553174e-05, -1.1708289e-03, ...,\n",
       "          1.7589584e-03, -1.1785356e-04,  1.5868234e-03],\n",
       "        [-2.1401651e-03,  8.1683102e-04, -3.6589766e-04, ...,\n",
       "          1.8497680e-03, -1.5369439e-04,  1.9139959e-03]],\n",
       "\n",
       "       [[-2.0317241e-04, -2.5559606e-05, -4.7952338e-04, ...,\n",
       "          2.1788914e-04,  3.9630988e-05, -2.5226977e-05],\n",
       "        [-5.0932477e-04, -5.6573808e-05, -1.1287603e-03, ...,\n",
       "          5.4695131e-04,  1.0200389e-04, -2.8908536e-05],\n",
       "        [-8.5295032e-04, -8.1827849e-05, -1.7949137e-03, ...,\n",
       "          9.2173007e-04,  1.7193821e-04,  1.4279407e-05],\n",
       "        ...,\n",
       "        [-1.6135651e-03, -8.0012152e-04, -6.8493787e-04, ...,\n",
       "          1.9585316e-03, -8.5844280e-04,  7.4407937e-05],\n",
       "        [-9.5855573e-04, -4.9723213e-04, -2.7766413e-04, ...,\n",
       "          2.0978015e-03, -8.8156387e-04,  2.7540172e-04],\n",
       "        [-4.7661419e-04, -5.0275616e-04, -1.5268901e-04, ...,\n",
       "          2.1045615e-03, -5.5081403e-04,  4.7274003e-05]],\n",
       "\n",
       "       ...,\n",
       "\n",
       "       [[-4.2421019e-04, -4.4210436e-04,  1.4688983e-04, ...,\n",
       "         -2.4318384e-05,  5.4875443e-05, -5.2941480e-04],\n",
       "        [-8.9591614e-04, -9.2407665e-04,  4.8648822e-04, ...,\n",
       "         -3.7758346e-04,  2.6021610e-04, -6.3443778e-04],\n",
       "        [-1.4909039e-03, -1.3382360e-03,  5.7013467e-04, ...,\n",
       "         -2.0539209e-04,  5.2911608e-05, -9.7451062e-04],\n",
       "        ...,\n",
       "        [-2.4066451e-03, -1.4663363e-03,  8.4225176e-04, ...,\n",
       "          1.9855548e-03,  4.0488230e-04,  4.4940633e-04],\n",
       "        [-2.3512295e-03, -1.6272414e-03,  1.0800986e-03, ...,\n",
       "          1.7001925e-03,  5.7168439e-04,  6.2779349e-04],\n",
       "        [-2.0304739e-03, -1.9387526e-03,  1.1659856e-03, ...,\n",
       "          1.3143806e-03,  6.0616585e-04,  6.7086593e-04]],\n",
       "\n",
       "       [[-2.0317241e-04, -2.5559606e-05, -4.7952338e-04, ...,\n",
       "          2.1788914e-04,  3.9630988e-05, -2.5226977e-05],\n",
       "        [-5.0932477e-04, -5.6573808e-05, -1.1287603e-03, ...,\n",
       "          5.4695131e-04,  1.0200389e-04, -2.8908536e-05],\n",
       "        [-8.5295032e-04, -8.1827849e-05, -1.7949137e-03, ...,\n",
       "          9.2173007e-04,  1.7193821e-04,  1.4279407e-05],\n",
       "        ...,\n",
       "        [-1.8190019e-03, -4.2765570e-04, -7.6152768e-04, ...,\n",
       "          9.5526950e-04,  3.6482708e-04,  4.4943337e-04],\n",
       "        [-1.8291430e-03, -1.3384011e-04, -6.1617349e-04, ...,\n",
       "          9.3599991e-04, -1.5369238e-05,  8.4538682e-04],\n",
       "        [-1.6368213e-03,  1.7793101e-04, -5.7531585e-04, ...,\n",
       "          5.8665307e-04, -2.2999512e-04,  1.0185051e-03]],\n",
       "\n",
       "       [[-2.0317241e-04, -2.5559606e-05, -4.7952338e-04, ...,\n",
       "          2.1788914e-04,  3.9630988e-05, -2.5226977e-05],\n",
       "        [-5.0932477e-04, -5.6573808e-05, -1.1287603e-03, ...,\n",
       "          5.4695131e-04,  1.0200389e-04, -2.8908536e-05],\n",
       "        [-8.5295032e-04, -8.1827849e-05, -1.7949137e-03, ...,\n",
       "          9.2173007e-04,  1.7193821e-04,  1.4279407e-05],\n",
       "        ...,\n",
       "        [-3.5486193e-03, -1.2230634e-03, -1.9233072e-03, ...,\n",
       "          2.1859449e-03,  6.0898729e-04,  1.1035489e-03],\n",
       "        [-3.2607920e-03, -1.3058542e-03, -1.3054742e-03, ...,\n",
       "          1.8505451e-03,  5.6851032e-04,  1.0129722e-03],\n",
       "        [-3.1579614e-03, -1.2432837e-03, -1.0115579e-03, ...,\n",
       "          1.2531425e-03,  2.1554220e-04,  1.3360603e-03]]], dtype=float32)>"
      ]
     },
     "execution_count": 20,
     "metadata": {},
     "output_type": "execute_result"
    }
   ],
   "source": [
    "model_pre = TextGenerator(tokenizer.num_words + 1, embedding_size , hidden_size)  # model 설계\n",
    "\n",
    "for enc_pre_train, dec_pre_train in dataset_pre.take(1): break  # dataset.take 하나를 불러와\n",
    "model_pre(enc_pre_train)  # 태워봄으로써 shape를 맞춰줌"
   ]
  },
  {
   "cell_type": "markdown",
   "id": "royal-pakistan",
   "metadata": {},
   "source": [
    "#### pre 모델 설계"
   ]
  },
  {
   "cell_type": "code",
   "execution_count": 21,
   "id": "romantic-monroe",
   "metadata": {},
   "outputs": [
    {
     "name": "stdout",
     "output_type": "stream",
     "text": [
      "Model: \"text_generator_1\"\n",
      "_________________________________________________________________\n",
      "Layer (type)                 Output Shape              Param #   \n",
      "=================================================================\n",
      "embedding_1 (Embedding)      multiple                  6144512   \n",
      "_________________________________________________________________\n",
      "lstm_2 (LSTM)                multiple                  20979712  \n",
      "_________________________________________________________________\n",
      "lstm_3 (LSTM)                multiple                  33562624  \n",
      "_________________________________________________________________\n",
      "dense_1 (Dense)              multiple                  24590049  \n",
      "=================================================================\n",
      "Total params: 85,276,897\n",
      "Trainable params: 85,276,897\n",
      "Non-trainable params: 0\n",
      "_________________________________________________________________\n"
     ]
    }
   ],
   "source": [
    "model_pre.summary()  "
   ]
  },
  {
   "cell_type": "markdown",
   "id": "conditional-charles",
   "metadata": {},
   "source": [
    "#### pre 모델 fitting"
   ]
  },
  {
   "cell_type": "code",
   "execution_count": 23,
   "id": "hollywood-converter",
   "metadata": {},
   "outputs": [
    {
     "name": "stdout",
     "output_type": "stream",
     "text": [
      "Epoch 1/10\n",
      "488/488 [==============================] - ETA: 0s - loss: 1.7863 - accuracy: 0.6167\n",
      "Epoch 00001: val_loss improved from inf to 2.36719, saving model to /home/aiffel-dj63/aiffel/lyricist/models/post_skip\n",
      "488/488 [==============================] - 238s 488ms/step - loss: 1.7863 - accuracy: 0.6167 - val_loss: 2.3672 - val_accuracy: 0.5746\n",
      "Epoch 2/10\n",
      "488/488 [==============================] - ETA: 0s - loss: 1.5996 - accuracy: 0.6472\n",
      "Epoch 00002: val_loss improved from 2.36719 to 2.36517, saving model to /home/aiffel-dj63/aiffel/lyricist/models/post_skip\n",
      "488/488 [==============================] - 237s 485ms/step - loss: 1.5996 - accuracy: 0.6472 - val_loss: 2.3652 - val_accuracy: 0.5861\n",
      "Epoch 3/10\n",
      "488/488 [==============================] - ETA: 0s - loss: 1.4663 - accuracy: 0.6726\n",
      "Epoch 00003: val_loss improved from 2.36517 to 2.35540, saving model to /home/aiffel-dj63/aiffel/lyricist/models/post_skip\n",
      "488/488 [==============================] - 231s 474ms/step - loss: 1.4663 - accuracy: 0.6726 - val_loss: 2.3554 - val_accuracy: 0.5982\n",
      "Epoch 4/10\n",
      "488/488 [==============================] - ETA: 0s - loss: 1.3443 - accuracy: 0.6979\n",
      "Epoch 00004: val_loss improved from 2.35540 to 2.35329, saving model to /home/aiffel-dj63/aiffel/lyricist/models/post_skip\n",
      "488/488 [==============================] - 236s 484ms/step - loss: 1.3443 - accuracy: 0.6979 - val_loss: 2.3533 - val_accuracy: 0.6087\n",
      "Epoch 5/10\n",
      "488/488 [==============================] - ETA: 0s - loss: 1.2342 - accuracy: 0.7213\n",
      "Epoch 00005: val_loss did not improve from 2.35329\n",
      "488/488 [==============================] - 234s 479ms/step - loss: 1.2342 - accuracy: 0.7213 - val_loss: 2.3533 - val_accuracy: 0.6164\n",
      "Epoch 6/10\n",
      "488/488 [==============================] - ETA: 0s - loss: 1.1410 - accuracy: 0.7414\n",
      "Epoch 00006: val_loss did not improve from 2.35329\n",
      "488/488 [==============================] - 206s 422ms/step - loss: 1.1410 - accuracy: 0.7414 - val_loss: 2.3654 - val_accuracy: 0.6234\n",
      "Epoch 7/10\n",
      "488/488 [==============================] - ETA: 0s - loss: 1.0676 - accuracy: 0.7571\n",
      "Epoch 00007: val_loss did not improve from 2.35329\n",
      "488/488 [==============================] - 207s 424ms/step - loss: 1.0676 - accuracy: 0.7571 - val_loss: 2.3854 - val_accuracy: 0.6274\n",
      "Epoch 8/10\n",
      "488/488 [==============================] - ETA: 0s - loss: 1.0146 - accuracy: 0.7671\n",
      "Epoch 00008: val_loss did not improve from 2.35329\n",
      "488/488 [==============================] - 225s 462ms/step - loss: 1.0146 - accuracy: 0.7671 - val_loss: 2.4040 - val_accuracy: 0.6295\n",
      "Epoch 9/10\n",
      "488/488 [==============================] - ETA: 0s - loss: 0.9782 - accuracy: 0.7736\n",
      "Epoch 00009: val_loss did not improve from 2.35329\n",
      "488/488 [==============================] - 210s 429ms/step - loss: 0.9782 - accuracy: 0.7736 - val_loss: 2.4306 - val_accuracy: 0.6322\n",
      "Epoch 10/10\n",
      "488/488 [==============================] - ETA: 0s - loss: 0.9531 - accuracy: 0.7776\n",
      "Epoch 00010: val_loss did not improve from 2.35329\n",
      "488/488 [==============================] - 214s 438ms/step - loss: 0.9531 - accuracy: 0.7776 - val_loss: 2.4573 - val_accuracy: 0.6328\n"
     ]
    }
   ],
   "source": [
    "# validation 할 pre dataset 구성\n",
    "dataset_pre_val = tf.data.Dataset.from_tensor_slices((enc_pre_val, dec_pre_val)).shuffle(BUFFER_SIZE_pre)\n",
    "dataset_pre_val = dataset_pre_val.batch(BATCH_SIZE_pre, drop_remainder=True)\n",
    "\n",
    "optimizer = tf.keras.optimizers.Adam()  # otimizer 구성\n",
    "\n",
    "loss = tf.keras.losses.SparseCategoricalCrossentropy(  # loss 구성\n",
    "    from_logits=True, reduction='none')\n",
    "\n",
    "# check 포인트 만들기\n",
    "checkpoint_dir = os.getenv('HOME')+'/aiffel/lyricist/models/post_skip'\n",
    "cp_callback = tf.keras.callbacks.ModelCheckpoint(checkpoint_dir,\n",
    "                                                 save_weights_only=True,\n",
    "                                                 monitor='val_loss',\n",
    "                                                 mode='auto',\n",
    "                                                 save_best_only=True,\n",
    "                                                 verbose=1)\n",
    "\n",
    "model_pre.compile(loss=loss, optimizer=optimizer, metrics=['accuracy'])  # model compile\n",
    "history_pre = model_pre.fit(dataset_pre, epochs=10,  # model fitting\n",
    "                            validation_data=dataset_pre_val,\n",
    "                            callbacks=[cp_callback])  "
   ]
  },
  {
   "cell_type": "markdown",
   "id": "numeric-concept",
   "metadata": {},
   "source": [
    "## 시각화"
   ]
  },
  {
   "cell_type": "code",
   "execution_count": 24,
   "id": "considered-ranking",
   "metadata": {},
   "outputs": [
    {
     "data": {
      "image/png": "[encoded data removed]",
      "text/plain": [
       "<Figure size 576x576 with 2 Axes>"
      ]
     },
     "metadata": {
      "needs_background": "light"
     },
     "output_type": "display_data"
    }
   ],
   "source": [
    "import matplotlib.pyplot as plt\n",
    "\n",
    "acc = history_pre.history['accuracy']\n",
    "val_acc = history_pre.history['val_accuracy']\n",
    "\n",
    "loss=history_pre.history['loss']\n",
    "val_loss=history_pre.history['val_loss']\n",
    "\n",
    "epochs_range = range(len(acc))\n",
    "\n",
    "plt.figure(figsize=(8, 8))\n",
    "plt.subplot(1, 2, 1)\n",
    "plt.plot(epochs_range, acc, label='Training Accuracy')\n",
    "plt.plot(epochs_range, val_acc, label='Validation Accuracy')\n",
    "plt.legend(loc='lower right')\n",
    "plt.title('Training and Validation Accuracy')\n",
    "\n",
    "plt.subplot(1, 2, 2)\n",
    "plt.plot(epochs_range, loss, label='Training Loss')\n",
    "plt.plot(epochs_range, val_loss, label='Validation Loss')\n",
    "plt.legend(loc='upper right')\n",
    "plt.title('Training and Validation Loss')\n",
    "plt.show()"
   ]
  },
  {
   "cell_type": "markdown",
   "id": "immune-naples",
   "metadata": {},
   "source": [
    "## 9. pre 모델로 가사 만들어보기"
   ]
  },
  {
   "cell_type": "code",
   "execution_count": 25,
   "id": "criminal-subject",
   "metadata": {},
   "outputs": [
    {
     "data": {
      "text/plain": [
       "'<start> i love you , i love you , can t you see ? <end> '"
      ]
     },
     "execution_count": 25,
     "metadata": {},
     "output_type": "execute_result"
    }
   ],
   "source": [
    "generate_text(model_pre, tokenizer, init_sentence=\"<start> i love\", max_len=15)  # <start> i love 다음 어떤 문장이 올지 예측!"
   ]
  },
  {
   "attachments": {
    "image.png": {
     "image/png": "[encoded data removed]"
    }
   },
   "cell_type": "markdown",
   "id": "attended-duration",
   "metadata": {},
   "source": [
    "감미롭다..!\n",
    "\n",
    "<br/>\n",
    "\n",
    "## 분석\n",
    "\n",
    "post모델과 pre모델 둘 다 돌려본 결과 이번 프로젝트에서는 post모델의 loss가 pre모델의 loss보다 낮게 나왔다. (post모델은 validation loss가 최저일 때가 2.1382, pre모델은 validation loss가 최저일 때가 2.3533) \n",
    "\n",
    "=> 직관적으로 해석해보았다. 이번의 RNN의 문제 해결방식은 Many to Many이다.\n",
    "![image.png](attachment:image.png)\n",
    "[출처](http://cs231n.stanford.edu/slides/2018/cs231n_2018_lecture10.pdf) <br/>\n",
    "Pre 방식은 앞에서부터 패딩을 하므로 앞에서부터 0을 넣게 되어 중요한 정보가 뒤에 밀리게 될 것이다. <br/>\n",
    "Post 방식은 뒤에서부터 패딩을 하므로 뒤에서부터 0을 넣게 되어 중요한 정보가 앞으로 밀리게 될 것이다. <br/> <br/>\n",
    "우리는 주어진 세 토큰(\\<start\\> i love)을 토대로 그 문장을 이어나가려고 한다. 이때, 앞에 중요한 정보가 더 많아야 문장을 자연스럽게 이어나갈 수 있을 것이다. 따라서, Post방식을 이용해야 Loss가 더 낮게 나올 수 있을 것을 직관적으로 이해할 수 있다.\n",
    "\n",
    "\n",
    "\n",
    "## 회고\n",
    "\n",
    "하이퍼 파라미터의 조절 <br/> <br/>\n",
    "    \n",
    "embedding_size (워드 벡터의 차원수, 단어가 추상적으로 표현되는 크기) = 512 <br/>\n",
    ": 처음에 256 값을 대입하였더니 loss값이 크게 나왔다. 워드벡터가 12000으로 7000보다 커졌으므로 256보다는 큰 512를 설정해주기로 하였다. \n",
    "\n",
    "<br/>\n",
    "\n",
    "hidden_size (hidden state의 차원수, 결정을 내리는 수의 크기) = 2048 <br/>\n",
    ": 처음에 1024 값을 대입하였더니 loss값이 크게 나왔다. 이 부분도 마찬가지로 워드벡터가 12000으로 7000보다 커졌으므로 1024보다는 큰 2048를 설정해주기로 하였다. \n",
    "\n",
    "\n",
    "\n",
    "\n",
    "## 루브릭\n",
    "#### 텍스트 제너레이션 결과가 그럴듯한 문장으로 생성되는가?\n",
    "- post 모델: i love you , liberian girl \n",
    "- pre 모델: i love you , i love you , can t you see ?\n",
    "\n",
    "#### 특수문자 제거, 토크나이저 생성, 패딩처리 등의 과정이 빠짐없이 진행되었는가?\n",
    "- 특수문자 제거: 2. 정규표현식으로 지워주기에서 제거해주었다.\n",
    "- 토크나이저 생성: 3. 데이터 정제 토큰화를 진행해주었다.\n",
    "- 패딩처리: 3. 데이터 정제 토큰화를 과정에서 post모델과 pre모델 둘 다 진행해주었다.\n",
    "\n",
    "#### 텍스트 생성모델의 validation loss가 2.2 이하로 낮아졌는가?\n",
    "- post모델: validation loss가 최저일 때가 2.1382이었다.\n",
    "- pre모델: validation loss가 최저일 때가 2.3533이었다."
   ]
  },
  {
   "cell_type": "code",
   "execution_count": null,
   "id": "considered-elephant",
   "metadata": {},
   "outputs": [],
   "source": []
  }
 ],
 "metadata": {
  "kernelspec": {
   "display_name": "aiffel",
   "language": "python",
   "name": "aiffel"
  },
  "language_info": {
   "codemirror_mode": {
    "name": "ipython",
    "version": 3
   },
   "file_extension": ".py",
   "mimetype": "text/x-python",
   "name": "python",
   "nbconvert_exporter": "python",
   "pygments_lexer": "ipython3",
   "version": "3.7.9"
  }
 },
 "nbformat": 4,
 "nbformat_minor": 5
}
